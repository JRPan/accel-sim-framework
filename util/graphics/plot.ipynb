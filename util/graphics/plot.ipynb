{
 "cells": [
  {
   "cell_type": "code",
   "execution_count": 2,
   "metadata": {},
   "outputs": [
    {
     "name": "stderr",
     "output_type": "stream",
     "text": [
      "\n",
      "****************************************************************\n",
      "*****        Multi-factor authentication required         ******\n",
      "****************************************************************\n",
      "\n"
     ]
    },
    {
     "name": "stdout",
     "output_type": "stream",
     "text": [
      "receiving file list ... \n",
      "21 files to consider\n",
      "platformer_2k.csv\n",
      "     9656429 100%    7.02MB/s    0:00:01 (xfer#1, to-check=8/21)\n",
      "platformer_4k.csv\n",
      "     9634218 100%    5.46MB/s    0:00:01 (xfer#2, to-check=7/21)\n",
      "\n",
      "sent 60 bytes  received 19295995 bytes  5513158.57 bytes/sec\n",
      "total size is 74490521  speedup is 3.86\n"
     ]
    },
    {
     "data": {
      "text/plain": [
       "0"
      ]
     },
     "execution_count": 2,
     "metadata": {},
     "output_type": "execute_result"
    }
   ],
   "source": [
    "#! /usr/bin/env python3\n",
    "\n",
    "import pandas as pd\n",
    "import numpy as np\n",
    "import os\n",
    "\n",
    "os.system(\n",
    "    \"rsync -aP raid:/home/tgrogers-raid/a/pan251/accel-sim-framework/*.csv ../../\"\n",
    ")"
   ]
  },
  {
   "cell_type": "code",
   "execution_count": 30,
   "metadata": {},
   "outputs": [
    {
     "data": {
      "text/plain": [
       "['Accel-Sim-build',\n",
       " 'GPGPU-Sim-build',\n",
       " 'gpu_tot_sim_insn\\\\s*=\\\\s*(.*)',\n",
       " 'gpu_tot_sim_cycle\\\\s*=\\\\s*(.*)',\n",
       " '\\\\s+L2_cache_stats_breakdown\\\\[GLOBAL_ACC_R\\\\]\\\\[HIT\\\\]\\\\s*=\\\\s*(.*)',\n",
       " '\\\\s+L2_cache_stats_breakdown\\\\[GLOBAL_ACC_R\\\\]\\\\[MISS\\\\]\\\\s*=\\\\s*(.*)',\n",
       " '\\\\s+L2_cache_stats_breakdown\\\\[GLOBAL_ACC_R\\\\]\\\\[TOTAL_ACCESS\\\\]\\\\s*=\\\\s*(.*)',\n",
       " '\\\\s+L2_cache_stats_breakdown\\\\[GLOBAL_ACC_W\\\\]\\\\[HIT\\\\]\\\\s*=\\\\s*(.*)',\n",
       " '\\\\s+L2_cache_stats_breakdown\\\\[GLOBAL_ACC_W\\\\]\\\\[MISS\\\\]\\\\s*=\\\\s*(.*)',\n",
       " '\\\\s+L2_cache_stats_breakdown\\\\[GLOBAL_ACC_W\\\\]\\\\[TOTAL_ACCESS\\\\]\\\\s*=\\\\s*(.*)',\n",
       " '\\\\s+L2_cache_stats_breakdown\\\\[TEXTURE_ACC_R\\\\]\\\\[MISS\\\\]\\\\s*=\\\\s*(.*)',\n",
       " '\\\\s+L2_cache_stats_breakdown\\\\[TEXTURE_ACC_R\\\\]\\\\[TOTAL_ACCESS\\\\]\\\\s*=\\\\s*(.*)',\n",
       " '\\\\s+Total_core_cache_stats_breakdown\\\\[GLOBAL_ACC_R\\\\]\\\\[HIT\\\\]\\\\s*=\\\\s*(.*)',\n",
       " '\\\\s+Total_core_cache_stats_breakdown\\\\[GLOBAL_ACC_R\\\\]\\\\[MSHR_HIT\\\\]\\\\s*=\\\\s*(.*)',\n",
       " '\\\\s+Total_core_cache_stats_breakdown\\\\[GLOBAL_ACC_R\\\\]\\\\[MISS\\\\]\\\\s*=\\\\s*(.*)',\n",
       " '\\\\s+Total_core_cache_stats_breakdown\\\\[GLOBAL_ACC_R\\\\]\\\\[TOTAL_ACCESS\\\\]\\\\s*=\\\\s*(.*)',\n",
       " '\\\\s+Total_core_cache_stats_breakdown\\\\[GLOBAL_ACC_W\\\\]\\\\[HIT\\\\]\\\\s*=\\\\s*(.*)',\n",
       " '\\\\s+Total_core_cache_stats_breakdown\\\\[GLOBAL_ACC_W\\\\]\\\\[MSHR_HIT\\\\]\\\\s*=\\\\s*(.*)',\n",
       " '\\\\s+Total_core_cache_stats_breakdown\\\\[GLOBAL_ACC_W\\\\]\\\\[MISS\\\\]\\\\s*=\\\\s*(.*)',\n",
       " '\\\\s+Total_core_cache_stats_breakdown\\\\[GLOBAL_ACC_W\\\\]\\\\[TOTAL_ACCESS\\\\]\\\\s*=\\\\s*(.*)',\n",
       " '\\\\s+Total_core_cache_stats_breakdown\\\\[TEXTURE_ACC_R\\\\]\\\\[HIT\\\\]\\\\s*=\\\\s*(.*)',\n",
       " '\\\\s+Total_core_cache_stats_breakdown\\\\[TEXTURE_ACC_R\\\\]\\\\[HIT_RESERVED\\\\]\\\\s*=\\\\s*(.*)',\n",
       " '\\\\s+Total_core_cache_stats_breakdown\\\\[TEXTURE_ACC_R\\\\]\\\\[MISS\\\\]\\\\s*=\\\\s*(.*)',\n",
       " '\\\\s+Total_core_cache_stats_breakdown\\\\[TEXTURE_ACC_R\\\\]\\\\[TOTAL_ACCESS\\\\]\\\\s*=\\\\s*(.*)',\n",
       " 'gpu_sim_insn\\\\s*=\\\\s*(.*)',\n",
       " 'gpu_sim_cycle\\\\s*=\\\\s*(.*)',\n",
       " 'gpu_ipc\\\\s*=\\\\s*(.*)',\n",
       " 'gpu_tot_ipc\\\\s*=\\\\s*(.*)',\n",
       " 'gpu_occupancy\\\\s*=\\\\s*(.*)%',\n",
       " 'gpu_tot_occupancy\\\\s*=\\\\s*(.*)%',\n",
       " 'total dram reads\\\\s*=\\\\s*(.*)',\n",
       " 'total dram writes\\\\s*=\\\\s*(.*)',\n",
       " 'kernel_launch_uid\\\\s*=\\\\s*(.*)',\n",
       " 'L2_BW\\\\s*=\\\\s*(.*)GB\\\\/Sec',\n",
       " 'L2_BW_total\\\\s*=\\\\s*(.*)GB\\\\/Sec',\n",
       " 'gpgpu_simulation_rate\\\\s+=\\\\s+(.*)\\\\s+\\\\(inst\\\\/sec\\\\)']"
      ]
     },
     "execution_count": 30,
     "metadata": {},
     "output_type": "execute_result"
    }
   ],
   "source": [
    "#! /usr/bin/env python3\n",
    "\n",
    "import csv\n",
    "\n",
    "\n",
    "def get_csv_data_for_merge(filepath):\n",
    "    all_named_kernels = {}\n",
    "    stat_map = {}\n",
    "    apps = []\n",
    "    cached_apps = []\n",
    "    configs = []\n",
    "    cached_configs = []\n",
    "    stats = []\n",
    "    gpgpu_build_num = None\n",
    "    gpgpu_build_nums = set()\n",
    "    accel_build_num = None\n",
    "    accel_build_nums = set()\n",
    "    data = {}\n",
    "    with open(filepath, \"r\") as data_file:\n",
    "        reader = csv.reader(data_file)  # define reader object\n",
    "        state = \"start\"\n",
    "        for row in reader:  # loop through rows in csv file\n",
    "            if len(row) != 0 and row[0].startswith(\"----\"):\n",
    "                state = \"find-stat\"\n",
    "                continue\n",
    "            if state == \"find-stat\":\n",
    "                current_stat = row[0]\n",
    "                stats.append(current_stat)\n",
    "                state = \"find-apps\"\n",
    "                continue\n",
    "            if state == \"find-apps\":\n",
    "                apps = row[1:]\n",
    "                state = \"process-cfgs\"\n",
    "                continue\n",
    "            if state == \"process-cfgs\":\n",
    "                if len(row) == 0:\n",
    "                    if any_data:\n",
    "                        cached_apps = apps\n",
    "                        cached_configs = configs\n",
    "                        for config in configs:\n",
    "                            count = 0\n",
    "                            for appargs_kname in apps:\n",
    "                                first_delimiter = appargs_kname.find(\"--\")\n",
    "                                appargs = appargs_kname[:first_delimiter]\n",
    "                                kname = appargs_kname[first_delimiter + 2 :]\n",
    "                                if (\n",
    "                                    current_stat == \"GPGPU-Sim-build\"\n",
    "                                    and data[config][count] != \"NA\"\n",
    "                                ):\n",
    "                                    gpgpu_build_num = data[config][count][21:28]\n",
    "                                    gpgpu_build_nums.add(gpgpu_build_num)\n",
    "                                if (\n",
    "                                    current_stat == \"Accel-Sim-build\"\n",
    "                                    and data[config][count] != \"NA\"\n",
    "                                ):\n",
    "                                    accel_build_num = data[config][count][16:23]\n",
    "                                    accel_build_nums.add(accel_build_num)\n",
    "                                stat_map[\n",
    "                                    kname + appargs + config + current_stat\n",
    "                                ] = data[config][count]\n",
    "                                count += 1\n",
    "                    apps = []\n",
    "                    configs = []\n",
    "                    data = {}\n",
    "                    state = \"start\"\n",
    "                    any_data = False\n",
    "                    continue\n",
    "                else:\n",
    "                    any_data = True\n",
    "                    if accel_build_num != None and gpgpu_build_num != None:\n",
    "                        full_config = (\n",
    "                            row[0]\n",
    "                            # + \"-accel-\"\n",
    "                            # + str(accel_build_num)\n",
    "                            # + \"-gpgpu-\"\n",
    "                            # + str(gpgpu_build_num)\n",
    "                        )\n",
    "                    else:\n",
    "                        full_config = row[0]\n",
    "                    configs.append(full_config)\n",
    "                    data[full_config] = row[1:]\n",
    "\n",
    "    app_and_args = []\n",
    "    for appargs_kname in cached_apps:\n",
    "        first_delimiter = appargs_kname.find(\"--\")\n",
    "        appargs = appargs_kname[:first_delimiter]\n",
    "        kname = appargs_kname[first_delimiter + 2 :]\n",
    "        if appargs not in all_named_kernels:\n",
    "            all_named_kernels[appargs] = []\n",
    "            app_and_args.append(appargs)\n",
    "        all_named_kernels[appargs].append(kname)\n",
    "\n",
    "    # The assumption here is that every entry in each stats file is run with the same\n",
    "    # git hash number, if not we are just going to warn and fail.\n",
    "    if len(gpgpu_build_nums) > 1 or len(accel_build_nums) > 1:\n",
    "        exit(\n",
    "            \"File {0} contains more than one gpgpu_build_num or accelsim_build_num - this assumes one stats file has one build num: gpgpu: {1}\"\n",
    "            + \" accel: {2}\".format(filepath, gpgpu_build_nums, accel_build_nums)\n",
    "        )\n",
    "    return (\n",
    "        all_named_kernels,\n",
    "        stat_map,\n",
    "        app_and_args,\n",
    "        cached_configs,\n",
    "        stats,\n",
    "        gpgpu_build_nums,\n",
    "    )\n",
    "\n",
    "wl = 'pbrtexture_2k'\n",
    "(\n",
    "    all_named_kernels,\n",
    "    stat_map,\n",
    "    apps_and_args,\n",
    "    configs,\n",
    "    stats,\n",
    "    gpgpu_build_nums,\n",
    ") = get_csv_data_for_merge(\"../../\" + wl + \".csv\")\n",
    "\n",
    "# workloads = [\"sponza_2k\", \"sponza_4k\"]\n",
    "# workloads = [\"pbrtexture_2k\",\"pbrtexture_4k\",\"instancing_2k\",\"instancing_4k\",\"render_passes_2k\",\"render_passes_4k\"]\n",
    "workloads = [\"pbrtexture_2k\",\"pbrtexture_4k\",\"instancing_2k\",\"instancing_4k\",\"render_passes_2k\",\"render_passes_4k\", \"sponza_2k\", \"sponza_4k\", \"materials_2k\", \"materials_4k\", \"platformer_2k\", \"platformer_4k\"]\n",
    "wl_to_name = {\n",
    "    \"pbrtexture_2k\": \"PT2\",\n",
    "    \"pbrtexture_4k\": \"PT4\",\n",
    "    \"instancing_2k\": \"IT2\",\n",
    "    \"instancing_4k\": \"IT4\",\n",
    "    \"render_passes_2k\": \"SPL2\",\n",
    "    \"render_passes_4k\": \"SPL4\",\n",
    "    \"sponza_2k\": \"SPH2\",\n",
    "    \"sponza_4k\": \"SPH4\",\n",
    "    \"materials_2k\": \"MT2\",\n",
    "    \"materials_4k\": \"MT4\",\n",
    "    \"platformer_2k\": \"PL2\",\n",
    "    \"platformer_4k\": \"PL4\"\n",
    "}\n",
    "\n",
    "stats"
   ]
  },
  {
   "cell_type": "code",
   "execution_count": 71,
   "metadata": {},
   "outputs": [
    {
     "data": {
      "application/vnd.plotly.v1+json": {
       "config": {
        "plotlyServerURL": "https://plot.ly"
       },
       "data": [
        {
         "marker": {
          "pattern": {
           "shape": "x"
          }
         },
         "name": "Frame - cache",
         "type": "bar",
         "x": [
          [
           "pbrtexture_2k",
           "pbrtexture_4k",
           "instancing_2k",
           "instancing_4k",
           "render_passes_2k",
           "render_passes_4k",
           "sponza_2k",
           "sponza_4k",
           "materials_2k",
           "materials_4k",
           "platformer_2k",
           "platformer_4k",
           "pbrtexture_2k",
           "pbrtexture_4k",
           "instancing_2k",
           "instancing_4k",
           "render_passes_2k",
           "render_passes_4k",
           "sponza_2k",
           "sponza_4k",
           "materials_2k",
           "materials_4k",
           "platformer_2k",
           "platformer_4k",
           "pbrtexture_2k",
           "pbrtexture_4k",
           "instancing_2k",
           "instancing_4k",
           "render_passes_2k",
           "render_passes_4k",
           "sponza_2k",
           "sponza_4k",
           "materials_2k",
           "materials_4k",
           "platformer_2k",
           "platformer_4k",
           "pbrtexture_2k",
           "pbrtexture_4k",
           "instancing_2k",
           "instancing_4k",
           "render_passes_2k",
           "render_passes_4k",
           "sponza_2k",
           "sponza_4k",
           "materials_2k",
           "materials_4k",
           "platformer_2k",
           "platformer_4k"
          ],
          [
           "VIO",
           "VIO",
           "VIO",
           "VIO",
           "VIO",
           "VIO",
           "VIO",
           "VIO",
           "VIO",
           "VIO",
           "VIO",
           "VIO",
           "HOLO",
           "HOLO",
           "HOLO",
           "HOLO",
           "HOLO",
           "HOLO",
           "HOLO",
           "HOLO",
           "HOLO",
           "HOLO",
           "HOLO",
           "HOLO",
           "NN",
           "NN",
           "NN",
           "NN",
           "NN",
           "NN",
           "NN",
           "NN",
           "NN",
           "NN",
           "NN",
           "NN",
           "SLAM",
           "SLAM",
           "SLAM",
           "SLAM",
           "SLAM",
           "SLAM",
           "SLAM",
           "SLAM",
           "SLAM",
           "SLAM",
           "SLAM",
           "SLAM"
          ]
         ],
         "y": [
          1.1308775416253007,
          1.1290024843770463,
          1.1986994994113185,
          1.2000444081894417,
          1.2320152207518644,
          1.1146523777267716,
          1.1397974539637734,
          1.05936008200418,
          1.0513518902177097,
          1.0432062930266794,
          1.085314284737265,
          1.0587177455536494,
          1,
          1,
          1,
          1,
          1,
          1,
          1,
          1,
          1,
          1,
          1,
          1,
          1,
          1,
          1,
          1,
          1,
          1,
          1,
          1,
          1,
          1,
          1,
          1,
          1,
          1,
          1,
          1,
          1,
          1,
          1,
          1,
          1,
          1,
          1,
          1
         ]
        },
        {
         "marker": {
          "pattern": {
           "shape": "."
          }
         },
         "name": "Frame - cache + scheduler",
         "type": "bar",
         "x": [
          [
           "pbrtexture_2k",
           "pbrtexture_4k",
           "instancing_2k",
           "instancing_4k",
           "render_passes_2k",
           "render_passes_4k",
           "sponza_2k",
           "sponza_4k",
           "materials_2k",
           "materials_4k",
           "platformer_2k",
           "platformer_4k",
           "pbrtexture_2k",
           "pbrtexture_4k",
           "instancing_2k",
           "instancing_4k",
           "render_passes_2k",
           "render_passes_4k",
           "sponza_2k",
           "sponza_4k",
           "materials_2k",
           "materials_4k",
           "platformer_2k",
           "platformer_4k",
           "pbrtexture_2k",
           "pbrtexture_4k",
           "instancing_2k",
           "instancing_4k",
           "render_passes_2k",
           "render_passes_4k",
           "sponza_2k",
           "sponza_4k",
           "materials_2k",
           "materials_4k",
           "platformer_2k",
           "platformer_4k",
           "pbrtexture_2k",
           "pbrtexture_4k",
           "instancing_2k",
           "instancing_4k",
           "render_passes_2k",
           "render_passes_4k",
           "sponza_2k",
           "sponza_4k",
           "materials_2k",
           "materials_4k",
           "platformer_2k",
           "platformer_4k"
          ],
          [
           "VIO",
           "VIO",
           "VIO",
           "VIO",
           "VIO",
           "VIO",
           "VIO",
           "VIO",
           "VIO",
           "VIO",
           "VIO",
           "VIO",
           "HOLO",
           "HOLO",
           "HOLO",
           "HOLO",
           "HOLO",
           "HOLO",
           "HOLO",
           "HOLO",
           "HOLO",
           "HOLO",
           "HOLO",
           "HOLO",
           "NN",
           "NN",
           "NN",
           "NN",
           "NN",
           "NN",
           "NN",
           "NN",
           "NN",
           "NN",
           "NN",
           "NN",
           "SLAM",
           "SLAM",
           "SLAM",
           "SLAM",
           "SLAM",
           "SLAM",
           "SLAM",
           "SLAM",
           "SLAM",
           "SLAM",
           "SLAM",
           "SLAM"
          ]
         ],
         "y": [
          1.1663597124503908,
          1.1306974325394008,
          1.197645461809085,
          1.2018969987736103,
          1.214192949286022,
          1.1179853753400806,
          1.1318947207301506,
          1.0602401298386293,
          1.0377151691647564,
          1.0333112176341854,
          1.0642297794272595,
          1.0367646415705465,
          1,
          1,
          1,
          1,
          1,
          1,
          1,
          1,
          1,
          1,
          1,
          1,
          1,
          1,
          1,
          1,
          1,
          1,
          1,
          1,
          1,
          1,
          1,
          1,
          1,
          1,
          1,
          1,
          1,
          1,
          1,
          1,
          1,
          1,
          1,
          1
         ]
        },
        {
         "marker": {
          "pattern": {
           "shape": "-"
          }
         },
         "name": "Compute - cache",
         "type": "bar",
         "x": [
          [
           "pbrtexture_2k",
           "pbrtexture_4k",
           "instancing_2k",
           "instancing_4k",
           "render_passes_2k",
           "render_passes_4k",
           "sponza_2k",
           "sponza_4k",
           "materials_2k",
           "materials_4k",
           "platformer_2k",
           "platformer_4k",
           "pbrtexture_2k",
           "pbrtexture_4k",
           "instancing_2k",
           "instancing_4k",
           "render_passes_2k",
           "render_passes_4k",
           "sponza_2k",
           "sponza_4k",
           "materials_2k",
           "materials_4k",
           "platformer_2k",
           "platformer_4k",
           "pbrtexture_2k",
           "pbrtexture_4k",
           "instancing_2k",
           "instancing_4k",
           "render_passes_2k",
           "render_passes_4k",
           "sponza_2k",
           "sponza_4k",
           "materials_2k",
           "materials_4k",
           "platformer_2k",
           "platformer_4k",
           "pbrtexture_2k",
           "pbrtexture_4k",
           "instancing_2k",
           "instancing_4k",
           "render_passes_2k",
           "render_passes_4k",
           "sponza_2k",
           "sponza_4k",
           "materials_2k",
           "materials_4k",
           "platformer_2k",
           "platformer_4k"
          ],
          [
           "VIO",
           "VIO",
           "VIO",
           "VIO",
           "VIO",
           "VIO",
           "VIO",
           "VIO",
           "VIO",
           "VIO",
           "VIO",
           "VIO",
           "HOLO",
           "HOLO",
           "HOLO",
           "HOLO",
           "HOLO",
           "HOLO",
           "HOLO",
           "HOLO",
           "HOLO",
           "HOLO",
           "HOLO",
           "HOLO",
           "NN",
           "NN",
           "NN",
           "NN",
           "NN",
           "NN",
           "NN",
           "NN",
           "NN",
           "NN",
           "NN",
           "NN",
           "SLAM",
           "SLAM",
           "SLAM",
           "SLAM",
           "SLAM",
           "SLAM",
           "SLAM",
           "SLAM",
           "SLAM",
           "SLAM",
           "SLAM",
           "SLAM"
          ]
         ],
         "y": [
          1.7938932324325196,
          2.580668225973144,
          1.5324297062194885,
          1.8561103718017027,
          2.103631151069204,
          3.503802768273547,
          4.587400031286053,
          9.749852780453864,
          5.169330067414256,
          7.339086404413304,
          8.86014115440614,
          10.438542479773885,
          1,
          1,
          1,
          1,
          1,
          1,
          1,
          1,
          1,
          1,
          1,
          1,
          1,
          1,
          1,
          1,
          1,
          1,
          1,
          1,
          1,
          1,
          1,
          1,
          1,
          1,
          1,
          1,
          1,
          1,
          1,
          1,
          1,
          1,
          1,
          1
         ]
        },
        {
         "marker": {
          "pattern": {
           "shape": "+"
          }
         },
         "name": "Compute - cache + scheduler",
         "type": "bar",
         "x": [
          [
           "pbrtexture_2k",
           "pbrtexture_4k",
           "instancing_2k",
           "instancing_4k",
           "render_passes_2k",
           "render_passes_4k",
           "sponza_2k",
           "sponza_4k",
           "materials_2k",
           "materials_4k",
           "platformer_2k",
           "platformer_4k",
           "pbrtexture_2k",
           "pbrtexture_4k",
           "instancing_2k",
           "instancing_4k",
           "render_passes_2k",
           "render_passes_4k",
           "sponza_2k",
           "sponza_4k",
           "materials_2k",
           "materials_4k",
           "platformer_2k",
           "platformer_4k",
           "pbrtexture_2k",
           "pbrtexture_4k",
           "instancing_2k",
           "instancing_4k",
           "render_passes_2k",
           "render_passes_4k",
           "sponza_2k",
           "sponza_4k",
           "materials_2k",
           "materials_4k",
           "platformer_2k",
           "platformer_4k",
           "pbrtexture_2k",
           "pbrtexture_4k",
           "instancing_2k",
           "instancing_4k",
           "render_passes_2k",
           "render_passes_4k",
           "sponza_2k",
           "sponza_4k",
           "materials_2k",
           "materials_4k",
           "platformer_2k",
           "platformer_4k"
          ],
          [
           "VIO",
           "VIO",
           "VIO",
           "VIO",
           "VIO",
           "VIO",
           "VIO",
           "VIO",
           "VIO",
           "VIO",
           "VIO",
           "VIO",
           "HOLO",
           "HOLO",
           "HOLO",
           "HOLO",
           "HOLO",
           "HOLO",
           "HOLO",
           "HOLO",
           "HOLO",
           "HOLO",
           "HOLO",
           "HOLO",
           "NN",
           "NN",
           "NN",
           "NN",
           "NN",
           "NN",
           "NN",
           "NN",
           "NN",
           "NN",
           "NN",
           "NN",
           "SLAM",
           "SLAM",
           "SLAM",
           "SLAM",
           "SLAM",
           "SLAM",
           "SLAM",
           "SLAM",
           "SLAM",
           "SLAM",
           "SLAM",
           "SLAM"
          ]
         ],
         "y": [
          2.3018770406367133,
          3.193376992806771,
          1.9398808003290324,
          2.193619748594112,
          2.2153853297025097,
          3.9337463062956637,
          6.517218509011712,
          14.219045994372697,
          5.430069849744367,
          7.942435043687355,
          7.271976034487451,
          7.166877314771148,
          1,
          1,
          1,
          1,
          1,
          1,
          1,
          1,
          1,
          1,
          1,
          1,
          1,
          1,
          1,
          1,
          1,
          1,
          1,
          1,
          1,
          1,
          1,
          1,
          1,
          1,
          1,
          1,
          1,
          1,
          1,
          1,
          1,
          1,
          1,
          1
         ]
        }
       ],
       "layout": {
        "autosize": false,
        "bargap": 0.1,
        "bargroupgap": 0,
        "barmode": "group",
        "height": 400,
        "legend": {
         "font": {
          "size": 20
         },
         "orientation": "h",
         "x": 0.1,
         "xanchor": "left",
         "y": 1,
         "yanchor": "bottom"
        },
        "margin": {
         "b": 150,
         "l": 0,
         "r": 10,
         "t": 20
        },
        "template": {
         "data": {
          "bar": [
           {
            "error_x": {
             "color": "#2a3f5f"
            },
            "error_y": {
             "color": "#2a3f5f"
            },
            "marker": {
             "line": {
              "color": "#E5ECF6",
              "width": 0.5
             },
             "pattern": {
              "fillmode": "overlay",
              "size": 10,
              "solidity": 0.2
             }
            },
            "type": "bar"
           }
          ],
          "barpolar": [
           {
            "marker": {
             "line": {
              "color": "#E5ECF6",
              "width": 0.5
             },
             "pattern": {
              "fillmode": "overlay",
              "size": 10,
              "solidity": 0.2
             }
            },
            "type": "barpolar"
           }
          ],
          "carpet": [
           {
            "aaxis": {
             "endlinecolor": "#2a3f5f",
             "gridcolor": "white",
             "linecolor": "white",
             "minorgridcolor": "white",
             "startlinecolor": "#2a3f5f"
            },
            "baxis": {
             "endlinecolor": "#2a3f5f",
             "gridcolor": "white",
             "linecolor": "white",
             "minorgridcolor": "white",
             "startlinecolor": "#2a3f5f"
            },
            "type": "carpet"
           }
          ],
          "choropleth": [
           {
            "colorbar": {
             "outlinewidth": 0,
             "ticks": ""
            },
            "type": "choropleth"
           }
          ],
          "contour": [
           {
            "colorbar": {
             "outlinewidth": 0,
             "ticks": ""
            },
            "colorscale": [
             [
              0,
              "#0d0887"
             ],
             [
              0.1111111111111111,
              "#46039f"
             ],
             [
              0.2222222222222222,
              "#7201a8"
             ],
             [
              0.3333333333333333,
              "#9c179e"
             ],
             [
              0.4444444444444444,
              "#bd3786"
             ],
             [
              0.5555555555555556,
              "#d8576b"
             ],
             [
              0.6666666666666666,
              "#ed7953"
             ],
             [
              0.7777777777777778,
              "#fb9f3a"
             ],
             [
              0.8888888888888888,
              "#fdca26"
             ],
             [
              1,
              "#f0f921"
             ]
            ],
            "type": "contour"
           }
          ],
          "contourcarpet": [
           {
            "colorbar": {
             "outlinewidth": 0,
             "ticks": ""
            },
            "type": "contourcarpet"
           }
          ],
          "heatmap": [
           {
            "colorbar": {
             "outlinewidth": 0,
             "ticks": ""
            },
            "colorscale": [
             [
              0,
              "#0d0887"
             ],
             [
              0.1111111111111111,
              "#46039f"
             ],
             [
              0.2222222222222222,
              "#7201a8"
             ],
             [
              0.3333333333333333,
              "#9c179e"
             ],
             [
              0.4444444444444444,
              "#bd3786"
             ],
             [
              0.5555555555555556,
              "#d8576b"
             ],
             [
              0.6666666666666666,
              "#ed7953"
             ],
             [
              0.7777777777777778,
              "#fb9f3a"
             ],
             [
              0.8888888888888888,
              "#fdca26"
             ],
             [
              1,
              "#f0f921"
             ]
            ],
            "type": "heatmap"
           }
          ],
          "heatmapgl": [
           {
            "colorbar": {
             "outlinewidth": 0,
             "ticks": ""
            },
            "colorscale": [
             [
              0,
              "#0d0887"
             ],
             [
              0.1111111111111111,
              "#46039f"
             ],
             [
              0.2222222222222222,
              "#7201a8"
             ],
             [
              0.3333333333333333,
              "#9c179e"
             ],
             [
              0.4444444444444444,
              "#bd3786"
             ],
             [
              0.5555555555555556,
              "#d8576b"
             ],
             [
              0.6666666666666666,
              "#ed7953"
             ],
             [
              0.7777777777777778,
              "#fb9f3a"
             ],
             [
              0.8888888888888888,
              "#fdca26"
             ],
             [
              1,
              "#f0f921"
             ]
            ],
            "type": "heatmapgl"
           }
          ],
          "histogram": [
           {
            "marker": {
             "pattern": {
              "fillmode": "overlay",
              "size": 10,
              "solidity": 0.2
             }
            },
            "type": "histogram"
           }
          ],
          "histogram2d": [
           {
            "colorbar": {
             "outlinewidth": 0,
             "ticks": ""
            },
            "colorscale": [
             [
              0,
              "#0d0887"
             ],
             [
              0.1111111111111111,
              "#46039f"
             ],
             [
              0.2222222222222222,
              "#7201a8"
             ],
             [
              0.3333333333333333,
              "#9c179e"
             ],
             [
              0.4444444444444444,
              "#bd3786"
             ],
             [
              0.5555555555555556,
              "#d8576b"
             ],
             [
              0.6666666666666666,
              "#ed7953"
             ],
             [
              0.7777777777777778,
              "#fb9f3a"
             ],
             [
              0.8888888888888888,
              "#fdca26"
             ],
             [
              1,
              "#f0f921"
             ]
            ],
            "type": "histogram2d"
           }
          ],
          "histogram2dcontour": [
           {
            "colorbar": {
             "outlinewidth": 0,
             "ticks": ""
            },
            "colorscale": [
             [
              0,
              "#0d0887"
             ],
             [
              0.1111111111111111,
              "#46039f"
             ],
             [
              0.2222222222222222,
              "#7201a8"
             ],
             [
              0.3333333333333333,
              "#9c179e"
             ],
             [
              0.4444444444444444,
              "#bd3786"
             ],
             [
              0.5555555555555556,
              "#d8576b"
             ],
             [
              0.6666666666666666,
              "#ed7953"
             ],
             [
              0.7777777777777778,
              "#fb9f3a"
             ],
             [
              0.8888888888888888,
              "#fdca26"
             ],
             [
              1,
              "#f0f921"
             ]
            ],
            "type": "histogram2dcontour"
           }
          ],
          "mesh3d": [
           {
            "colorbar": {
             "outlinewidth": 0,
             "ticks": ""
            },
            "type": "mesh3d"
           }
          ],
          "parcoords": [
           {
            "line": {
             "colorbar": {
              "outlinewidth": 0,
              "ticks": ""
             }
            },
            "type": "parcoords"
           }
          ],
          "pie": [
           {
            "automargin": true,
            "type": "pie"
           }
          ],
          "scatter": [
           {
            "fillpattern": {
             "fillmode": "overlay",
             "size": 10,
             "solidity": 0.2
            },
            "type": "scatter"
           }
          ],
          "scatter3d": [
           {
            "line": {
             "colorbar": {
              "outlinewidth": 0,
              "ticks": ""
             }
            },
            "marker": {
             "colorbar": {
              "outlinewidth": 0,
              "ticks": ""
             }
            },
            "type": "scatter3d"
           }
          ],
          "scattercarpet": [
           {
            "marker": {
             "colorbar": {
              "outlinewidth": 0,
              "ticks": ""
             }
            },
            "type": "scattercarpet"
           }
          ],
          "scattergeo": [
           {
            "marker": {
             "colorbar": {
              "outlinewidth": 0,
              "ticks": ""
             }
            },
            "type": "scattergeo"
           }
          ],
          "scattergl": [
           {
            "marker": {
             "colorbar": {
              "outlinewidth": 0,
              "ticks": ""
             }
            },
            "type": "scattergl"
           }
          ],
          "scattermapbox": [
           {
            "marker": {
             "colorbar": {
              "outlinewidth": 0,
              "ticks": ""
             }
            },
            "type": "scattermapbox"
           }
          ],
          "scatterpolar": [
           {
            "marker": {
             "colorbar": {
              "outlinewidth": 0,
              "ticks": ""
             }
            },
            "type": "scatterpolar"
           }
          ],
          "scatterpolargl": [
           {
            "marker": {
             "colorbar": {
              "outlinewidth": 0,
              "ticks": ""
             }
            },
            "type": "scatterpolargl"
           }
          ],
          "scatterternary": [
           {
            "marker": {
             "colorbar": {
              "outlinewidth": 0,
              "ticks": ""
             }
            },
            "type": "scatterternary"
           }
          ],
          "surface": [
           {
            "colorbar": {
             "outlinewidth": 0,
             "ticks": ""
            },
            "colorscale": [
             [
              0,
              "#0d0887"
             ],
             [
              0.1111111111111111,
              "#46039f"
             ],
             [
              0.2222222222222222,
              "#7201a8"
             ],
             [
              0.3333333333333333,
              "#9c179e"
             ],
             [
              0.4444444444444444,
              "#bd3786"
             ],
             [
              0.5555555555555556,
              "#d8576b"
             ],
             [
              0.6666666666666666,
              "#ed7953"
             ],
             [
              0.7777777777777778,
              "#fb9f3a"
             ],
             [
              0.8888888888888888,
              "#fdca26"
             ],
             [
              1,
              "#f0f921"
             ]
            ],
            "type": "surface"
           }
          ],
          "table": [
           {
            "cells": {
             "fill": {
              "color": "#EBF0F8"
             },
             "line": {
              "color": "white"
             }
            },
            "header": {
             "fill": {
              "color": "#C8D4E3"
             },
             "line": {
              "color": "white"
             }
            },
            "type": "table"
           }
          ]
         },
         "layout": {
          "annotationdefaults": {
           "arrowcolor": "#2a3f5f",
           "arrowhead": 0,
           "arrowwidth": 1
          },
          "autotypenumbers": "strict",
          "coloraxis": {
           "colorbar": {
            "outlinewidth": 0,
            "ticks": ""
           }
          },
          "colorscale": {
           "diverging": [
            [
             0,
             "#8e0152"
            ],
            [
             0.1,
             "#c51b7d"
            ],
            [
             0.2,
             "#de77ae"
            ],
            [
             0.3,
             "#f1b6da"
            ],
            [
             0.4,
             "#fde0ef"
            ],
            [
             0.5,
             "#f7f7f7"
            ],
            [
             0.6,
             "#e6f5d0"
            ],
            [
             0.7,
             "#b8e186"
            ],
            [
             0.8,
             "#7fbc41"
            ],
            [
             0.9,
             "#4d9221"
            ],
            [
             1,
             "#276419"
            ]
           ],
           "sequential": [
            [
             0,
             "#0d0887"
            ],
            [
             0.1111111111111111,
             "#46039f"
            ],
            [
             0.2222222222222222,
             "#7201a8"
            ],
            [
             0.3333333333333333,
             "#9c179e"
            ],
            [
             0.4444444444444444,
             "#bd3786"
            ],
            [
             0.5555555555555556,
             "#d8576b"
            ],
            [
             0.6666666666666666,
             "#ed7953"
            ],
            [
             0.7777777777777778,
             "#fb9f3a"
            ],
            [
             0.8888888888888888,
             "#fdca26"
            ],
            [
             1,
             "#f0f921"
            ]
           ],
           "sequentialminus": [
            [
             0,
             "#0d0887"
            ],
            [
             0.1111111111111111,
             "#46039f"
            ],
            [
             0.2222222222222222,
             "#7201a8"
            ],
            [
             0.3333333333333333,
             "#9c179e"
            ],
            [
             0.4444444444444444,
             "#bd3786"
            ],
            [
             0.5555555555555556,
             "#d8576b"
            ],
            [
             0.6666666666666666,
             "#ed7953"
            ],
            [
             0.7777777777777778,
             "#fb9f3a"
            ],
            [
             0.8888888888888888,
             "#fdca26"
            ],
            [
             1,
             "#f0f921"
            ]
           ]
          },
          "colorway": [
           "#636efa",
           "#EF553B",
           "#00cc96",
           "#ab63fa",
           "#FFA15A",
           "#19d3f3",
           "#FF6692",
           "#B6E880",
           "#FF97FF",
           "#FECB52"
          ],
          "font": {
           "color": "#2a3f5f"
          },
          "geo": {
           "bgcolor": "white",
           "lakecolor": "white",
           "landcolor": "#E5ECF6",
           "showlakes": true,
           "showland": true,
           "subunitcolor": "white"
          },
          "hoverlabel": {
           "align": "left"
          },
          "hovermode": "closest",
          "mapbox": {
           "style": "light"
          },
          "paper_bgcolor": "white",
          "plot_bgcolor": "#E5ECF6",
          "polar": {
           "angularaxis": {
            "gridcolor": "white",
            "linecolor": "white",
            "ticks": ""
           },
           "bgcolor": "#E5ECF6",
           "radialaxis": {
            "gridcolor": "white",
            "linecolor": "white",
            "ticks": ""
           }
          },
          "scene": {
           "xaxis": {
            "backgroundcolor": "#E5ECF6",
            "gridcolor": "white",
            "gridwidth": 2,
            "linecolor": "white",
            "showbackground": true,
            "ticks": "",
            "zerolinecolor": "white"
           },
           "yaxis": {
            "backgroundcolor": "#E5ECF6",
            "gridcolor": "white",
            "gridwidth": 2,
            "linecolor": "white",
            "showbackground": true,
            "ticks": "",
            "zerolinecolor": "white"
           },
           "zaxis": {
            "backgroundcolor": "#E5ECF6",
            "gridcolor": "white",
            "gridwidth": 2,
            "linecolor": "white",
            "showbackground": true,
            "ticks": "",
            "zerolinecolor": "white"
           }
          },
          "shapedefaults": {
           "line": {
            "color": "#2a3f5f"
           }
          },
          "ternary": {
           "aaxis": {
            "gridcolor": "white",
            "linecolor": "white",
            "ticks": ""
           },
           "baxis": {
            "gridcolor": "white",
            "linecolor": "white",
            "ticks": ""
           },
           "bgcolor": "#E5ECF6",
           "caxis": {
            "gridcolor": "white",
            "linecolor": "white",
            "ticks": ""
           }
          },
          "title": {
           "x": 0.05
          },
          "xaxis": {
           "automargin": true,
           "gridcolor": "white",
           "linecolor": "white",
           "ticks": "",
           "title": {
            "standoff": 15
           },
           "zerolinecolor": "white",
           "zerolinewidth": 2
          },
          "yaxis": {
           "automargin": true,
           "gridcolor": "white",
           "linecolor": "white",
           "ticks": "",
           "title": {
            "standoff": 15
           },
           "zerolinecolor": "white",
           "zerolinewidth": 2
          }
         }
        },
        "title": {
         "font": {
          "size": 20
         }
        },
        "width": 1800,
        "xaxis": {
         "tickfont": {
          "size": 15
         },
         "title": {
          "font": {
           "size": 20
          },
          "text": "Workloads"
         }
        },
        "yaxis": {
         "dtick": 1,
         "range": [
          0,
          2
         ],
         "tickfont": {
          "size": 20
         },
         "title": {
          "font": {
           "size": 20
          },
          "text": "Speedup"
         }
        }
       }
      }
     },
     "metadata": {},
     "output_type": "display_data"
    }
   ],
   "source": [
    "# Normalized Latency\n",
    "\n",
    "import plotly\n",
    "import plotly.graph_objects as go\n",
    "import statistics\n",
    "\n",
    "stats = {}\n",
    "compute_cycles = {}\n",
    "mesa_cycles = {}\n",
    "compute_ipcs = {}\n",
    "mesa_ipcs = {}\n",
    "appconfigs = []\n",
    "\n",
    "colors = {\n",
    "    \"Frame - cache\": \"darkslategray\",\n",
    "    \"Frame - cache + scheduler\": \"deeppink\",\n",
    "    \"Compute - cache\": \"darkseagreen\",\n",
    "    \"Compute - cache + scheduler\": \"lime\",\n",
    "}\n",
    "patterns = {\n",
    "    \"Frame - cache\": \"x\",\n",
    "    \"Frame - cache + scheduler\": \".\",\n",
    "    \"Compute - cache\": \"-\",\n",
    "    \"Compute - cache + scheduler\": \"+\",\n",
    "}\n",
    "# ['', '/', '\\\\', 'x', '-', '|', '+', '.']\n",
    "\n",
    "for wl in workloads:\n",
    "    (\n",
    "        all_named_kernels,\n",
    "        stat_map,\n",
    "        apps_and_args,\n",
    "        configs,\n",
    "        stats,\n",
    "        gpgpu_build_nums,\n",
    "    ) = get_csv_data_for_merge(\"../../\" + wl + \".csv\")\n",
    "\n",
    "    for app in apps_and_args:\n",
    "        if \"all\" not in app:\n",
    "            continue\n",
    "        for config in configs:\n",
    "            appconfigs.append(app)\n",
    "            compute_cycles[app + config] = 0\n",
    "            mesa_cycles[app + config] = 0\n",
    "\n",
    "    for app in apps_and_args:\n",
    "        if \"all\" not in app:\n",
    "            continue\n",
    "        for config in configs:\n",
    "            for kernel in all_named_kernels[app]:\n",
    "                if \"MESA\" in kernel:\n",
    "                    mesa_cycles[app + config] += int(\n",
    "                        stat_map[kernel + app + config + \"gpu_sim_cycle\\\\s*=\\\\s*(.*)\"]\n",
    "                    )\n",
    "                else:\n",
    "                    compute_cycles[app + config] += int(\n",
    "                        stat_map[kernel + app + config + \"gpu_sim_cycle\\\\s*=\\\\s*(.*)\"]\n",
    "                    )\n",
    "\n",
    "gr2_to_plot = []\n",
    "cp2_to_plot = []\n",
    "gr1_to_plot = []\n",
    "cp1_to_plot = []\n",
    "x_mesa_labels = []\n",
    "x_vio_labels = []\n",
    "x_holo_labels = []\n",
    "x_nn_labels = []\n",
    "x_slam_labels = []\n",
    "x_names = []\n",
    "x_sizes = []\n",
    "\n",
    "for wl in workloads:\n",
    "    x_names.append(wl.split(\"_\")[0])\n",
    "    x_sizes.append(wl.split(\"_\")[-1])\n",
    "    x_mesa_labels.append(wl)\n",
    "    x_vio_labels.append(\"VIO\")\n",
    "    x_holo_labels.append(\"HOLO\")\n",
    "    x_nn_labels.append(\"NN\")\n",
    "    x_slam_labels.append(\"SLAM\")\n",
    "    app = wl + \"/all\"\n",
    "    config = app + \"ORIN-SASS-concurrent-best-VISUAL\"\n",
    "    baseline = app + \"ORIN-SASS-VISUAL\"\n",
    "    gr2_to_plot.append(\n",
    "        1 / (mesa_cycles[config] / (mesa_cycles[baseline] + compute_cycles[baseline]))\n",
    "    )\n",
    "    cp2_to_plot.append(\n",
    "        1\n",
    "        / (compute_cycles[config] / (mesa_cycles[baseline] + compute_cycles[baseline]))\n",
    "    )\n",
    "\n",
    "    config = app + \"ORIN-SASS-concurrent-VISUAL\"\n",
    "    gr1_to_plot.append(\n",
    "        1 / (mesa_cycles[config] / (mesa_cycles[baseline] + compute_cycles[baseline]))\n",
    "    )\n",
    "    cp1_to_plot.append(\n",
    "        1\n",
    "        / (compute_cycles[config] / (mesa_cycles[baseline] + compute_cycles[baseline]))\n",
    "    )\n",
    "\n",
    "ones = [1 for i in range(len(x_mesa_labels))]\n",
    "\n",
    "fig = go.Figure()\n",
    "fig.add_trace(\n",
    "    go.Bar(\n",
    "        name=\"Frame - cache\",\n",
    "        x=[\n",
    "            x_mesa_labels + x_mesa_labels + x_mesa_labels + x_mesa_labels,\n",
    "            x_vio_labels + x_holo_labels + x_nn_labels + x_slam_labels,\n",
    "        ],\n",
    "        y=gr1_to_plot + ones + ones + ones,\n",
    "        # marker=dict(color=colors['Frame - cache']),\n",
    "        marker_pattern_shape=patterns[\"Frame - cache\"],\n",
    "    )\n",
    ")\n",
    "fig.add_trace(\n",
    "    go.Bar(\n",
    "        name=\"Frame - cache + scheduler\",\n",
    "        x=[\n",
    "            x_mesa_labels + x_mesa_labels + x_mesa_labels + x_mesa_labels,\n",
    "            x_vio_labels + x_holo_labels + x_nn_labels + x_slam_labels,\n",
    "        ],\n",
    "        y=gr2_to_plot + ones + ones + ones,\n",
    "        # marker=dict(color=colors['Frame - cache + scheduler']),\n",
    "        marker_pattern_shape=patterns[\"Frame - cache + scheduler\"],\n",
    "    )\n",
    ")\n",
    "fig.add_trace(\n",
    "    go.Bar(\n",
    "        name=\"Compute - cache\",\n",
    "        x=[\n",
    "            x_mesa_labels + x_mesa_labels + x_mesa_labels + x_mesa_labels,\n",
    "            x_vio_labels + x_holo_labels + x_nn_labels + x_slam_labels,\n",
    "        ],\n",
    "        y=cp1_to_plot + ones + ones + ones,\n",
    "        # marker=dict(color=colors['Compute - cache']),\n",
    "        marker_pattern_shape=patterns[\"Compute - cache\"],\n",
    "    )\n",
    ")\n",
    "fig.add_trace(\n",
    "    go.Bar(\n",
    "        name=\"Compute - cache + scheduler\",\n",
    "        x=[\n",
    "            x_mesa_labels + x_mesa_labels + x_mesa_labels + x_mesa_labels,\n",
    "            x_vio_labels + x_holo_labels + x_nn_labels + x_slam_labels,\n",
    "        ],\n",
    "        y=cp2_to_plot + ones + ones + ones,\n",
    "        # marker=dict(color=colors['Compute - cache + scheduler']),\n",
    "        marker_pattern_shape=patterns[\"Compute - cache + scheduler\"],\n",
    "    )\n",
    ")\n",
    "# change width and height of the figure\n",
    "fig.update_layout(\n",
    "    autosize=False,\n",
    "    width=1800,\n",
    "    height=400,\n",
    "    # title=\"Normalized Latency\",\n",
    ")\n",
    "# Change the bar mode\n",
    "fig.update_layout(barmode=\"group\")\n",
    "# add title in middle\n",
    "# fig.update_layout(\n",
    "#     title={\n",
    "#         \"text\": \"Normalized Latency\",\n",
    "#         \"y\": 0.97,\n",
    "#         \"x\": 0.5,\n",
    "#         \"xanchor\": \"center\",\n",
    "#         \"yanchor\": \"top\",\n",
    "#     }\n",
    "# )\n",
    "# change bar gap\n",
    "fig.update_layout(bargap=0.1, bargroupgap=0)\n",
    "# change x axis title\n",
    "fig.update_layout(xaxis_title=\"Workloads\", yaxis_title=\"Speedup\")\n",
    "# change y axis range\n",
    "fig.update_yaxes(range=[0, 2], dtick=1)\n",
    "# change y tick step\n",
    "# change font size\n",
    "fig.update_layout(xaxis=dict(tickfont=dict(size=15)))\n",
    "fig.update_layout(yaxis=dict(tickfont=dict(size=20)))\n",
    "fig.update_layout(title_font_size=20)\n",
    "fig.update_layout(legend=dict(font=dict(size=20)))\n",
    "fig.update_layout(xaxis_title_font_size=20)\n",
    "fig.update_layout(yaxis_title_font_size=20)\n",
    "# change legend position to top\n",
    "fig.update_layout(\n",
    "    legend=dict(\n",
    "        orientation=\"h\",\n",
    "        yanchor=\"bottom\",\n",
    "        y=1,\n",
    "        xanchor=\"left\",\n",
    "        x=0.1,\n",
    "    )\n",
    ")\n",
    "# change margin\n",
    "fig.update_layout(margin=dict(l=50, r=50, t=50, b=150))\n",
    "\n",
    "fig.show()\n",
    "\n",
    "plotly.io.write_image(fig, \"output_file.pdf\", format=\"pdf\")\n",
    "plotly.io.write_image(fig, \"tmp.png\", format=\"png\")\n"
   ]
  },
  {
   "cell_type": "code",
   "execution_count": 59,
   "metadata": {},
   "outputs": [
    {
     "data": {
      "application/vnd.plotly.v1+json": {
       "config": {
        "plotlyServerURL": "https://plot.ly"
       },
       "data": [
        {
         "marker": {
          "pattern": {
           "shape": "x"
          }
         },
         "name": "Frame - cache",
         "type": "bar",
         "x": [
          [
           "pbrtexture_2k",
           "pbrtexture_4k",
           "instancing_2k",
           "instancing_4k",
           "render_passes_2k",
           "render_passes_4k",
           "sponza_2k",
           "sponza_4k",
           "materials_2k",
           "materials_4k",
           "platformer_2k",
           "platformer_4k",
           "pbrtexture_2k",
           "pbrtexture_4k",
           "instancing_2k",
           "instancing_4k",
           "render_passes_2k",
           "render_passes_4k",
           "sponza_2k",
           "sponza_4k",
           "materials_2k",
           "materials_4k",
           "platformer_2k",
           "platformer_4k",
           "pbrtexture_2k",
           "pbrtexture_4k",
           "instancing_2k",
           "instancing_4k",
           "render_passes_2k",
           "render_passes_4k",
           "sponza_2k",
           "sponza_4k",
           "materials_2k",
           "materials_4k",
           "platformer_2k",
           "platformer_4k",
           "pbrtexture_2k",
           "pbrtexture_4k",
           "instancing_2k",
           "instancing_4k",
           "render_passes_2k",
           "render_passes_4k",
           "sponza_2k",
           "sponza_4k",
           "materials_2k",
           "materials_4k",
           "platformer_2k",
           "platformer_4k"
          ],
          [
           "VIO",
           "VIO",
           "VIO",
           "VIO",
           "VIO",
           "VIO",
           "VIO",
           "VIO",
           "VIO",
           "VIO",
           "VIO",
           "VIO",
           "HOLO",
           "HOLO",
           "HOLO",
           "HOLO",
           "HOLO",
           "HOLO",
           "HOLO",
           "HOLO",
           "HOLO",
           "HOLO",
           "HOLO",
           "HOLO",
           "NN",
           "NN",
           "NN",
           "NN",
           "NN",
           "NN",
           "NN",
           "NN",
           "NN",
           "NN",
           "NN",
           "NN",
           "SLAM",
           "SLAM",
           "SLAM",
           "SLAM",
           "SLAM",
           "SLAM",
           "SLAM",
           "SLAM",
           "SLAM",
           "SLAM",
           "SLAM",
           "SLAM"
          ]
         ],
         "y": [
          0.9401676577934934,
          0.9574719107009163,
          1.0766841253014643,
          1.0920914899518488,
          1.2130978626507272,
          1.1080679771949116,
          0.997141799474596,
          0.9980285522665931,
          0.9322886754994371,
          0.952677660451419,
          1.005119247523755,
          0.9710479691058572,
          1,
          1,
          1,
          1,
          1,
          1,
          1,
          1,
          1,
          1,
          1,
          1,
          1,
          1,
          1,
          1,
          1,
          1,
          1,
          1,
          1,
          1,
          1,
          1,
          1,
          1,
          1,
          1,
          1,
          1,
          1,
          1,
          1,
          1,
          1,
          1
         ]
        },
        {
         "marker": {
          "pattern": {
           "shape": "."
          }
         },
         "name": "Frame - cache + scheduler",
         "type": "bar",
         "x": [
          [
           "pbrtexture_2k",
           "pbrtexture_4k",
           "instancing_2k",
           "instancing_4k",
           "render_passes_2k",
           "render_passes_4k",
           "sponza_2k",
           "sponza_4k",
           "materials_2k",
           "materials_4k",
           "platformer_2k",
           "platformer_4k",
           "pbrtexture_2k",
           "pbrtexture_4k",
           "instancing_2k",
           "instancing_4k",
           "render_passes_2k",
           "render_passes_4k",
           "sponza_2k",
           "sponza_4k",
           "materials_2k",
           "materials_4k",
           "platformer_2k",
           "platformer_4k",
           "pbrtexture_2k",
           "pbrtexture_4k",
           "instancing_2k",
           "instancing_4k",
           "render_passes_2k",
           "render_passes_4k",
           "sponza_2k",
           "sponza_4k",
           "materials_2k",
           "materials_4k",
           "platformer_2k",
           "platformer_4k",
           "pbrtexture_2k",
           "pbrtexture_4k",
           "instancing_2k",
           "instancing_4k",
           "render_passes_2k",
           "render_passes_4k",
           "sponza_2k",
           "sponza_4k",
           "materials_2k",
           "materials_4k",
           "platformer_2k",
           "platformer_4k"
          ],
          [
           "VIO",
           "VIO",
           "VIO",
           "VIO",
           "VIO",
           "VIO",
           "VIO",
           "VIO",
           "VIO",
           "VIO",
           "VIO",
           "VIO",
           "HOLO",
           "HOLO",
           "HOLO",
           "HOLO",
           "HOLO",
           "HOLO",
           "HOLO",
           "HOLO",
           "HOLO",
           "HOLO",
           "HOLO",
           "HOLO",
           "NN",
           "NN",
           "NN",
           "NN",
           "NN",
           "NN",
           "NN",
           "NN",
           "NN",
           "NN",
           "NN",
           "NN",
           "SLAM",
           "SLAM",
           "SLAM",
           "SLAM",
           "SLAM",
           "SLAM",
           "SLAM",
           "SLAM",
           "SLAM",
           "SLAM",
           "SLAM",
           "SLAM"
          ]
         ],
         "y": [
          0.9115666619115382,
          0.9560365345441673,
          1.0736273939586047,
          1.0904082440672214,
          1.2283801687108629,
          1.1047643586643348,
          1.0041036322490542,
          0.9972001100301368,
          0.94333549534064,
          0.9616429789397436,
          1.0255076693225162,
          0.9892081390679035,
          1,
          1,
          1,
          1,
          1,
          1,
          1,
          1,
          1,
          1,
          1,
          1,
          1,
          1,
          1,
          1,
          1,
          1,
          1,
          1,
          1,
          1,
          1,
          1,
          1,
          1,
          1,
          1,
          1,
          1,
          1,
          1,
          1,
          1,
          1,
          1
         ]
        }
       ],
       "layout": {
        "autosize": false,
        "bargap": 0.4,
        "bargroupgap": 0,
        "barmode": "group",
        "height": 400,
        "legend": {
         "font": {
          "size": 15
         },
         "orientation": "h",
         "x": 0.1,
         "xanchor": "left",
         "y": 1,
         "yanchor": "bottom"
        },
        "margin": {
         "b": 100,
         "l": 0,
         "r": 10,
         "t": 100
        },
        "template": {
         "data": {
          "bar": [
           {
            "error_x": {
             "color": "#2a3f5f"
            },
            "error_y": {
             "color": "#2a3f5f"
            },
            "marker": {
             "line": {
              "color": "#E5ECF6",
              "width": 0.5
             },
             "pattern": {
              "fillmode": "overlay",
              "size": 10,
              "solidity": 0.2
             }
            },
            "type": "bar"
           }
          ],
          "barpolar": [
           {
            "marker": {
             "line": {
              "color": "#E5ECF6",
              "width": 0.5
             },
             "pattern": {
              "fillmode": "overlay",
              "size": 10,
              "solidity": 0.2
             }
            },
            "type": "barpolar"
           }
          ],
          "carpet": [
           {
            "aaxis": {
             "endlinecolor": "#2a3f5f",
             "gridcolor": "white",
             "linecolor": "white",
             "minorgridcolor": "white",
             "startlinecolor": "#2a3f5f"
            },
            "baxis": {
             "endlinecolor": "#2a3f5f",
             "gridcolor": "white",
             "linecolor": "white",
             "minorgridcolor": "white",
             "startlinecolor": "#2a3f5f"
            },
            "type": "carpet"
           }
          ],
          "choropleth": [
           {
            "colorbar": {
             "outlinewidth": 0,
             "ticks": ""
            },
            "type": "choropleth"
           }
          ],
          "contour": [
           {
            "colorbar": {
             "outlinewidth": 0,
             "ticks": ""
            },
            "colorscale": [
             [
              0,
              "#0d0887"
             ],
             [
              0.1111111111111111,
              "#46039f"
             ],
             [
              0.2222222222222222,
              "#7201a8"
             ],
             [
              0.3333333333333333,
              "#9c179e"
             ],
             [
              0.4444444444444444,
              "#bd3786"
             ],
             [
              0.5555555555555556,
              "#d8576b"
             ],
             [
              0.6666666666666666,
              "#ed7953"
             ],
             [
              0.7777777777777778,
              "#fb9f3a"
             ],
             [
              0.8888888888888888,
              "#fdca26"
             ],
             [
              1,
              "#f0f921"
             ]
            ],
            "type": "contour"
           }
          ],
          "contourcarpet": [
           {
            "colorbar": {
             "outlinewidth": 0,
             "ticks": ""
            },
            "type": "contourcarpet"
           }
          ],
          "heatmap": [
           {
            "colorbar": {
             "outlinewidth": 0,
             "ticks": ""
            },
            "colorscale": [
             [
              0,
              "#0d0887"
             ],
             [
              0.1111111111111111,
              "#46039f"
             ],
             [
              0.2222222222222222,
              "#7201a8"
             ],
             [
              0.3333333333333333,
              "#9c179e"
             ],
             [
              0.4444444444444444,
              "#bd3786"
             ],
             [
              0.5555555555555556,
              "#d8576b"
             ],
             [
              0.6666666666666666,
              "#ed7953"
             ],
             [
              0.7777777777777778,
              "#fb9f3a"
             ],
             [
              0.8888888888888888,
              "#fdca26"
             ],
             [
              1,
              "#f0f921"
             ]
            ],
            "type": "heatmap"
           }
          ],
          "heatmapgl": [
           {
            "colorbar": {
             "outlinewidth": 0,
             "ticks": ""
            },
            "colorscale": [
             [
              0,
              "#0d0887"
             ],
             [
              0.1111111111111111,
              "#46039f"
             ],
             [
              0.2222222222222222,
              "#7201a8"
             ],
             [
              0.3333333333333333,
              "#9c179e"
             ],
             [
              0.4444444444444444,
              "#bd3786"
             ],
             [
              0.5555555555555556,
              "#d8576b"
             ],
             [
              0.6666666666666666,
              "#ed7953"
             ],
             [
              0.7777777777777778,
              "#fb9f3a"
             ],
             [
              0.8888888888888888,
              "#fdca26"
             ],
             [
              1,
              "#f0f921"
             ]
            ],
            "type": "heatmapgl"
           }
          ],
          "histogram": [
           {
            "marker": {
             "pattern": {
              "fillmode": "overlay",
              "size": 10,
              "solidity": 0.2
             }
            },
            "type": "histogram"
           }
          ],
          "histogram2d": [
           {
            "colorbar": {
             "outlinewidth": 0,
             "ticks": ""
            },
            "colorscale": [
             [
              0,
              "#0d0887"
             ],
             [
              0.1111111111111111,
              "#46039f"
             ],
             [
              0.2222222222222222,
              "#7201a8"
             ],
             [
              0.3333333333333333,
              "#9c179e"
             ],
             [
              0.4444444444444444,
              "#bd3786"
             ],
             [
              0.5555555555555556,
              "#d8576b"
             ],
             [
              0.6666666666666666,
              "#ed7953"
             ],
             [
              0.7777777777777778,
              "#fb9f3a"
             ],
             [
              0.8888888888888888,
              "#fdca26"
             ],
             [
              1,
              "#f0f921"
             ]
            ],
            "type": "histogram2d"
           }
          ],
          "histogram2dcontour": [
           {
            "colorbar": {
             "outlinewidth": 0,
             "ticks": ""
            },
            "colorscale": [
             [
              0,
              "#0d0887"
             ],
             [
              0.1111111111111111,
              "#46039f"
             ],
             [
              0.2222222222222222,
              "#7201a8"
             ],
             [
              0.3333333333333333,
              "#9c179e"
             ],
             [
              0.4444444444444444,
              "#bd3786"
             ],
             [
              0.5555555555555556,
              "#d8576b"
             ],
             [
              0.6666666666666666,
              "#ed7953"
             ],
             [
              0.7777777777777778,
              "#fb9f3a"
             ],
             [
              0.8888888888888888,
              "#fdca26"
             ],
             [
              1,
              "#f0f921"
             ]
            ],
            "type": "histogram2dcontour"
           }
          ],
          "mesh3d": [
           {
            "colorbar": {
             "outlinewidth": 0,
             "ticks": ""
            },
            "type": "mesh3d"
           }
          ],
          "parcoords": [
           {
            "line": {
             "colorbar": {
              "outlinewidth": 0,
              "ticks": ""
             }
            },
            "type": "parcoords"
           }
          ],
          "pie": [
           {
            "automargin": true,
            "type": "pie"
           }
          ],
          "scatter": [
           {
            "fillpattern": {
             "fillmode": "overlay",
             "size": 10,
             "solidity": 0.2
            },
            "type": "scatter"
           }
          ],
          "scatter3d": [
           {
            "line": {
             "colorbar": {
              "outlinewidth": 0,
              "ticks": ""
             }
            },
            "marker": {
             "colorbar": {
              "outlinewidth": 0,
              "ticks": ""
             }
            },
            "type": "scatter3d"
           }
          ],
          "scattercarpet": [
           {
            "marker": {
             "colorbar": {
              "outlinewidth": 0,
              "ticks": ""
             }
            },
            "type": "scattercarpet"
           }
          ],
          "scattergeo": [
           {
            "marker": {
             "colorbar": {
              "outlinewidth": 0,
              "ticks": ""
             }
            },
            "type": "scattergeo"
           }
          ],
          "scattergl": [
           {
            "marker": {
             "colorbar": {
              "outlinewidth": 0,
              "ticks": ""
             }
            },
            "type": "scattergl"
           }
          ],
          "scattermapbox": [
           {
            "marker": {
             "colorbar": {
              "outlinewidth": 0,
              "ticks": ""
             }
            },
            "type": "scattermapbox"
           }
          ],
          "scatterpolar": [
           {
            "marker": {
             "colorbar": {
              "outlinewidth": 0,
              "ticks": ""
             }
            },
            "type": "scatterpolar"
           }
          ],
          "scatterpolargl": [
           {
            "marker": {
             "colorbar": {
              "outlinewidth": 0,
              "ticks": ""
             }
            },
            "type": "scatterpolargl"
           }
          ],
          "scatterternary": [
           {
            "marker": {
             "colorbar": {
              "outlinewidth": 0,
              "ticks": ""
             }
            },
            "type": "scatterternary"
           }
          ],
          "surface": [
           {
            "colorbar": {
             "outlinewidth": 0,
             "ticks": ""
            },
            "colorscale": [
             [
              0,
              "#0d0887"
             ],
             [
              0.1111111111111111,
              "#46039f"
             ],
             [
              0.2222222222222222,
              "#7201a8"
             ],
             [
              0.3333333333333333,
              "#9c179e"
             ],
             [
              0.4444444444444444,
              "#bd3786"
             ],
             [
              0.5555555555555556,
              "#d8576b"
             ],
             [
              0.6666666666666666,
              "#ed7953"
             ],
             [
              0.7777777777777778,
              "#fb9f3a"
             ],
             [
              0.8888888888888888,
              "#fdca26"
             ],
             [
              1,
              "#f0f921"
             ]
            ],
            "type": "surface"
           }
          ],
          "table": [
           {
            "cells": {
             "fill": {
              "color": "#EBF0F8"
             },
             "line": {
              "color": "white"
             }
            },
            "header": {
             "fill": {
              "color": "#C8D4E3"
             },
             "line": {
              "color": "white"
             }
            },
            "type": "table"
           }
          ]
         },
         "layout": {
          "annotationdefaults": {
           "arrowcolor": "#2a3f5f",
           "arrowhead": 0,
           "arrowwidth": 1
          },
          "autotypenumbers": "strict",
          "coloraxis": {
           "colorbar": {
            "outlinewidth": 0,
            "ticks": ""
           }
          },
          "colorscale": {
           "diverging": [
            [
             0,
             "#8e0152"
            ],
            [
             0.1,
             "#c51b7d"
            ],
            [
             0.2,
             "#de77ae"
            ],
            [
             0.3,
             "#f1b6da"
            ],
            [
             0.4,
             "#fde0ef"
            ],
            [
             0.5,
             "#f7f7f7"
            ],
            [
             0.6,
             "#e6f5d0"
            ],
            [
             0.7,
             "#b8e186"
            ],
            [
             0.8,
             "#7fbc41"
            ],
            [
             0.9,
             "#4d9221"
            ],
            [
             1,
             "#276419"
            ]
           ],
           "sequential": [
            [
             0,
             "#0d0887"
            ],
            [
             0.1111111111111111,
             "#46039f"
            ],
            [
             0.2222222222222222,
             "#7201a8"
            ],
            [
             0.3333333333333333,
             "#9c179e"
            ],
            [
             0.4444444444444444,
             "#bd3786"
            ],
            [
             0.5555555555555556,
             "#d8576b"
            ],
            [
             0.6666666666666666,
             "#ed7953"
            ],
            [
             0.7777777777777778,
             "#fb9f3a"
            ],
            [
             0.8888888888888888,
             "#fdca26"
            ],
            [
             1,
             "#f0f921"
            ]
           ],
           "sequentialminus": [
            [
             0,
             "#0d0887"
            ],
            [
             0.1111111111111111,
             "#46039f"
            ],
            [
             0.2222222222222222,
             "#7201a8"
            ],
            [
             0.3333333333333333,
             "#9c179e"
            ],
            [
             0.4444444444444444,
             "#bd3786"
            ],
            [
             0.5555555555555556,
             "#d8576b"
            ],
            [
             0.6666666666666666,
             "#ed7953"
            ],
            [
             0.7777777777777778,
             "#fb9f3a"
            ],
            [
             0.8888888888888888,
             "#fdca26"
            ],
            [
             1,
             "#f0f921"
            ]
           ]
          },
          "colorway": [
           "#636efa",
           "#EF553B",
           "#00cc96",
           "#ab63fa",
           "#FFA15A",
           "#19d3f3",
           "#FF6692",
           "#B6E880",
           "#FF97FF",
           "#FECB52"
          ],
          "font": {
           "color": "#2a3f5f"
          },
          "geo": {
           "bgcolor": "white",
           "lakecolor": "white",
           "landcolor": "#E5ECF6",
           "showlakes": true,
           "showland": true,
           "subunitcolor": "white"
          },
          "hoverlabel": {
           "align": "left"
          },
          "hovermode": "closest",
          "mapbox": {
           "style": "light"
          },
          "paper_bgcolor": "white",
          "plot_bgcolor": "#E5ECF6",
          "polar": {
           "angularaxis": {
            "gridcolor": "white",
            "linecolor": "white",
            "ticks": ""
           },
           "bgcolor": "#E5ECF6",
           "radialaxis": {
            "gridcolor": "white",
            "linecolor": "white",
            "ticks": ""
           }
          },
          "scene": {
           "xaxis": {
            "backgroundcolor": "#E5ECF6",
            "gridcolor": "white",
            "gridwidth": 2,
            "linecolor": "white",
            "showbackground": true,
            "ticks": "",
            "zerolinecolor": "white"
           },
           "yaxis": {
            "backgroundcolor": "#E5ECF6",
            "gridcolor": "white",
            "gridwidth": 2,
            "linecolor": "white",
            "showbackground": true,
            "ticks": "",
            "zerolinecolor": "white"
           },
           "zaxis": {
            "backgroundcolor": "#E5ECF6",
            "gridcolor": "white",
            "gridwidth": 2,
            "linecolor": "white",
            "showbackground": true,
            "ticks": "",
            "zerolinecolor": "white"
           }
          },
          "shapedefaults": {
           "line": {
            "color": "#2a3f5f"
           }
          },
          "ternary": {
           "aaxis": {
            "gridcolor": "white",
            "linecolor": "white",
            "ticks": ""
           },
           "baxis": {
            "gridcolor": "white",
            "linecolor": "white",
            "ticks": ""
           },
           "bgcolor": "#E5ECF6",
           "caxis": {
            "gridcolor": "white",
            "linecolor": "white",
            "ticks": ""
           }
          },
          "title": {
           "x": 0.05
          },
          "xaxis": {
           "automargin": true,
           "gridcolor": "white",
           "linecolor": "white",
           "ticks": "",
           "title": {
            "standoff": 15
           },
           "zerolinecolor": "white",
           "zerolinewidth": 2
          },
          "yaxis": {
           "automargin": true,
           "gridcolor": "white",
           "linecolor": "white",
           "ticks": "",
           "title": {
            "standoff": 15
           },
           "zerolinecolor": "white",
           "zerolinewidth": 2
          }
         }
        },
        "title": {
         "font": {
          "size": 20
         },
         "text": "Normalized Latency",
         "x": 0.5,
         "xanchor": "center",
         "y": 0.97,
         "yanchor": "top"
        },
        "width": 1200,
        "xaxis": {
         "tickfont": {
          "size": 10
         },
         "title": {
          "font": {
           "size": 20
          },
          "text": "Workloads"
         }
        },
        "yaxis": {
         "tickfont": {
          "size": 20
         },
         "title": {
          "font": {
           "size": 20
          },
          "text": "Speedup"
         }
        }
       }
      }
     },
     "metadata": {},
     "output_type": "display_data"
    }
   ],
   "source": [
    "stats = {}\n",
    "tot_ipcs = {}\n",
    "appconfigs = []\n",
    "\n",
    "for wl in workloads:\n",
    "    (\n",
    "    all_named_kernels,\n",
    "    stat_map,\n",
    "    apps_and_args,\n",
    "    configs,\n",
    "    stats,\n",
    "    gpgpu_build_nums,\n",
    "    )= get_csv_data_for_merge(\"../../\" + wl + \".csv\")\n",
    "\n",
    "    for app in apps_and_args:\n",
    "        if \"all\" not in app:\n",
    "            continue\n",
    "        for config in configs:\n",
    "            appconfigs.append(app)\n",
    "            tot_ipcs[app + config] = 0\n",
    "\n",
    "    for app in apps_and_args:\n",
    "        if \"all\" not in app:\n",
    "            continue\n",
    "        for config in configs:\n",
    "            max_g_index = 0\n",
    "            max_index = 0\n",
    "            last_g_kernel = \"\"\n",
    "            last_kernel = \"\"\n",
    "            for kernel in all_named_kernels[app]:\n",
    "                if \"MESA\" in kernel:\n",
    "                    if int(kernel.split(\"-\")[-1]) > max_g_index:\n",
    "                        max_index = int(kernel.split('-')[-1])\n",
    "                        last_g_kernel = kernel\n",
    "                if int(kernel.split(\"-\")[-1]) > max_index:\n",
    "                    max_index = int(kernel.split('-')[-1])\n",
    "                    last_kernel = kernel\n",
    "            if config == app+\"ORIN-SASS-VISUAL\":\n",
    "                # if baseline, select the last kernel\n",
    "                tot_ipcs[app + config] = float(stat_map[last_kernel + app + config + \"gpu_tot_ipc\\\\s*=\\\\s*(.*)\"])\n",
    "            else:\n",
    "                # if not baseline, select the last MESA kernel because computes are finished already\n",
    "                tot_ipcs[app + config] = float(stat_map[last_g_kernel + app + config + \"gpu_tot_ipc\\\\s*=\\\\s*(.*)\"])\n",
    "\n",
    "ipc1_to_plot = []\n",
    "ipc2_to_plot = []\n",
    "for wl in workloads:\n",
    "    x_names.append(wl.split(\"_\")[0])\n",
    "    x_sizes.append(wl.split(\"_\")[-1])\n",
    "    app = wl + \"/all\"\n",
    "    config = app+\"ORIN-SASS-concurrent-best-VISUAL\"\n",
    "    baseline = app+\"ORIN-SASS-VISUAL\"\n",
    "    ipc1_to_plot.append(tot_ipcs[config] / (tot_ipcs[baseline]))\n",
    "\n",
    "    config =app+\"ORIN-SASS-concurrent-VISUAL\"\n",
    "    ipc2_to_plot.append(tot_ipcs[config] / (tot_ipcs[baseline]))\n",
    "\n",
    "\n",
    "x_labels = [x_names, x_sizes]\n",
    "fig = go.Figure(data=[\n",
    "    go.Bar(name='Frame - cache', x=x_mesa_labels, y=ipc1_to_plot),\n",
    "    go.Bar(name='Frame - cache + scheduler', x=x_mesa_labels, y=ipc2_to_plot),\n",
    "])\n",
    "\n",
    "fig = go.Figure()\n",
    "fig.add_trace(\n",
    "    go.Bar(\n",
    "        name=\"Frame - cache\",\n",
    "        x=[\n",
    "            x_mesa_labels + x_mesa_labels + x_mesa_labels + x_mesa_labels,\n",
    "            x_vio_labels + x_holo_labels + x_nn_labels + x_slam_labels,\n",
    "        ],\n",
    "        y=ipc1_to_plot + ones + ones + ones,\n",
    "        # marker=dict(color=colors['Frame - cache']),\n",
    "        marker_pattern_shape=patterns[\"Frame - cache\"],\n",
    "    )\n",
    ")\n",
    "fig.add_trace(\n",
    "    go.Bar(\n",
    "        name=\"Frame - cache + scheduler\",\n",
    "        x=[\n",
    "            x_mesa_labels + x_mesa_labels + x_mesa_labels + x_mesa_labels,\n",
    "            x_vio_labels + x_holo_labels + x_nn_labels + x_slam_labels,\n",
    "        ],\n",
    "        y=ipc2_to_plot + ones + ones + ones,\n",
    "        # marker=dict(color=colors['Frame - cache + scheduler']),\n",
    "        marker_pattern_shape=patterns[\"Frame - cache + scheduler\"],\n",
    "    )\n",
    ")\n",
    "\n",
    "# change width and height of the figure\n",
    "fig.update_layout(\n",
    "    autosize=False,\n",
    "    width=1200,\n",
    "    height=400,\n",
    "    # title=\"Normalized Latency\",\n",
    ")\n",
    "# Change the bar mode\n",
    "fig.update_layout(barmode=\"group\")\n",
    "# add title in middle\n",
    "fig.update_layout(\n",
    "    title={\n",
    "        \"text\": \"Normalized Latency\",\n",
    "        \"y\": 0.97,\n",
    "        \"x\": 0.5,\n",
    "        \"xanchor\": \"center\",\n",
    "        \"yanchor\": \"top\",\n",
    "    }\n",
    ")\n",
    "# change bar gap\n",
    "fig.update_layout(bargap=0.4, bargroupgap=0)\n",
    "# change x axis title\n",
    "fig.update_layout(xaxis_title=\"Workloads\", yaxis_title=\"Speedup\")\n",
    "# change y axis range\n",
    "# fig.update_yaxes(range=[0, 1.5], dtick=1)\n",
    "# change y tick step\n",
    "# change font size\n",
    "fig.update_layout(xaxis=dict(tickfont=dict(size=10)))\n",
    "fig.update_layout(yaxis=dict(tickfont=dict(size=20)))\n",
    "fig.update_layout(title_font_size=20)\n",
    "fig.update_layout(legend=dict(font=dict(size=15)))\n",
    "fig.update_layout(xaxis_title_font_size=20)\n",
    "fig.update_layout(yaxis_title_font_size=20)\n",
    "# change legend position to top\n",
    "fig.update_layout(\n",
    "    legend=dict(\n",
    "        orientation=\"h\",\n",
    "        yanchor=\"bottom\",\n",
    "        y=1,\n",
    "        xanchor=\"left\",\n",
    "        x=0.1,\n",
    "    )\n",
    ")\n",
    "# change margin\n",
    "fig.update_layout(margin=dict(l=0, r=10, t=100, b=100))\n",
    "\n",
    "fig.show()\n",
    "\n",
    "plotly.io.write_image(fig, \"output_file.pdf\", format=\"pdf\")\n",
    "plotly.io.write_image(fig, \"tmp.png\", format=\"png\")"
   ]
  },
  {
   "cell_type": "code",
   "execution_count": null,
   "metadata": {},
   "outputs": [],
   "source": []
  }
 ],
 "metadata": {
  "kernelspec": {
   "display_name": "Python 3",
   "language": "python",
   "name": "python3"
  },
  "language_info": {
   "codemirror_mode": {
    "name": "ipython",
    "version": 3
   },
   "file_extension": ".py",
   "mimetype": "text/x-python",
   "name": "python",
   "nbconvert_exporter": "python",
   "pygments_lexer": "ipython3",
   "version": "3.9.6"
  },
  "orig_nbformat": 4
 },
 "nbformat": 4,
 "nbformat_minor": 2
}
