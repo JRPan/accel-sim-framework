{
 "cells": [
  {
   "cell_type": "code",
   "execution_count": 252,
   "metadata": {},
   "outputs": [
    {
     "ename": "KeyboardInterrupt",
     "evalue": "",
     "output_type": "error",
     "traceback": [
      "\u001b[0;31m---------------------------------------------------------------------------\u001b[0m",
      "\u001b[0;31mKeyboardInterrupt\u001b[0m                         Traceback (most recent call last)",
      "\u001b[1;32m/Users/pan/Documents/accel-sim-framework/util/graphics/plot.ipynb Cell 1\u001b[0m line \u001b[0;36m9\n\u001b[1;32m      <a href='vscode-notebook-cell:/Users/pan/Documents/accel-sim-framework/util/graphics/plot.ipynb#W0sZmlsZQ%3D%3D?line=6'>7</a>\u001b[0m \u001b[39m# test for forlder\u001b[39;00m\n\u001b[1;32m      <a href='vscode-notebook-cell:/Users/pan/Documents/accel-sim-framework/util/graphics/plot.ipynb#W0sZmlsZQ%3D%3D?line=7'>8</a>\u001b[0m \u001b[39mif\u001b[39;00m os\u001b[39m.\u001b[39mpath\u001b[39m.\u001b[39mexists(\u001b[39m\"\u001b[39m\u001b[39m../../RENAME_ME/\u001b[39m\u001b[39m\"\u001b[39m):\n\u001b[0;32m----> <a href='vscode-notebook-cell:/Users/pan/Documents/accel-sim-framework/util/graphics/plot.ipynb#W0sZmlsZQ%3D%3D?line=8'>9</a>\u001b[0m     \u001b[39mraise\u001b[39;00m \u001b[39mKeyboardInterrupt\u001b[39;00m\n\u001b[1;32m     <a href='vscode-notebook-cell:/Users/pan/Documents/accel-sim-framework/util/graphics/plot.ipynb#W0sZmlsZQ%3D%3D?line=9'>10</a>\u001b[0m os\u001b[39m.\u001b[39msystem(\n\u001b[1;32m     <a href='vscode-notebook-cell:/Users/pan/Documents/accel-sim-framework/util/graphics/plot.ipynb#W0sZmlsZQ%3D%3D?line=10'>11</a>\u001b[0m     \u001b[39m\"\u001b[39m\u001b[39mrsync -aP raid:/home/tgrogers-raid/a/pan251/accel-sim-framework/*.csv ../../RENAME_ME/\u001b[39m\u001b[39m\"\u001b[39m\n\u001b[1;32m     <a href='vscode-notebook-cell:/Users/pan/Documents/accel-sim-framework/util/graphics/plot.ipynb#W0sZmlsZQ%3D%3D?line=11'>12</a>\u001b[0m )\n",
      "\u001b[0;31mKeyboardInterrupt\u001b[0m: "
     ]
    }
   ],
   "source": [
    "#! /usr/bin/env python3\n",
    "\n",
    "import pandas as pd\n",
    "import numpy as np\n",
    "import os\n",
    "\n",
    "# test for forlder\n",
    "if os.path.exists(\"../../RENAME_ME/\"):\n",
    "    raise KeyboardInterrupt \n",
    "os.system(\n",
    "    \"rsync -aP raid:/home/tgrogers-raid/a/pan251/accel-sim-framework/*.csv ../../RENAME_ME/\"\n",
    ")"
   ]
  },
  {
   "cell_type": "code",
   "execution_count": 341,
   "metadata": {},
   "outputs": [
    {
     "data": {
      "text/plain": [
       "['sponza_4k/NO_ARGS',\n",
       " 'sponza_4k/all1',\n",
       " 'sponza_4k/all2',\n",
       " 'sponza_4k/all3',\n",
       " 'sponza_4k/ritnet',\n",
       " 'sponza_4k/hotlab']"
      ]
     },
     "execution_count": 341,
     "metadata": {},
     "output_type": "execute_result"
    }
   ],
   "source": [
    "#! /usr/bin/env python3\n",
    "\n",
    "import csv\n",
    "\n",
    "\n",
    "def get_csv_data_for_merge(filepath):\n",
    "    all_named_kernels = {}\n",
    "    stat_map = {}\n",
    "    apps = []\n",
    "    cached_apps = []\n",
    "    configs = []\n",
    "    cached_configs = []\n",
    "    stats = []\n",
    "    gpgpu_build_num = None\n",
    "    gpgpu_build_nums = set()\n",
    "    accel_build_num = None\n",
    "    accel_build_nums = set()\n",
    "    data = {}\n",
    "    with open(filepath, \"r\") as data_file:\n",
    "        reader = csv.reader(data_file)  # define reader object\n",
    "        state = \"start\"\n",
    "        for row in reader:  # loop through rows in csv file\n",
    "            if len(row) != 0 and row[0].startswith(\"----\"):\n",
    "                state = \"find-stat\"\n",
    "                continue\n",
    "            if state == \"find-stat\":\n",
    "                current_stat = row[0]\n",
    "                stats.append(current_stat)\n",
    "                state = \"find-apps\"\n",
    "                continue\n",
    "            if state == \"find-apps\":\n",
    "                apps = row[1:]\n",
    "                state = \"process-cfgs\"\n",
    "                continue\n",
    "            if state == \"process-cfgs\":\n",
    "                if len(row) == 0:\n",
    "                    if any_data:\n",
    "                        cached_apps = apps\n",
    "                        cached_configs = configs\n",
    "                        for config in configs:\n",
    "                            count = 0\n",
    "                            for appargs_kname in apps:\n",
    "                                first_delimiter = appargs_kname.find(\"--\")\n",
    "                                appargs = appargs_kname[:first_delimiter]\n",
    "                                kname = appargs_kname[first_delimiter + 2 :]\n",
    "                                if (\n",
    "                                    current_stat == \"GPGPU-Sim-build\"\n",
    "                                    and data[config][count] != \"NA\"\n",
    "                                ):\n",
    "                                    gpgpu_build_num = data[config][count][21:28]\n",
    "                                    gpgpu_build_nums.add(gpgpu_build_num)\n",
    "                                if (\n",
    "                                    current_stat == \"Accel-Sim-build\"\n",
    "                                    and data[config][count] != \"NA\"\n",
    "                                ):\n",
    "                                    accel_build_num = data[config][count][16:23]\n",
    "                                    accel_build_nums.add(accel_build_num)\n",
    "                                stat_map[\n",
    "                                    kname + appargs + config + current_stat\n",
    "                                ] = data[config][count]\n",
    "                                count += 1\n",
    "                    apps = []\n",
    "                    configs = []\n",
    "                    data = {}\n",
    "                    state = \"start\"\n",
    "                    any_data = False\n",
    "                    continue\n",
    "                else:\n",
    "                    any_data = True\n",
    "                    if accel_build_num != None and gpgpu_build_num != None:\n",
    "                        full_config = (\n",
    "                            row[0]\n",
    "                            # + \"-accel-\"\n",
    "                            # + str(accel_build_num)\n",
    "                            # + \"-gpgpu-\"\n",
    "                            # + str(gpgpu_build_num)\n",
    "                        )\n",
    "                    else:\n",
    "                        full_config = row[0]\n",
    "                    configs.append(full_config)\n",
    "                    data[full_config] = row[1:]\n",
    "\n",
    "    app_and_args = []\n",
    "    for appargs_kname in cached_apps:\n",
    "        first_delimiter = appargs_kname.find(\"--\")\n",
    "        appargs = appargs_kname[:first_delimiter]\n",
    "        kname = appargs_kname[first_delimiter + 2 :]\n",
    "        if appargs not in all_named_kernels:\n",
    "            all_named_kernels[appargs] = []\n",
    "            app_and_args.append(appargs)\n",
    "        all_named_kernels[appargs].append(kname)\n",
    "\n",
    "    # The assumption here is that every entry in each stats file is run with the same\n",
    "    # git hash number, if not we are just going to warn and fail.\n",
    "    if len(gpgpu_build_nums) > 1 or len(accel_build_nums) > 1:\n",
    "        exit(\n",
    "            \"File {0} contains more than one gpgpu_build_num or accelsim_build_num - this assumes one stats file has one build num: gpgpu: {1}\"\n",
    "            + \" accel: {2}\".format(filepath, gpgpu_build_nums, accel_build_nums)\n",
    "        )\n",
    "    return (\n",
    "        all_named_kernels,\n",
    "        stat_map,\n",
    "        app_and_args,\n",
    "        cached_configs,\n",
    "        stats,\n",
    "        gpgpu_build_nums,\n",
    "    )\n",
    "\n",
    "wl = 'sponza_4k'\n",
    "dataset = 'data2/'\n",
    "(\n",
    "    all_named_kernels,\n",
    "    stat_map,\n",
    "    apps_and_args,\n",
    "    configs,\n",
    "    stats,\n",
    "    gpgpu_build_nums,\n",
    ") = get_csv_data_for_merge(\"../../\" + dataset + wl + \".csv\")\n",
    "\n",
    "# workloads = [\"sponza_2k\", \"sponza_4k\"]\n",
    "# workloads = [\"pbrtexture_2k\",\"pbrtexture_4k\",\"instancing_2k\",\"instancing_4k\",\"render_passes_2k\",\"render_passes_4k\"]\n",
    "workloads = [\"pbrtexture_2k\",\"pbrtexture_4k\",\"instancing_2k\",\"instancing_4k\",\"render_passes_2k\",\"render_passes_4k\", \"sponza_2k\", \n",
    "             \"sponza_4k\", \n",
    "             \"materials_2k\", \"materials_4k\", \"platformer_2k\", \"platformer_4k\"]\n",
    "wl_to_name = {\n",
    "    \"pbrtexture_2k\": \"PT2\",\n",
    "    \"pbrtexture_4k\": \"PT4\",\n",
    "    \"instancing_2k\": \"IT2\",\n",
    "    \"instancing_4k\": \"IT4\",\n",
    "    \"render_passes_2k\": \"SPL2\",\n",
    "    \"render_passes_4k\": \"SPL4\",\n",
    "    \"sponza_2k\": \"SPH2\",\n",
    "    \"sponza_4k\": \"SPH4\",\n",
    "    \"materials_2k\": \"MT2\",\n",
    "    \"materials_4k\": \"MT4\",\n",
    "    \"platformer_2k\": \"PL2\",\n",
    "    \"platformer_4k\": \"PL4\"\n",
    "}\n",
    "patterns = ['', '/', '\\\\', 'x', '-', '|', '+', '.']\n",
    "\n",
    "\n",
    "apps_and_args"
   ]
  },
  {
   "cell_type": "code",
   "execution_count": 342,
   "metadata": {},
   "outputs": [
    {
     "name": "stdout",
     "output_type": "stream",
     "text": [
      "pbrtexture_2k/NO_ARGSORIN-SASS-VISUAL 3,949,618.0 0\n",
      "pbrtexture_2k/NO_ARGSORIN-SASS-concurrent-VISUAL 3,939,330.0 0\n",
      "pbrtexture_2k/NO_ARGSORIN-SASS-concurrent-fg-VISUAL 3,854,797.0 0\n",
      "pbrtexture_2k/NO_ARGSORIN-SASS-concurrent-fg-invalidate_l2-best-VISUAL 3,856,700.0 0\n",
      "pbrtexture_2k/NO_ARGSORIN-SASS-concurrent-fg-slicer-invalidate_l2-best-VISUAL 3,852,132.0 0\n",
      "pbrtexture_2k/all1ORIN-SASS-VISUAL 3,952,963.0 5,336,775.0\n",
      "pbrtexture_2k/all1ORIN-SASS-concurrent-VISUAL 4,596,164.0 2,312,353.0\n",
      "pbrtexture_2k/all1ORIN-SASS-concurrent-fg-VISUAL 4,548,503.0 4,611,480.0\n",
      "pbrtexture_2k/all1ORIN-SASS-concurrent-fg-invalidate_l2-best-VISUAL 4,514,319.0 4,572,385.0\n",
      "pbrtexture_2k/all1ORIN-SASS-concurrent-fg-slicer-invalidate_l2-best-VISUAL 4,807,174.0 4,294,949.0\n",
      "pbrtexture_2k/all2ORIN-SASS-VISUAL 3,952,449.0 6,741,972.0\n",
      "pbrtexture_2k/all2ORIN-SASS-concurrent-VISUAL 5,259,985.0 4,567,609.0\n",
      "pbrtexture_2k/all2ORIN-SASS-concurrent-fg-VISUAL 4,550,949.0 5,991,766.0\n",
      "pbrtexture_2k/all2ORIN-SASS-concurrent-fg-invalidate_l2-best-VISUAL 4,499,437.0 5,946,877.0\n",
      "pbrtexture_2k/all2ORIN-SASS-concurrent-fg-slicer-invalidate_l2-best-VISUAL 4,863,087.0 5,824,269.0\n",
      "pbrtexture_2k/all3ORIN-SASS-VISUAL 3,956,309.0 8,157,505.0\n",
      "pbrtexture_2k/all3ORIN-SASS-concurrent-VISUAL 5,561,701.0 6,529,227.0\n",
      "pbrtexture_2k/all3ORIN-SASS-concurrent-fg-VISUAL 4,561,322.0 7,415,412.0\n",
      "pbrtexture_2k/all3ORIN-SASS-concurrent-fg-invalidate_l2-best-VISUAL 4,512,606.0 7,372,829.0\n",
      "pbrtexture_2k/all3ORIN-SASS-concurrent-fg-slicer-invalidate_l2-best-VISUAL 3,954,393.0 8,081,426.0\n",
      "pbrtexture_2k/ritnetORIN-SASS-VISUAL 0 0\n",
      "pbrtexture_2k/ritnetORIN-SASS-concurrent-VISUAL 0 0\n",
      "pbrtexture_2k/ritnetORIN-SASS-concurrent-fg-VISUAL 5,004,853.0 42,193,677.0\n",
      "pbrtexture_2k/ritnetORIN-SASS-concurrent-fg-invalidate_l2-best-VISUAL 6,335,918.0 41,267,407.0\n",
      "pbrtexture_2k/ritnetORIN-SASS-concurrent-fg-slicer-invalidate_l2-best-VISUAL 16,747,167.0 40,155,731.0\n",
      "pbrtexture_2k/hotlabORIN-SASS-VISUAL 3,959,165.0 15,481,863.0\n",
      "pbrtexture_2k/hotlabORIN-SASS-concurrent-VISUAL 5,150,738.0 15,051,618.0\n",
      "pbrtexture_2k/hotlabORIN-SASS-concurrent-fg-VISUAL 4,673,689.0 14,971,204.0\n",
      "pbrtexture_2k/hotlabORIN-SASS-concurrent-fg-invalidate_l2-best-VISUAL 4,971,679.0 14,983,794.0\n",
      "pbrtexture_2k/hotlabORIN-SASS-concurrent-fg-slicer-invalidate_l2-best-VISUAL 6,568,964.0 15,471,987.0\n",
      "pbrtexture_4k/NO_ARGSORIN-SASS-VISUAL 5,497,482.0 0\n",
      "pbrtexture_4k/NO_ARGSORIN-SASS-concurrent-VISUAL 5,498,616.0 0\n",
      "pbrtexture_4k/NO_ARGSORIN-SASS-concurrent-fg-VISUAL 5,452,086.0 0\n",
      "pbrtexture_4k/NO_ARGSORIN-SASS-concurrent-fg-invalidate_l2-best-VISUAL 5,454,798.0 0\n",
      "pbrtexture_4k/NO_ARGSORIN-SASS-concurrent-fg-slicer-invalidate_l2-best-VISUAL 5,451,218.0 0\n",
      "pbrtexture_4k/all1ORIN-SASS-VISUAL 5,499,965.0 6,882,019.0\n",
      "pbrtexture_4k/all1ORIN-SASS-concurrent-VISUAL 6,129,088.0 2,211,606.0\n",
      "pbrtexture_4k/all1ORIN-SASS-concurrent-fg-VISUAL 6,035,378.0 6,098,561.0\n",
      "pbrtexture_4k/all1ORIN-SASS-concurrent-fg-invalidate_l2-best-VISUAL 6,122,502.0 6,181,746.0\n",
      "pbrtexture_4k/all1ORIN-SASS-concurrent-fg-slicer-invalidate_l2-best-VISUAL 6,048,291.0 1,912,904.0\n",
      "pbrtexture_4k/all2ORIN-SASS-VISUAL 5,506,146.0 8,301,272.0\n",
      "pbrtexture_4k/all2ORIN-SASS-concurrent-VISUAL 6,666,538.0 4,265,070.0\n",
      "pbrtexture_4k/all2ORIN-SASS-concurrent-fg-VISUAL 6,027,032.0 7,471,184.0\n",
      "pbrtexture_4k/all2ORIN-SASS-concurrent-fg-invalidate_l2-best-VISUAL 6,124,934.0 7,572,987.0\n",
      "pbrtexture_4k/all2ORIN-SASS-concurrent-fg-slicer-invalidate_l2-best-VISUAL 7,210,067.0 5,170,682.0\n",
      "pbrtexture_4k/all3ORIN-SASS-VISUAL 5,496,896.0 9,701,176.0\n",
      "pbrtexture_4k/all3ORIN-SASS-concurrent-VISUAL 7,267,295.0 6,327,910.0\n",
      "pbrtexture_4k/all3ORIN-SASS-concurrent-fg-VISUAL 6,024,690.0 8,878,202.0\n",
      "pbrtexture_4k/all3ORIN-SASS-concurrent-fg-invalidate_l2-best-VISUAL 6,130,706.0 8,997,080.0\n",
      "pbrtexture_4k/all3ORIN-SASS-concurrent-fg-slicer-invalidate_l2-best-VISUAL 6,057,306.0 9,251,299.0\n",
      "pbrtexture_4k/ritnetORIN-SASS-VISUAL 0 0\n",
      "pbrtexture_4k/ritnetORIN-SASS-concurrent-VISUAL 0 0\n",
      "pbrtexture_4k/ritnetORIN-SASS-concurrent-fg-VISUAL 7,131,964.0 43,211,245.0\n",
      "pbrtexture_4k/ritnetORIN-SASS-concurrent-fg-invalidate_l2-best-VISUAL 8,882,348.0 41,387,785.0\n",
      "pbrtexture_4k/ritnetORIN-SASS-concurrent-fg-slicer-invalidate_l2-best-VISUAL 0 0\n",
      "pbrtexture_4k/hotlabORIN-SASS-VISUAL 5,501,953.0 17,031,128.0\n",
      "pbrtexture_4k/hotlabORIN-SASS-concurrent-VISUAL 7,265,921.0 16,393,721.0\n",
      "pbrtexture_4k/hotlabORIN-SASS-concurrent-fg-VISUAL 6,572,201.0 16,332,010.0\n",
      "pbrtexture_4k/hotlabORIN-SASS-concurrent-fg-invalidate_l2-best-VISUAL 7,041,929.0 16,197,749.0\n",
      "pbrtexture_4k/hotlabORIN-SASS-concurrent-fg-slicer-invalidate_l2-best-VISUAL 8,141,995.0 17,044,154.0\n",
      "instancing_2k/NO_ARGSORIN-SASS-VISUAL 4,352,385.0 0\n",
      "instancing_2k/NO_ARGSORIN-SASS-concurrent-VISUAL 4,269,549.0 0\n",
      "instancing_2k/NO_ARGSORIN-SASS-concurrent-fg-VISUAL 4,236,067.0 0\n",
      "instancing_2k/NO_ARGSORIN-SASS-concurrent-fg-invalidate_l2-best-VISUAL 4,246,358.0 0\n",
      "instancing_2k/NO_ARGSORIN-SASS-concurrent-fg-slicer-invalidate_l2-best-VISUAL 4,234,792.0 0\n",
      "instancing_2k/all1ORIN-SASS-VISUAL 4,397,588.0 5,779,628.0\n",
      "instancing_2k/all1ORIN-SASS-concurrent-VISUAL 4,876,463.0 2,507,810.0\n",
      "instancing_2k/all1ORIN-SASS-concurrent-fg-VISUAL 4,609,037.0 4,675,539.0\n",
      "instancing_2k/all1ORIN-SASS-concurrent-fg-invalidate_l2-best-VISUAL 4,681,297.0 4,747,304.0\n",
      "instancing_2k/all1ORIN-SASS-concurrent-fg-slicer-invalidate_l2-best-VISUAL 4,873,666.0 5,045,103.0\n",
      "instancing_2k/all2ORIN-SASS-VISUAL 4,364,094.0 7,156,543.0\n",
      "instancing_2k/all2ORIN-SASS-concurrent-VISUAL 5,391,319.0 4,938,693.0\n",
      "instancing_2k/all2ORIN-SASS-concurrent-fg-VISUAL 4,605,955.0 6,059,445.0\n",
      "instancing_2k/all2ORIN-SASS-concurrent-fg-invalidate_l2-best-VISUAL 4,710,845.0 6,187,210.0\n",
      "instancing_2k/all2ORIN-SASS-concurrent-fg-slicer-invalidate_l2-best-VISUAL 5,721,042.0 5,969,324.0\n",
      "instancing_2k/all3ORIN-SASS-VISUAL 4,362,794.0 8,561,089.0\n",
      "instancing_2k/all3ORIN-SASS-concurrent-VISUAL 5,525,923.0 6,764,569.0\n",
      "instancing_2k/all3ORIN-SASS-concurrent-fg-VISUAL 4,579,813.0 7,439,403.0\n",
      "instancing_2k/all3ORIN-SASS-concurrent-fg-invalidate_l2-best-VISUAL 4,686,716.0 7,577,450.0\n",
      "instancing_2k/all3ORIN-SASS-concurrent-fg-slicer-invalidate_l2-best-VISUAL 4,754,935.0 7,592,054.0\n",
      "instancing_2k/ritnetORIN-SASS-VISUAL 0 0\n",
      "instancing_2k/ritnetORIN-SASS-concurrent-VISUAL 0 0\n",
      "instancing_2k/ritnetORIN-SASS-concurrent-fg-VISUAL 5,238,023.0 42,997,297.0\n",
      "instancing_2k/ritnetORIN-SASS-concurrent-fg-invalidate_l2-best-VISUAL 5,260,399.0 42,469,699.0\n",
      "instancing_2k/ritnetORIN-SASS-concurrent-fg-slicer-invalidate_l2-best-VISUAL 9,062,596.0 40,759,811.0\n",
      "instancing_2k/hotlabORIN-SASS-VISUAL 4,372,090.0 15,906,844.0\n",
      "instancing_2k/hotlabORIN-SASS-concurrent-VISUAL 5,356,889.0 15,405,391.0\n",
      "instancing_2k/hotlabORIN-SASS-concurrent-fg-VISUAL 4,485,321.0 15,234,795.0\n",
      "instancing_2k/hotlabORIN-SASS-concurrent-fg-invalidate_l2-best-VISUAL 4,499,575.0 15,336,082.0\n",
      "instancing_2k/hotlabORIN-SASS-concurrent-fg-slicer-invalidate_l2-best-VISUAL 6,622,857.0 13,783,649.0\n",
      "instancing_4k/NO_ARGSORIN-SASS-VISUAL 4,657,650.0 0\n",
      "instancing_4k/NO_ARGSORIN-SASS-concurrent-VISUAL 4,594,092.0 0\n",
      "instancing_4k/NO_ARGSORIN-SASS-concurrent-fg-VISUAL 4,542,829.0 0\n",
      "instancing_4k/NO_ARGSORIN-SASS-concurrent-fg-invalidate_l2-best-VISUAL 4,526,547.0 0\n",
      "instancing_4k/NO_ARGSORIN-SASS-concurrent-fg-slicer-invalidate_l2-best-VISUAL 4,524,698.0 0\n",
      "instancing_4k/all1ORIN-SASS-VISUAL 4,643,432.0 6,031,953.0\n",
      "instancing_4k/all1ORIN-SASS-concurrent-VISUAL 5,084,636.0 2,428,850.0\n",
      "instancing_4k/all1ORIN-SASS-concurrent-fg-VISUAL 4,960,423.0 5,027,112.0\n",
      "instancing_4k/all1ORIN-SASS-concurrent-fg-invalidate_l2-best-VISUAL 4,943,364.0 5,009,237.0\n",
      "instancing_4k/all1ORIN-SASS-concurrent-fg-slicer-invalidate_l2-best-VISUAL 5,587,139.0 5,360,318.0\n",
      "instancing_4k/all2ORIN-SASS-VISUAL 4,630,265.0 7,423,789.0\n",
      "instancing_4k/all2ORIN-SASS-concurrent-VISUAL 5,683,825.0 5,046,626.0\n",
      "instancing_4k/all2ORIN-SASS-concurrent-fg-VISUAL 4,952,327.0 6,406,471.0\n",
      "instancing_4k/all2ORIN-SASS-concurrent-fg-invalidate_l2-best-VISUAL 4,949,040.0 6,428,559.0\n",
      "instancing_4k/all2ORIN-SASS-concurrent-fg-slicer-invalidate_l2-best-VISUAL 6,446,010.0 6,315,657.0\n",
      "instancing_4k/all3ORIN-SASS-VISUAL 4,668,853.0 8,873,919.0\n",
      "instancing_4k/all3ORIN-SASS-concurrent-VISUAL 5,886,019.0 6,992,564.0\n",
      "instancing_4k/all3ORIN-SASS-concurrent-fg-VISUAL 4,956,949.0 7,819,307.0\n",
      "instancing_4k/all3ORIN-SASS-concurrent-fg-invalidate_l2-best-VISUAL 4,967,205.0 7,859,108.0\n",
      "instancing_4k/all3ORIN-SASS-concurrent-fg-slicer-invalidate_l2-best-VISUAL 5,394,544.0 8,236,353.0\n",
      "instancing_4k/ritnetORIN-SASS-VISUAL 0 0\n",
      "instancing_4k/ritnetORIN-SASS-concurrent-VISUAL 0 0\n",
      "instancing_4k/ritnetORIN-SASS-concurrent-fg-VISUAL 5,739,703.0 43,106,934.0\n",
      "instancing_4k/ritnetORIN-SASS-concurrent-fg-invalidate_l2-best-VISUAL 5,814,998.0 42,734,097.0\n",
      "instancing_4k/ritnetORIN-SASS-concurrent-fg-slicer-invalidate_l2-best-VISUAL 22,986,348.0 40,674,739.0\n",
      "instancing_4k/hotlabORIN-SASS-VISUAL 4,668,597.0 16,208,392.0\n",
      "instancing_4k/hotlabORIN-SASS-concurrent-VISUAL 5,720,160.0 15,737,550.0\n",
      "instancing_4k/hotlabORIN-SASS-concurrent-fg-VISUAL 4,814,669.0 15,370,367.0\n",
      "instancing_4k/hotlabORIN-SASS-concurrent-fg-invalidate_l2-best-VISUAL 4,797,505.0 15,458,341.0\n",
      "instancing_4k/hotlabORIN-SASS-concurrent-fg-slicer-invalidate_l2-best-VISUAL 6,407,203.0 14,618,986.0\n",
      "render_passes_2k/NO_ARGSORIN-SASS-VISUAL 4,046,109.0 0\n",
      "render_passes_2k/NO_ARGSORIN-SASS-concurrent-VISUAL 3,877,676.0 0\n",
      "render_passes_2k/NO_ARGSORIN-SASS-concurrent-fg-VISUAL 3,620,246.0 0\n",
      "render_passes_2k/NO_ARGSORIN-SASS-concurrent-fg-invalidate_l2-best-VISUAL 3,629,593.0 0\n",
      "render_passes_2k/NO_ARGSORIN-SASS-concurrent-fg-slicer-invalidate_l2-best-VISUAL 3,626,230.0 0\n",
      "render_passes_2k/all1ORIN-SASS-VISUAL 4,041,725.0 5,436,186.0\n",
      "render_passes_2k/all1ORIN-SASS-concurrent-VISUAL 4,539,626.0 3,121,430.0\n",
      "render_passes_2k/all1ORIN-SASS-concurrent-fg-VISUAL 4,021,275.0 4,088,123.0\n",
      "render_passes_2k/all1ORIN-SASS-concurrent-fg-invalidate_l2-best-VISUAL 4,096,728.0 4,162,776.0\n",
      "render_passes_2k/all1ORIN-SASS-concurrent-fg-slicer-invalidate_l2-best-VISUAL 4,295,964.0 2,691,108.0\n",
      "render_passes_2k/all2ORIN-SASS-VISUAL 4,045,771.0 6,848,282.0\n",
      "render_passes_2k/all2ORIN-SASS-concurrent-VISUAL 4,938,042.0 5,297,618.0\n",
      "render_passes_2k/all2ORIN-SASS-concurrent-fg-VISUAL 4,020,117.0 5,484,329.0\n",
      "render_passes_2k/all2ORIN-SASS-concurrent-fg-invalidate_l2-best-VISUAL 4,102,151.0 5,589,857.0\n",
      "render_passes_2k/all2ORIN-SASS-concurrent-fg-slicer-invalidate_l2-best-VISUAL 3,764,413.0 6,401,632.0\n",
      "render_passes_2k/all3ORIN-SASS-VISUAL 4,048,597.0 8,262,127.0\n",
      "render_passes_2k/all3ORIN-SASS-concurrent-VISUAL 4,921,760.0 6,711,745.0\n",
      "render_passes_2k/all3ORIN-SASS-concurrent-fg-VISUAL 4,009,509.0 6,882,807.0\n",
      "render_passes_2k/all3ORIN-SASS-concurrent-fg-invalidate_l2-best-VISUAL 4,109,426.0 7,007,980.0\n",
      "render_passes_2k/all3ORIN-SASS-concurrent-fg-slicer-invalidate_l2-best-VISUAL 4,301,027.0 7,341,333.0\n",
      "render_passes_2k/ritnetORIN-SASS-VISUAL 0 0\n",
      "render_passes_2k/ritnetORIN-SASS-concurrent-VISUAL 0 0\n",
      "render_passes_2k/ritnetORIN-SASS-concurrent-fg-VISUAL 4,950,706.0 42,315,251.0\n",
      "render_passes_2k/ritnetORIN-SASS-concurrent-fg-invalidate_l2-best-VISUAL 5,051,712.0 42,214,642.0\n",
      "render_passes_2k/ritnetORIN-SASS-concurrent-fg-slicer-invalidate_l2-best-VISUAL 12,525,295.0 39,261,385.0\n",
      "render_passes_2k/hotlabORIN-SASS-VISUAL 4,040,482.0 15,584,015.0\n",
      "render_passes_2k/hotlabORIN-SASS-concurrent-VISUAL 4,806,646.0 15,280,220.0\n",
      "render_passes_2k/hotlabORIN-SASS-concurrent-fg-VISUAL 3,778,743.0 14,474,767.0\n",
      "render_passes_2k/hotlabORIN-SASS-concurrent-fg-invalidate_l2-best-VISUAL 3,777,917.0 14,637,456.0\n",
      "render_passes_2k/hotlabORIN-SASS-concurrent-fg-slicer-invalidate_l2-best-VISUAL 5,727,566.0 13,825,505.0\n",
      "render_passes_4k/NO_ARGSORIN-SASS-VISUAL 8,195,383.0 0\n",
      "render_passes_4k/NO_ARGSORIN-SASS-concurrent-VISUAL 8,035,425.0 0\n",
      "render_passes_4k/NO_ARGSORIN-SASS-concurrent-fg-VISUAL 7,779,407.0 0\n",
      "render_passes_4k/NO_ARGSORIN-SASS-concurrent-fg-invalidate_l2-best-VISUAL 7,771,323.0 0\n",
      "render_passes_4k/NO_ARGSORIN-SASS-concurrent-fg-slicer-invalidate_l2-best-VISUAL 7,774,828.0 0\n",
      "render_passes_4k/all1ORIN-SASS-VISUAL 8,196,054.0 9,593,244.0\n",
      "render_passes_4k/all1ORIN-SASS-concurrent-VISUAL 8,762,962.0 3,355,460.0\n",
      "render_passes_4k/all1ORIN-SASS-concurrent-fg-VISUAL 8,305,166.0 8,372,836.0\n",
      "render_passes_4k/all1ORIN-SASS-concurrent-fg-invalidate_l2-best-VISUAL 8,330,666.0 8,397,796.0\n",
      "render_passes_4k/all1ORIN-SASS-concurrent-fg-slicer-invalidate_l2-best-VISUAL 8,492,605.0 8,724,440.0\n",
      "render_passes_4k/all2ORIN-SASS-VISUAL 8,190,649.0 10,992,048.0\n",
      "render_passes_4k/all2ORIN-SASS-concurrent-VISUAL 9,510,263.0 6,753,780.0\n",
      "render_passes_4k/all2ORIN-SASS-concurrent-fg-VISUAL 8,294,966.0 9,759,186.0\n",
      "render_passes_4k/all2ORIN-SASS-concurrent-fg-invalidate_l2-best-VISUAL 8,329,432.0 9,820,192.0\n",
      "render_passes_4k/all2ORIN-SASS-concurrent-fg-slicer-invalidate_l2-best-VISUAL 7,923,525.0 10,677,542.0\n",
      "render_passes_4k/all3ORIN-SASS-VISUAL 8,195,303.0 12,411,034.0\n",
      "render_passes_4k/all3ORIN-SASS-concurrent-VISUAL 10,199,482.0 10,045,440.0\n",
      "render_passes_4k/all3ORIN-SASS-concurrent-fg-VISUAL 8,293,304.0 11,172,131.0\n",
      "render_passes_4k/all3ORIN-SASS-concurrent-fg-invalidate_l2-best-VISUAL 8,331,596.0 11,233,787.0\n",
      "render_passes_4k/all3ORIN-SASS-concurrent-fg-slicer-invalidate_l2-best-VISUAL 7,899,513.0 12,106,294.0\n",
      "render_passes_4k/ritnetORIN-SASS-VISUAL 0 0\n",
      "render_passes_4k/ritnetORIN-SASS-concurrent-VISUAL 0 0\n",
      "render_passes_4k/ritnetORIN-SASS-concurrent-fg-VISUAL 10,051,990.0 44,354,306.0\n",
      "render_passes_4k/ritnetORIN-SASS-concurrent-fg-invalidate_l2-best-VISUAL 10,081,404.0 43,984,846.0\n",
      "render_passes_4k/ritnetORIN-SASS-concurrent-fg-slicer-invalidate_l2-best-VISUAL 15,427,299.0 43,361,580.0\n",
      "render_passes_4k/hotlabORIN-SASS-VISUAL 8,192,266.0 19,735,561.0\n",
      "render_passes_4k/hotlabORIN-SASS-concurrent-VISUAL 10,076,257.0 19,543,539.0\n",
      "render_passes_4k/hotlabORIN-SASS-concurrent-fg-VISUAL 8,066,998.0 17,804,926.0\n",
      "render_passes_4k/hotlabORIN-SASS-concurrent-fg-invalidate_l2-best-VISUAL 8,062,987.0 17,902,015.0\n",
      "render_passes_4k/hotlabORIN-SASS-concurrent-fg-slicer-invalidate_l2-best-VISUAL 9,718,680.0 18,637,441.0\n",
      "sponza_2k/NO_ARGSORIN-SASS-VISUAL 7,779,547.0 0\n",
      "sponza_2k/NO_ARGSORIN-SASS-concurrent-VISUAL 7,621,878.0 0\n",
      "sponza_2k/NO_ARGSORIN-SASS-concurrent-fg-VISUAL 6,947,099.0 0\n",
      "sponza_2k/NO_ARGSORIN-SASS-concurrent-fg-invalidate_l2-best-VISUAL 6,962,609.0 0\n",
      "sponza_2k/NO_ARGSORIN-SASS-concurrent-fg-slicer-invalidate_l2-best-VISUAL 6,968,813.0 0\n",
      "sponza_2k/all1ORIN-SASS-VISUAL 7,799,946.0 9,177,515.0\n",
      "sponza_2k/all1ORIN-SASS-concurrent-VISUAL 8,068,333.0 1,866,514.0\n",
      "sponza_2k/all1ORIN-SASS-concurrent-fg-VISUAL 7,168,557.0 7,249,823.0\n",
      "sponza_2k/all1ORIN-SASS-concurrent-fg-invalidate_l2-best-VISUAL 7,182,813.0 7,257,741.0\n",
      "sponza_2k/all1ORIN-SASS-concurrent-fg-slicer-invalidate_l2-best-VISUAL 7,502,015.0 1,398,962.0\n",
      "sponza_2k/all2ORIN-SASS-VISUAL 7,774,729.0 10,562,735.0\n",
      "sponza_2k/all2ORIN-SASS-concurrent-VISUAL 8,481,843.0 3,695,790.0\n",
      "sponza_2k/all2ORIN-SASS-concurrent-fg-VISUAL 7,156,479.0 8,617,743.0\n",
      "sponza_2k/all2ORIN-SASS-concurrent-fg-invalidate_l2-best-VISUAL 7,169,655.0 8,622,407.0\n",
      "sponza_2k/all2ORIN-SASS-concurrent-fg-slicer-invalidate_l2-best-VISUAL 7,099,302.0 9,471,409.0\n",
      "sponza_2k/all3ORIN-SASS-VISUAL 7,806,029.0 12,007,742.0\n",
      "sponza_2k/all3ORIN-SASS-concurrent-VISUAL 8,906,068.0 5,437,756.0\n",
      "sponza_2k/all3ORIN-SASS-concurrent-fg-VISUAL 7,099,519.0 9,972,967.0\n",
      "sponza_2k/all3ORIN-SASS-concurrent-fg-invalidate_l2-best-VISUAL 7,193,442.0 10,058,668.0\n",
      "sponza_2k/all3ORIN-SASS-concurrent-fg-slicer-invalidate_l2-best-VISUAL 7,036,655.0 11,059,562.0\n",
      "sponza_2k/ritnetORIN-SASS-VISUAL 0 0\n",
      "sponza_2k/ritnetORIN-SASS-concurrent-VISUAL 0 0\n",
      "sponza_2k/ritnetORIN-SASS-concurrent-fg-VISUAL 9,345,473.0 42,261,854.0\n",
      "sponza_2k/ritnetORIN-SASS-concurrent-fg-invalidate_l2-best-VISUAL 10,861,400.0 38,691,585.0\n",
      "sponza_2k/ritnetORIN-SASS-concurrent-fg-slicer-invalidate_l2-best-VISUAL 21,671,252.0 36,660,006.0\n",
      "sponza_2k/hotlabORIN-SASS-VISUAL 0 0\n",
      "sponza_2k/hotlabORIN-SASS-concurrent-VISUAL 9,854,207.0 18,118,831.0\n",
      "sponza_2k/hotlabORIN-SASS-concurrent-fg-VISUAL 8,666,829.0 17,338,038.0\n",
      "sponza_2k/hotlabORIN-SASS-concurrent-fg-invalidate_l2-best-VISUAL 9,479,686.0 17,145,949.0\n",
      "sponza_2k/hotlabORIN-SASS-concurrent-fg-slicer-invalidate_l2-best-VISUAL 11,765,045.0 17,477,335.0\n",
      "sponza_4k/NO_ARGSORIN-SASS-VISUAL 17,561,458.0 0\n",
      "sponza_4k/NO_ARGSORIN-SASS-concurrent-VISUAL 0 0\n",
      "sponza_4k/NO_ARGSORIN-SASS-concurrent-fg-VISUAL 16,758,357.0 0\n",
      "sponza_4k/NO_ARGSORIN-SASS-concurrent-fg-invalidate_l2-best-VISUAL 16,780,547.0 0\n",
      "sponza_4k/NO_ARGSORIN-SASS-concurrent-fg-slicer-invalidate_l2-best-VISUAL 16,756,604.0 0\n",
      "sponza_4k/all1ORIN-SASS-VISUAL 0 0\n",
      "sponza_4k/all1ORIN-SASS-concurrent-VISUAL 0 0\n",
      "sponza_4k/all1ORIN-SASS-concurrent-fg-VISUAL 16,813,809.0 16,892,480.0\n",
      "sponza_4k/all1ORIN-SASS-concurrent-fg-invalidate_l2-best-VISUAL 16,713,948.0 16,786,552.0\n",
      "sponza_4k/all1ORIN-SASS-concurrent-fg-slicer-invalidate_l2-best-VISUAL 17,212,799.0 1,435,764.0\n",
      "sponza_4k/all2ORIN-SASS-VISUAL 0 0\n",
      "sponza_4k/all2ORIN-SASS-concurrent-VISUAL 18,307,138.0 3,575,457.0\n",
      "sponza_4k/all2ORIN-SASS-concurrent-fg-VISUAL 16,833,282.0 18,284,392.0\n",
      "sponza_4k/all2ORIN-SASS-concurrent-fg-invalidate_l2-best-VISUAL 16,735,547.0 18,187,748.0\n",
      "sponza_4k/all2ORIN-SASS-concurrent-fg-slicer-invalidate_l2-best-VISUAL 17,534,925.0 2,863,002.0\n",
      "sponza_4k/all3ORIN-SASS-VISUAL 0 0\n",
      "sponza_4k/all3ORIN-SASS-concurrent-VISUAL 0 0\n",
      "sponza_4k/all3ORIN-SASS-concurrent-fg-VISUAL 16,802,992.0 19,676,887.0\n",
      "sponza_4k/all3ORIN-SASS-concurrent-fg-invalidate_l2-best-VISUAL 16,780,418.0 19,643,602.0\n",
      "sponza_4k/all3ORIN-SASS-concurrent-fg-slicer-invalidate_l2-best-VISUAL 17,689,823.0 17,880,277.0\n",
      "sponza_4k/ritnetORIN-SASS-VISUAL 0 0\n",
      "sponza_4k/ritnetORIN-SASS-concurrent-VISUAL 0 0\n",
      "sponza_4k/ritnetORIN-SASS-concurrent-fg-VISUAL 21,487,123.0 41,778,066.0\n",
      "sponza_4k/ritnetORIN-SASS-concurrent-fg-invalidate_l2-best-VISUAL 23,210,426.0 35,795,822.0\n",
      "sponza_4k/ritnetORIN-SASS-concurrent-fg-slicer-invalidate_l2-best-VISUAL 23,769,494.0 35,623,380.0\n",
      "sponza_4k/hotlabORIN-SASS-VISUAL 0 0\n",
      "sponza_4k/hotlabORIN-SASS-concurrent-VISUAL 0 0\n",
      "sponza_4k/hotlabORIN-SASS-concurrent-fg-VISUAL 20,654,152.0 26,529,789.0\n",
      "sponza_4k/hotlabORIN-SASS-concurrent-fg-invalidate_l2-best-VISUAL 25,346,973.0 25,877,453.0\n",
      "sponza_4k/hotlabORIN-SASS-concurrent-fg-slicer-invalidate_l2-best-VISUAL 18,988,232.0 27,873,061.0\n",
      "materials_2k/NO_ARGSORIN-SASS-VISUAL 7,828,973.0 0\n",
      "materials_2k/NO_ARGSORIN-SASS-concurrent-VISUAL 7,210,514.0 0\n",
      "materials_2k/NO_ARGSORIN-SASS-concurrent-fg-VISUAL 5,293,295.0 0\n",
      "materials_2k/NO_ARGSORIN-SASS-concurrent-fg-invalidate_l2-best-VISUAL 5,694,432.0 0\n",
      "materials_2k/NO_ARGSORIN-SASS-concurrent-fg-slicer-invalidate_l2-best-VISUAL 5,627,283.0 0\n",
      "materials_2k/all1ORIN-SASS-VISUAL 7,834,598.0 9,247,697.0\n",
      "materials_2k/all1ORIN-SASS-concurrent-VISUAL 7,734,222.0 2,221,614.0\n",
      "materials_2k/all1ORIN-SASS-concurrent-fg-VISUAL 6,034,356.0 6,109,528.0\n",
      "materials_2k/all1ORIN-SASS-concurrent-fg-invalidate_l2-best-VISUAL 6,354,961.0 6,433,805.0\n",
      "materials_2k/all1ORIN-SASS-concurrent-fg-slicer-invalidate_l2-best-VISUAL 5,895,314.0 6,866,654.0\n",
      "materials_2k/all2ORIN-SASS-VISUAL 7,832,674.0 10,653,135.0\n",
      "materials_2k/all2ORIN-SASS-concurrent-VISUAL 8,211,241.0 4,441,219.0\n",
      "materials_2k/all2ORIN-SASS-concurrent-fg-VISUAL 6,101,321.0 7,553,697.0\n",
      "materials_2k/all2ORIN-SASS-concurrent-fg-invalidate_l2-best-VISUAL 6,347,089.0 7,816,010.0\n",
      "materials_2k/all2ORIN-SASS-concurrent-fg-slicer-invalidate_l2-best-VISUAL 6,645,695.0 7,937,150.0\n",
      "materials_2k/all3ORIN-SASS-VISUAL 7,833,633.0 12,064,585.0\n",
      "materials_2k/all3ORIN-SASS-concurrent-VISUAL 8,549,427.0 6,250,115.0\n",
      "materials_2k/all3ORIN-SASS-concurrent-fg-VISUAL 6,018,860.0 8,894,803.0\n",
      "materials_2k/all3ORIN-SASS-concurrent-fg-invalidate_l2-best-VISUAL 6,347,425.0 9,229,516.0\n",
      "materials_2k/all3ORIN-SASS-concurrent-fg-slicer-invalidate_l2-best-VISUAL 7,333,806.0 9,102,296.0\n",
      "materials_2k/ritnetORIN-SASS-VISUAL 0 0\n",
      "materials_2k/ritnetORIN-SASS-concurrent-VISUAL 0 0\n",
      "materials_2k/ritnetORIN-SASS-concurrent-fg-VISUAL 7,085,160.0 42,947,028.0\n",
      "materials_2k/ritnetORIN-SASS-concurrent-fg-invalidate_l2-best-VISUAL 8,241,574.0 41,063,898.0\n",
      "materials_2k/ritnetORIN-SASS-concurrent-fg-slicer-invalidate_l2-best-VISUAL 11,030,494.0 40,258,982.0\n",
      "materials_2k/hotlabORIN-SASS-VISUAL 7,820,807.0 19,377,976.0\n",
      "materials_2k/hotlabORIN-SASS-concurrent-VISUAL 8,713,819.0 17,370,649.0\n",
      "materials_2k/hotlabORIN-SASS-concurrent-fg-VISUAL 6,279,015.0 15,934,329.0\n",
      "materials_2k/hotlabORIN-SASS-concurrent-fg-invalidate_l2-best-VISUAL 7,323,261.0 16,478,845.0\n",
      "materials_2k/hotlabORIN-SASS-concurrent-fg-slicer-invalidate_l2-best-VISUAL 12,596,778.0 16,595,230.0\n",
      "materials_4k/NO_ARGSORIN-SASS-VISUAL 12,089,268.0 0\n",
      "materials_4k/NO_ARGSORIN-SASS-concurrent-VISUAL 11,436,736.0 0\n",
      "materials_4k/NO_ARGSORIN-SASS-concurrent-fg-VISUAL 9,391,267.0 0\n",
      "materials_4k/NO_ARGSORIN-SASS-concurrent-fg-invalidate_l2-best-VISUAL 9,796,127.0 0\n",
      "materials_4k/NO_ARGSORIN-SASS-concurrent-fg-slicer-invalidate_l2-best-VISUAL 9,684,373.0 0\n",
      "materials_4k/all1ORIN-SASS-VISUAL 12,077,569.0 13,481,833.0\n",
      "materials_4k/all1ORIN-SASS-concurrent-VISUAL 11,938,976.0 2,242,947.0\n",
      "materials_4k/all1ORIN-SASS-concurrent-fg-VISUAL 9,915,885.0 9,990,924.0\n",
      "materials_4k/all1ORIN-SASS-concurrent-fg-invalidate_l2-best-VISUAL 10,363,917.0 10,440,077.0\n",
      "materials_4k/all1ORIN-SASS-concurrent-fg-slicer-invalidate_l2-best-VISUAL 9,677,382.0 10,636,669.0\n",
      "materials_4k/all2ORIN-SASS-VISUAL 12,094,741.0 14,907,233.0\n",
      "materials_4k/all2ORIN-SASS-concurrent-VISUAL 12,323,862.0 4,149,351.0\n",
      "materials_4k/all2ORIN-SASS-concurrent-fg-VISUAL 9,932,248.0 11,386,394.0\n",
      "materials_4k/all2ORIN-SASS-concurrent-fg-invalidate_l2-best-VISUAL 10,297,606.0 11,760,577.0\n",
      "materials_4k/all2ORIN-SASS-concurrent-fg-slicer-invalidate_l2-best-VISUAL 11,277,199.0 4,778,259.0\n",
      "materials_4k/all3ORIN-SASS-VISUAL 12,084,324.0 16,315,181.0\n",
      "materials_4k/all3ORIN-SASS-concurrent-VISUAL 12,776,272.0 6,313,939.0\n",
      "materials_4k/all3ORIN-SASS-concurrent-fg-VISUAL 10,001,803.0 12,871,948.0\n",
      "materials_4k/all3ORIN-SASS-concurrent-fg-invalidate_l2-best-VISUAL 10,291,750.0 13,167,055.0\n",
      "materials_4k/all3ORIN-SASS-concurrent-fg-slicer-invalidate_l2-best-VISUAL 9,659,708.0 13,465,871.0\n",
      "materials_4k/ritnetORIN-SASS-VISUAL 0 0\n",
      "materials_4k/ritnetORIN-SASS-concurrent-VISUAL 0 0\n",
      "materials_4k/ritnetORIN-SASS-concurrent-fg-VISUAL 12,305,770.0 43,366,043.0\n",
      "materials_4k/ritnetORIN-SASS-concurrent-fg-invalidate_l2-best-VISUAL 13,136,786.0 39,955,742.0\n",
      "materials_4k/ritnetORIN-SASS-concurrent-fg-slicer-invalidate_l2-best-VISUAL 18,181,640.0 41,113,975.0\n",
      "materials_4k/hotlabORIN-SASS-VISUAL 0 0\n",
      "materials_4k/hotlabORIN-SASS-concurrent-VISUAL 0 0\n",
      "materials_4k/hotlabORIN-SASS-concurrent-fg-VISUAL 11,577,216.0 19,673,291.0\n",
      "materials_4k/hotlabORIN-SASS-concurrent-fg-invalidate_l2-best-VISUAL 13,187,281.0 19,955,403.0\n",
      "materials_4k/hotlabORIN-SASS-concurrent-fg-slicer-invalidate_l2-best-VISUAL 15,159,169.0 20,468,502.0\n",
      "platformer_2k/NO_ARGSORIN-SASS-VISUAL 10,114,741.0 0\n",
      "platformer_2k/NO_ARGSORIN-SASS-concurrent-VISUAL 6,721,237.0 0\n",
      "platformer_2k/NO_ARGSORIN-SASS-concurrent-fg-VISUAL 2,982,470.0 0\n",
      "platformer_2k/NO_ARGSORIN-SASS-concurrent-fg-invalidate_l2-best-VISUAL 2,989,427.0 0\n",
      "platformer_2k/NO_ARGSORIN-SASS-concurrent-fg-slicer-invalidate_l2-best-VISUAL 2,985,209.0 0\n",
      "platformer_2k/all1ORIN-SASS-VISUAL 10,120,942.0 11,497,761.0\n",
      "platformer_2k/all1ORIN-SASS-concurrent-VISUAL 6,964,988.0 1,708,186.0\n",
      "platformer_2k/all1ORIN-SASS-concurrent-fg-VISUAL 3,486,864.0 3,508,530.0\n",
      "platformer_2k/all1ORIN-SASS-concurrent-fg-invalidate_l2-best-VISUAL 3,479,634.0 3,497,200.0\n",
      "platformer_2k/all1ORIN-SASS-concurrent-fg-slicer-invalidate_l2-best-VISUAL 3,627,584.0 1,551,597.0\n",
      "platformer_2k/all2ORIN-SASS-VISUAL 10,116,963.0 12,900,243.0\n",
      "platformer_2k/all2ORIN-SASS-concurrent-VISUAL 7,261,294.0 3,446,962.0\n",
      "platformer_2k/all2ORIN-SASS-concurrent-fg-VISUAL 3,466,431.0 4,890,177.0\n",
      "platformer_2k/all2ORIN-SASS-concurrent-fg-invalidate_l2-best-VISUAL 3,469,149.0 4,893,429.0\n",
      "platformer_2k/all2ORIN-SASS-concurrent-fg-slicer-invalidate_l2-best-VISUAL 3,977,533.0 3,427,777.0\n",
      "platformer_2k/all3ORIN-SASS-VISUAL 10,124,258.0 14,320,614.0\n",
      "platformer_2k/all3ORIN-SASS-concurrent-VISUAL 7,591,631.0 5,210,925.0\n",
      "platformer_2k/all3ORIN-SASS-concurrent-fg-VISUAL 3,489,992.0 6,301,161.0\n",
      "platformer_2k/all3ORIN-SASS-concurrent-fg-invalidate_l2-best-VISUAL 3,480,603.0 6,315,265.0\n",
      "platformer_2k/all3ORIN-SASS-concurrent-fg-slicer-invalidate_l2-best-VISUAL 4,488,528.0 4,480,773.0\n",
      "platformer_2k/ritnetORIN-SASS-VISUAL 0 0\n",
      "platformer_2k/ritnetORIN-SASS-concurrent-VISUAL 0 0\n",
      "platformer_2k/ritnetORIN-SASS-concurrent-fg-VISUAL 4,451,121.0 41,232,545.0\n",
      "platformer_2k/ritnetORIN-SASS-concurrent-fg-invalidate_l2-best-VISUAL 5,571,356.0 38,697,167.0\n",
      "platformer_2k/ritnetORIN-SASS-concurrent-fg-slicer-invalidate_l2-best-VISUAL 6,386,933.0 38,467,482.0\n",
      "platformer_2k/hotlabORIN-SASS-VISUAL 10,117,042.0 21,640,134.0\n",
      "platformer_2k/hotlabORIN-SASS-concurrent-VISUAL 7,722,376.0 16,520,838.0\n",
      "platformer_2k/hotlabORIN-SASS-concurrent-fg-VISUAL 3,912,259.0 13,930,898.0\n",
      "platformer_2k/hotlabORIN-SASS-concurrent-fg-invalidate_l2-best-VISUAL 4,198,406.0 13,875,817.0\n",
      "platformer_2k/hotlabORIN-SASS-concurrent-fg-slicer-invalidate_l2-best-VISUAL 5,672,538.0 13,580,245.0\n",
      "platformer_4k/NO_ARGSORIN-SASS-VISUAL 13,443,888.0 0\n",
      "platformer_4k/NO_ARGSORIN-SASS-concurrent-VISUAL 10,032,409.0 0\n",
      "platformer_4k/NO_ARGSORIN-SASS-concurrent-fg-VISUAL 6,336,438.0 0\n",
      "platformer_4k/NO_ARGSORIN-SASS-concurrent-fg-invalidate_l2-best-VISUAL 6,329,092.0 0\n",
      "platformer_4k/NO_ARGSORIN-SASS-concurrent-fg-slicer-invalidate_l2-best-VISUAL 6,327,358.0 0\n",
      "platformer_4k/all1ORIN-SASS-VISUAL 13,448,735.0 14,824,157.0\n",
      "platformer_4k/all1ORIN-SASS-concurrent-VISUAL 10,319,085.0 1,710,813.0\n",
      "platformer_4k/all1ORIN-SASS-concurrent-fg-VISUAL 7,019,913.0 7,020,792.0\n",
      "platformer_4k/all1ORIN-SASS-concurrent-fg-invalidate_l2-best-VISUAL 7,020,749.0 7,017,059.0\n",
      "platformer_4k/all1ORIN-SASS-concurrent-fg-slicer-invalidate_l2-best-VISUAL 6,909,061.0 1,446,215.0\n",
      "platformer_4k/all2ORIN-SASS-VISUAL 13,442,552.0 16,233,189.0\n",
      "platformer_4k/all2ORIN-SASS-concurrent-VISUAL 10,711,706.0 3,448,515.0\n",
      "platformer_4k/all2ORIN-SASS-concurrent-fg-VISUAL 7,010,518.0 8,388,606.0\n",
      "platformer_4k/all2ORIN-SASS-concurrent-fg-invalidate_l2-best-VISUAL 7,014,545.0 8,395,097.0\n",
      "platformer_4k/all2ORIN-SASS-concurrent-fg-slicer-invalidate_l2-best-VISUAL 7,457,522.0 2,894,626.0\n",
      "platformer_4k/all3ORIN-SASS-VISUAL 13,447,000.0 17,646,348.0\n",
      "platformer_4k/all3ORIN-SASS-concurrent-VISUAL 11,018,500.0 5,218,288.0\n",
      "platformer_4k/all3ORIN-SASS-concurrent-fg-VISUAL 7,012,145.0 9,799,985.0\n",
      "platformer_4k/all3ORIN-SASS-concurrent-fg-invalidate_l2-best-VISUAL 7,037,519.0 9,847,883.0\n",
      "platformer_4k/all3ORIN-SASS-concurrent-fg-slicer-invalidate_l2-best-VISUAL 8,005,222.0 4,695,723.0\n",
      "platformer_4k/ritnetORIN-SASS-VISUAL 0 0\n",
      "platformer_4k/ritnetORIN-SASS-concurrent-VISUAL 0 0\n",
      "platformer_4k/ritnetORIN-SASS-concurrent-fg-VISUAL 9,178,174.0 40,906,938.0\n",
      "platformer_4k/ritnetORIN-SASS-concurrent-fg-invalidate_l2-best-VISUAL 10,580,558.0 37,141,891.0\n",
      "platformer_4k/ritnetORIN-SASS-concurrent-fg-slicer-invalidate_l2-best-VISUAL 10,171,886.0 37,470,372.0\n",
      "platformer_4k/hotlabORIN-SASS-VISUAL 0 0\n",
      "platformer_4k/hotlabORIN-SASS-concurrent-VISUAL 0 0\n",
      "platformer_4k/hotlabORIN-SASS-concurrent-fg-VISUAL 8,360,165.0 16,773,185.0\n",
      "platformer_4k/hotlabORIN-SASS-concurrent-fg-invalidate_l2-best-VISUAL 9,362,000.0 16,646,763.0\n",
      "platformer_4k/hotlabORIN-SASS-concurrent-fg-slicer-invalidate_l2-best-VISUAL 10,534,872.0 16,581,086.0\n"
     ]
    }
   ],
   "source": [
    "# Normalized Latency\n",
    "\n",
    "import plotly\n",
    "import plotly.graph_objects as go\n",
    "import statistics\n",
    "\n",
    "stats = {}\n",
    "compute_cycles = {}\n",
    "mesa_cycles = {}\n",
    "total_cycles = {}\n",
    "compute_ipcs = {}\n",
    "mesa_ipcs = {}\n",
    "appconfigs = []\n",
    "tot_ipcs = {}\n",
    "l2_misses = {}\n",
    "\n",
    "for wl in workloads:\n",
    "    (\n",
    "    all_named_kernels,\n",
    "    stat_map,\n",
    "    apps_and_args,\n",
    "    configs,\n",
    "    stats,\n",
    "    gpgpu_build_nums,\n",
    "    )= get_csv_data_for_merge(\"../../\" + dataset + wl + \".csv\")\n",
    "\n",
    "    for app in apps_and_args:\n",
    "        for config in configs:\n",
    "            mesa = 0\n",
    "            max_g_cycle = 0\n",
    "            max_c_cycle = 0\n",
    "            l2_miss = 0\n",
    "            max_c_kernel = None\n",
    "            max_g_kernel = None\n",
    "            for kernel in all_named_kernels[app]:\n",
    "                kac = kernel + app + config\n",
    "                cycle = (float(stat_map[kac + \"gpu_tot_sim_cycle\\\\s*=\\\\s*(.*)\"].replace(\"NA\", \"0\")))\n",
    "                if \"MESA\" in kernel:\n",
    "                    if cycle > max_g_cycle:\n",
    "                        max_g_cycle = cycle\n",
    "                        max_g_kernel = kernel\n",
    "                    l2_miss += (float(stat_map[kac + \n",
    "                            \"\\\\s+L2_cache_stats_breakdown\\\\[GLOBAL_ACC_R\\\\]\\\\[MISS\\\\]\\\\s*=\\\\s*(.*)\"]\n",
    "                            .replace(\"NA\", \"0\")))\n",
    "                    # l2_miss += (float(stat_map[kac +\n",
    "                    #         \"\\\\s+L2_cache_stats_breakdown\\\\[TEXTURE_ACC_R\\\\]\\\\[MISS\\\\]\\\\s*=\\\\s*(.*)\"]\n",
    "                    #         .replace(\"NA\", \"0\")))\n",
    "                else:\n",
    "                    if cycle > max_c_cycle:\n",
    "                        max_c_cycle = cycle\n",
    "                        max_c_kernel = kernel\n",
    "\n",
    "                \n",
    "            l2_misses[app + config] = l2_miss\n",
    "            mesa_cycles[app + config] = max_g_cycle\n",
    "            compute_cycles[app + config] = max_c_cycle\n",
    "            total_cycles = max(max_g_cycle, max_c_cycle)\n",
    "            # if max_g_cycle > max_c_cycle:\n",
    "            #     tot_ipcs[app + config] = float(stat_map[max_g_kernel + app + config + \"gpu_tot_ipc\\\\s*=\\\\s*(.*)\"].replace(\"NA\", \"0\"))\n",
    "            # else:\n",
    "            #     tot_ipcs[app + config] = float(stat_map[max_c_kernel + app + config + \"gpu_tot_ipc\\\\s*=\\\\s*(.*)\"].replace(\"NA\", \"0\"))\n",
    "            # if config == \"ORIN-SASS-VISUAL\" and max_c_kernel != None:\n",
    "            #     tot_ipcs[app + config] = float(stat_map[max_c_kernel + app + config + \"gpu_tot_ipc\\\\s*=\\\\s*(.*)\"].replace(\"NA\", \"0\"))\n",
    "            print(app + config, \n",
    "                  f'{mesa_cycles[app + config] :,}', f'{compute_cycles[app + config]:,}', \n",
    "                #   tot_ipcs[app + config],\n",
    "                # l2_misses[app + config]\n",
    "                  )\n",
    "                  "
   ]
  },
  {
   "cell_type": "code",
   "execution_count": 472,
   "metadata": {},
   "outputs": [
    {
     "data": {
      "text/plain": [
       "[1.307564808948948,\n",
       " 1.2135110854604059,\n",
       " 1.1232472665576625,\n",
       " 1.1154889807339003,\n",
       " 1.153750763975056,\n",
       " 1.0823312101740363,\n",
       " 1.163643554751417]"
      ]
     },
     "execution_count": 472,
     "metadata": {},
     "output_type": "execute_result"
    }
   ],
   "source": [
    "cs_delay = 260000\n",
    "vio1_baseline = 1383788\n",
    "\n",
    "mesa_basline = [3962030, 5509920, 4416958, 4683252, 4065905, 8220297]\n",
    "mesa_cs = [int(x + cs_delay) for x in mesa_basline]\n",
    "\n",
    "mesa_dynamic = [4554819.0,6094342.0,4789530.0,5027274.0,4465824.0,8563620.0]\n",
    "vio1_dynamic = [2312623.0,2180626.0,3027435.0,2796810.0,2457911.0,2432705.0]\n",
    "\n",
    "mesa_ucp = [5180611, 6686349, 4961336, 5224116, 4691041, 8897084]\n",
    "vio1_ucp = [3044508, 2816280, 3165919, 3067841, 2702536, 2787477]\n",
    "\n",
    "mesa_slicer = [\n",
    "    mesa_cycles[\"pbrtexture_2k/all1ORIN-SASS-concurrent-fg-slicer-invalidate_l2-best-VISUAL\"],\n",
    "    mesa_cycles[\"pbrtexture_4k/all1ORIN-SASS-concurrent-fg-slicer-invalidate_l2-best-VISUAL\"],\n",
    "    mesa_cycles[\"instancing_2k/all1ORIN-SASS-concurrent-fg-slicer-invalidate_l2-best-VISUAL\"],\n",
    "    mesa_cycles[\"instancing_4k/all1ORIN-SASS-concurrent-fg-slicer-invalidate_l2-best-VISUAL\"],\n",
    "    mesa_cycles[\"render_passes_2k/all1ORIN-SASS-concurrent-fg-slicer-invalidate_l2-best-VISUAL\"],\n",
    "    mesa_cycles[\"render_passes_4k/all1ORIN-SASS-concurrent-fg-slicer-invalidate_l2-best-VISUAL\"],\n",
    "]\n",
    "\n",
    "vio1_slicer = [\n",
    "    compute_cycles[\"pbrtexture_2k/all1ORIN-SASS-concurrent-fg-slicer-invalidate_l2-best-VISUAL\"],\n",
    "    compute_cycles[\"pbrtexture_4k/all1ORIN-SASS-concurrent-fg-slicer-invalidate_l2-best-VISUAL\"],\n",
    "    compute_cycles[\"instancing_2k/all1ORIN-SASS-concurrent-fg-slicer-invalidate_l2-best-VISUAL\"],\n",
    "    compute_cycles[\"instancing_4k/all1ORIN-SASS-concurrent-fg-slicer-invalidate_l2-best-VISUAL\"],\n",
    "    compute_cycles[\"render_passes_2k/all1ORIN-SASS-concurrent-fg-slicer-invalidate_l2-best-VISUAL\"],\n",
    "    compute_cycles[\"render_passes_4k/all1ORIN-SASS-concurrent-fg-slicer-invalidate_l2-best-VISUAL\"],\n",
    "]\n",
    "\n",
    "system_cs = [x + vio1_baseline for x in mesa_cs]\n",
    "system_slicer = [max(x,y) for x,y in zip(mesa_slicer, vio1_slicer)]\n",
    "system_ucp = [max(x,y) for x,y in zip(mesa_ucp, vio1_ucp)]\n",
    "system_dynamic = [max(x,y) for x,y in zip(mesa_dynamic, vio1_dynamic)]\n",
    "\n",
    "throughput_mesa_cs = [x/y for x,y in zip(system_cs, system_cs)]\n",
    "throughput_mesa_slicer = [x/y for x,y in zip(system_cs, mesa_slicer)]\n",
    "throughput_mesa_dynamic = [x/y for x,y in zip(system_cs, mesa_dynamic)]\n",
    "throughput_mesa_ucp = [x/y for x,y in zip(system_cs, mesa_ucp)]\n",
    "\n",
    "throughput_vio1_cs = [x/y for x,y in zip(system_cs, system_cs)]\n",
    "throughput_vio1_slicer = [x/y for x,y in zip(system_cs, vio1_slicer)]\n",
    "throughput_vio1_dynamic = [x/y for x,y in zip(system_cs, vio1_dynamic)]\n",
    "throughput_vio1_ucp = [x/y for x,y in zip(system_cs, vio1_ucp)]\n",
    "\n",
    "latency_mesa_cs = [x/y for x,y in zip(mesa_cs, mesa_basline)]\n",
    "latency_mesa_slicer = [x/y for x,y in zip(mesa_slicer, mesa_basline)]\n",
    "latency_mesa_dynamic = [x/y for x,y in zip(mesa_dynamic, mesa_basline)]\n",
    "latency_mesa_ucp = [x/y for x,y in zip(mesa_ucp, mesa_basline)]\n",
    "\n",
    "latency_vio1_cs = [1 for x in mesa_basline]\n",
    "latency_vio1_slicer = [x/vio1_baseline for x in vio1_slicer]\n",
    "latency_vio1_dynamic = [x/vio1_baseline for x in vio1_dynamic]\n",
    "latency_vio1_ucp = [x/vio1_baseline for x in vio1_ucp]\n",
    "\n",
    "throughput_mesa_cs.append(statistics.geometric_mean(throughput_mesa_cs))\n",
    "throughput_mesa_slicer.append(statistics.geometric_mean(throughput_mesa_slicer))\n",
    "throughput_mesa_dynamic.append(statistics.geometric_mean(throughput_mesa_dynamic))\n",
    "throughput_mesa_ucp.append(statistics.geometric_mean(throughput_mesa_ucp))\n",
    "throughput_vio1_cs.append(statistics.geometric_mean(throughput_vio1_cs))\n",
    "throughput_vio1_slicer.append(statistics.geometric_mean(throughput_vio1_slicer))\n",
    "throughput_vio1_dynamic.append(statistics.geometric_mean(throughput_vio1_dynamic))\n",
    "throughput_vio1_ucp.append(statistics.geometric_mean(throughput_vio1_ucp))\n",
    "latency_mesa_cs.append(statistics.geometric_mean(latency_mesa_cs))\n",
    "latency_mesa_slicer.append(statistics.geometric_mean(latency_mesa_slicer))\n",
    "latency_mesa_dynamic.append(statistics.geometric_mean(latency_mesa_dynamic))\n",
    "latency_mesa_ucp.append(statistics.geometric_mean(latency_mesa_ucp))\n",
    "latency_vio1_cs.append(statistics.geometric_mean(latency_vio1_cs))\n",
    "latency_vio1_slicer.append(statistics.geometric_mean(latency_vio1_slicer))\n",
    "latency_vio1_dynamic.append(statistics.geometric_mean(latency_vio1_dynamic))\n",
    "latency_vio1_ucp.append(statistics.geometric_mean(latency_vio1_ucp))\n",
    "\n",
    "latency_mesa_ucp"
   ]
  },
  {
   "cell_type": "code",
   "execution_count": 611,
   "metadata": {},
   "outputs": [
    {
     "data": {
      "application/vnd.plotly.v1+json": {
       "config": {
        "plotlyServerURL": "https://plot.ly"
       },
       "data": [
        {
         "marker": {
          "size": 12,
          "symbol": [
           "x",
           "x",
           "x",
           "x",
           "x",
           "x",
           "x",
           "square",
           "square",
           "square",
           "square",
           "square",
           "square",
           "square"
          ]
         },
         "mode": "markers",
         "name": "TAP",
         "showlegend": false,
         "type": "scatter",
         "x": [
          [
           "PT2",
           "PT4",
           "IT2",
           "IT4",
           "SPL2",
           "SPL4",
           "GeoMean",
           "PT2",
           "PT4",
           "IT2",
           "IT4",
           "SPL2",
           "SPL4",
           "GeoMean"
          ],
          [
           "TAP",
           "TAP",
           "TAP",
           "TAP",
           "TAP",
           "TAP",
           "TAP",
           "TAP",
           "TAP",
           "TAP",
           "TAP",
           "TAP",
           "TAP",
           "TAP"
          ]
         ],
         "y": [
          1.0820766121988314,
          1.0698974881508578,
          1.2215955541007504,
          1.2111216519694432,
          1.2171483898776412,
          1.1086874081440616,
          1.1498592211861343,
          1.8412886417115673,
          2.540126691948244,
          1.914371782727227,
          2.0623754620920707,
          2.1127167223674355,
          3.5387144001546917,
          2.2734025463534664
         ]
        },
        {
         "marker": {
          "size": 12,
          "symbol": [
           "x",
           "x",
           "x",
           "x",
           "x",
           "x",
           "x",
           "square",
           "square",
           "square",
           "square",
           "square",
           "square",
           "square"
          ]
         },
         "mode": "markers",
         "name": "Warp-Slicer",
         "showlegend": false,
         "type": "scatter",
         "x": [
          [
           "PT2",
           "PT4",
           "IT2",
           "IT4",
           "SPL2",
           "SPL4",
           "GeoMean",
           "PT2",
           "PT4",
           "IT2",
           "IT4",
           "SPL2",
           "SPL4",
           "GeoMean"
          ],
          [
           "Warp Slicer",
           "Warp Slicer",
           "Warp Slicer",
           "Warp Slicer",
           "Warp Slicer",
           "Warp Slicer",
           "Warp Slicer",
           "Warp Slicer",
           "Warp Slicer",
           "Warp Slicer",
           "Warp Slicer",
           "Warp Slicer",
           "Warp Slicer",
           "Warp Slicer"
          ]
         ],
         "y": [
          1.166135862775094,
          1.1827651811065307,
          1.2435702405540305,
          1.1324293166860535,
          1.329083064941885,
          1.1614910854796614,
          1.2008336576820717,
          1.3052117731782147,
          3.739710931651562,
          1.2013126392067714,
          1.1803478823457862,
          2.1216885386985584,
          1.1306267221735722,
          1.5972184834889533
         ]
        },
        {
         "marker": {
          "color": "green",
          "size": 12,
          "symbol": [
           "x",
           "x",
           "x",
           "x",
           "x",
           "x",
           "x"
          ]
         },
         "mode": "markers+text",
         "name": "Render",
         "text": [
          "1.23",
          "1.17",
          "1.27",
          "1.26",
          "1.28",
          "1.15",
          "1.23",
          "2.42",
          "3.28",
          "2.00",
          "2.26",
          "2.32",
          "4.05",
          "2.64"
         ],
         "textfont": {
          "size": 20
         },
         "textposition": "bottom center",
         "type": "scatter",
         "x": [
          [
           "PT2",
           "PT4",
           "IT2",
           "IT4",
           "SPL2",
           "SPL4",
           "GeoMean",
           "PT2",
           "PT4",
           "IT2",
           "IT4",
           "SPL2",
           "SPL4",
           "GeoMean"
          ],
          [
           "Split Reality",
           "Split Reality",
           "Split Reality",
           "Split Reality",
           "Split Reality",
           "Split Reality",
           "Split Reality"
          ]
         ],
         "y": [
          1.2307444049917242,
          1.1738277897761562,
          1.2654156044538818,
          1.2585429001880541,
          1.2785306810120596,
          1.1518592604529394,
          1.225548981042009,
          2.4240085824624247,
          3.280575394405093,
          2.0019409169808764,
          2.2622344742760503,
          2.3229860641821447,
          4.054780583753476,
          2.640874938651914
         ]
        },
        {
         "marker": {
          "color": "green",
          "size": 12,
          "symbol": [
           "square",
           "square",
           "square",
           "square",
           "square",
           "square",
           "square"
          ]
         },
         "mode": "markers+text",
         "name": "VIO",
         "text": [
          "2.42",
          "3.28",
          "2.00",
          "2.26",
          "2.32",
          "4.05",
          "2.64"
         ],
         "textfont": {
          "size": 20
         },
         "textposition": "top center",
         "type": "scatter",
         "x": [
          [
           "PT2",
           "PT4",
           "IT2",
           "IT4",
           "SPL2",
           "SPL4",
           "GeoMean"
          ],
          [
           "Split Reality",
           "Split Reality",
           "Split Reality",
           "Split Reality",
           "Split Reality",
           "Split Reality",
           "Split Reality"
          ]
         ],
         "y": [
          2.4240085824624247,
          3.280575394405093,
          2.0019409169808764,
          2.2622344742760503,
          2.3229860641821447,
          4.054780583753476,
          2.640874938651914
         ]
        }
       ],
       "layout": {
        "autosize": false,
        "height": 500,
        "legend": {
         "font": {
          "size": 20
         },
         "orientation": "h",
         "x": 0.4,
         "xanchor": "left",
         "y": 1,
         "yanchor": "bottom"
        },
        "margin": {
         "b": 100,
         "l": 50,
         "r": 50,
         "t": 20
        },
        "plot_bgcolor": "rgba(0,0,0,0)",
        "shapes": [
         {
          "layer": "below",
          "line": {
           "color": "gainsboro",
           "width": 2
          },
          "type": "line",
          "x0": 2.5,
          "x1": 2.5,
          "y0": 0,
          "y1": 7.2
         },
         {
          "layer": "below",
          "line": {
           "color": "gainsboro",
           "width": 2
          },
          "type": "line",
          "x0": 5.5,
          "x1": 5.5,
          "y0": 0,
          "y1": 7.2
         },
         {
          "layer": "below",
          "line": {
           "color": "gainsboro",
           "width": 2
          },
          "type": "line",
          "x0": 8.5,
          "x1": 8.5,
          "y0": 0,
          "y1": 7.2
         },
         {
          "layer": "below",
          "line": {
           "color": "gainsboro",
           "width": 2
          },
          "type": "line",
          "x0": 11.5,
          "x1": 11.5,
          "y0": 0,
          "y1": 7.2
         },
         {
          "layer": "below",
          "line": {
           "color": "gainsboro",
           "width": 2
          },
          "type": "line",
          "x0": 14.5,
          "x1": 14.5,
          "y0": 0,
          "y1": 7.2
         },
         {
          "layer": "below",
          "line": {
           "color": "gainsboro",
           "width": 2
          },
          "type": "line",
          "x0": 17.5,
          "x1": 17.5,
          "y0": 0,
          "y1": 7.2
         },
         {
          "layer": "below",
          "line": {
           "color": "gainsboro",
           "width": 2
          },
          "type": "line",
          "x0": 20.5,
          "x1": 20.5,
          "y0": 0,
          "y1": 7.2
         }
        ],
        "template": {
         "data": {
          "bar": [
           {
            "error_x": {
             "color": "#2a3f5f"
            },
            "error_y": {
             "color": "#2a3f5f"
            },
            "marker": {
             "line": {
              "color": "#E5ECF6",
              "width": 0.5
             },
             "pattern": {
              "fillmode": "overlay",
              "size": 10,
              "solidity": 0.2
             }
            },
            "type": "bar"
           }
          ],
          "barpolar": [
           {
            "marker": {
             "line": {
              "color": "#E5ECF6",
              "width": 0.5
             },
             "pattern": {
              "fillmode": "overlay",
              "size": 10,
              "solidity": 0.2
             }
            },
            "type": "barpolar"
           }
          ],
          "carpet": [
           {
            "aaxis": {
             "endlinecolor": "#2a3f5f",
             "gridcolor": "white",
             "linecolor": "white",
             "minorgridcolor": "white",
             "startlinecolor": "#2a3f5f"
            },
            "baxis": {
             "endlinecolor": "#2a3f5f",
             "gridcolor": "white",
             "linecolor": "white",
             "minorgridcolor": "white",
             "startlinecolor": "#2a3f5f"
            },
            "type": "carpet"
           }
          ],
          "choropleth": [
           {
            "colorbar": {
             "outlinewidth": 0,
             "ticks": ""
            },
            "type": "choropleth"
           }
          ],
          "contour": [
           {
            "colorbar": {
             "outlinewidth": 0,
             "ticks": ""
            },
            "colorscale": [
             [
              0,
              "#0d0887"
             ],
             [
              0.1111111111111111,
              "#46039f"
             ],
             [
              0.2222222222222222,
              "#7201a8"
             ],
             [
              0.3333333333333333,
              "#9c179e"
             ],
             [
              0.4444444444444444,
              "#bd3786"
             ],
             [
              0.5555555555555556,
              "#d8576b"
             ],
             [
              0.6666666666666666,
              "#ed7953"
             ],
             [
              0.7777777777777778,
              "#fb9f3a"
             ],
             [
              0.8888888888888888,
              "#fdca26"
             ],
             [
              1,
              "#f0f921"
             ]
            ],
            "type": "contour"
           }
          ],
          "contourcarpet": [
           {
            "colorbar": {
             "outlinewidth": 0,
             "ticks": ""
            },
            "type": "contourcarpet"
           }
          ],
          "heatmap": [
           {
            "colorbar": {
             "outlinewidth": 0,
             "ticks": ""
            },
            "colorscale": [
             [
              0,
              "#0d0887"
             ],
             [
              0.1111111111111111,
              "#46039f"
             ],
             [
              0.2222222222222222,
              "#7201a8"
             ],
             [
              0.3333333333333333,
              "#9c179e"
             ],
             [
              0.4444444444444444,
              "#bd3786"
             ],
             [
              0.5555555555555556,
              "#d8576b"
             ],
             [
              0.6666666666666666,
              "#ed7953"
             ],
             [
              0.7777777777777778,
              "#fb9f3a"
             ],
             [
              0.8888888888888888,
              "#fdca26"
             ],
             [
              1,
              "#f0f921"
             ]
            ],
            "type": "heatmap"
           }
          ],
          "heatmapgl": [
           {
            "colorbar": {
             "outlinewidth": 0,
             "ticks": ""
            },
            "colorscale": [
             [
              0,
              "#0d0887"
             ],
             [
              0.1111111111111111,
              "#46039f"
             ],
             [
              0.2222222222222222,
              "#7201a8"
             ],
             [
              0.3333333333333333,
              "#9c179e"
             ],
             [
              0.4444444444444444,
              "#bd3786"
             ],
             [
              0.5555555555555556,
              "#d8576b"
             ],
             [
              0.6666666666666666,
              "#ed7953"
             ],
             [
              0.7777777777777778,
              "#fb9f3a"
             ],
             [
              0.8888888888888888,
              "#fdca26"
             ],
             [
              1,
              "#f0f921"
             ]
            ],
            "type": "heatmapgl"
           }
          ],
          "histogram": [
           {
            "marker": {
             "pattern": {
              "fillmode": "overlay",
              "size": 10,
              "solidity": 0.2
             }
            },
            "type": "histogram"
           }
          ],
          "histogram2d": [
           {
            "colorbar": {
             "outlinewidth": 0,
             "ticks": ""
            },
            "colorscale": [
             [
              0,
              "#0d0887"
             ],
             [
              0.1111111111111111,
              "#46039f"
             ],
             [
              0.2222222222222222,
              "#7201a8"
             ],
             [
              0.3333333333333333,
              "#9c179e"
             ],
             [
              0.4444444444444444,
              "#bd3786"
             ],
             [
              0.5555555555555556,
              "#d8576b"
             ],
             [
              0.6666666666666666,
              "#ed7953"
             ],
             [
              0.7777777777777778,
              "#fb9f3a"
             ],
             [
              0.8888888888888888,
              "#fdca26"
             ],
             [
              1,
              "#f0f921"
             ]
            ],
            "type": "histogram2d"
           }
          ],
          "histogram2dcontour": [
           {
            "colorbar": {
             "outlinewidth": 0,
             "ticks": ""
            },
            "colorscale": [
             [
              0,
              "#0d0887"
             ],
             [
              0.1111111111111111,
              "#46039f"
             ],
             [
              0.2222222222222222,
              "#7201a8"
             ],
             [
              0.3333333333333333,
              "#9c179e"
             ],
             [
              0.4444444444444444,
              "#bd3786"
             ],
             [
              0.5555555555555556,
              "#d8576b"
             ],
             [
              0.6666666666666666,
              "#ed7953"
             ],
             [
              0.7777777777777778,
              "#fb9f3a"
             ],
             [
              0.8888888888888888,
              "#fdca26"
             ],
             [
              1,
              "#f0f921"
             ]
            ],
            "type": "histogram2dcontour"
           }
          ],
          "mesh3d": [
           {
            "colorbar": {
             "outlinewidth": 0,
             "ticks": ""
            },
            "type": "mesh3d"
           }
          ],
          "parcoords": [
           {
            "line": {
             "colorbar": {
              "outlinewidth": 0,
              "ticks": ""
             }
            },
            "type": "parcoords"
           }
          ],
          "pie": [
           {
            "automargin": true,
            "type": "pie"
           }
          ],
          "scatter": [
           {
            "fillpattern": {
             "fillmode": "overlay",
             "size": 10,
             "solidity": 0.2
            },
            "type": "scatter"
           }
          ],
          "scatter3d": [
           {
            "line": {
             "colorbar": {
              "outlinewidth": 0,
              "ticks": ""
             }
            },
            "marker": {
             "colorbar": {
              "outlinewidth": 0,
              "ticks": ""
             }
            },
            "type": "scatter3d"
           }
          ],
          "scattercarpet": [
           {
            "marker": {
             "colorbar": {
              "outlinewidth": 0,
              "ticks": ""
             }
            },
            "type": "scattercarpet"
           }
          ],
          "scattergeo": [
           {
            "marker": {
             "colorbar": {
              "outlinewidth": 0,
              "ticks": ""
             }
            },
            "type": "scattergeo"
           }
          ],
          "scattergl": [
           {
            "marker": {
             "colorbar": {
              "outlinewidth": 0,
              "ticks": ""
             }
            },
            "type": "scattergl"
           }
          ],
          "scattermapbox": [
           {
            "marker": {
             "colorbar": {
              "outlinewidth": 0,
              "ticks": ""
             }
            },
            "type": "scattermapbox"
           }
          ],
          "scatterpolar": [
           {
            "marker": {
             "colorbar": {
              "outlinewidth": 0,
              "ticks": ""
             }
            },
            "type": "scatterpolar"
           }
          ],
          "scatterpolargl": [
           {
            "marker": {
             "colorbar": {
              "outlinewidth": 0,
              "ticks": ""
             }
            },
            "type": "scatterpolargl"
           }
          ],
          "scatterternary": [
           {
            "marker": {
             "colorbar": {
              "outlinewidth": 0,
              "ticks": ""
             }
            },
            "type": "scatterternary"
           }
          ],
          "surface": [
           {
            "colorbar": {
             "outlinewidth": 0,
             "ticks": ""
            },
            "colorscale": [
             [
              0,
              "#0d0887"
             ],
             [
              0.1111111111111111,
              "#46039f"
             ],
             [
              0.2222222222222222,
              "#7201a8"
             ],
             [
              0.3333333333333333,
              "#9c179e"
             ],
             [
              0.4444444444444444,
              "#bd3786"
             ],
             [
              0.5555555555555556,
              "#d8576b"
             ],
             [
              0.6666666666666666,
              "#ed7953"
             ],
             [
              0.7777777777777778,
              "#fb9f3a"
             ],
             [
              0.8888888888888888,
              "#fdca26"
             ],
             [
              1,
              "#f0f921"
             ]
            ],
            "type": "surface"
           }
          ],
          "table": [
           {
            "cells": {
             "fill": {
              "color": "#EBF0F8"
             },
             "line": {
              "color": "white"
             }
            },
            "header": {
             "fill": {
              "color": "#C8D4E3"
             },
             "line": {
              "color": "white"
             }
            },
            "type": "table"
           }
          ]
         },
         "layout": {
          "annotationdefaults": {
           "arrowcolor": "#2a3f5f",
           "arrowhead": 0,
           "arrowwidth": 1
          },
          "autotypenumbers": "strict",
          "coloraxis": {
           "colorbar": {
            "outlinewidth": 0,
            "ticks": ""
           }
          },
          "colorscale": {
           "diverging": [
            [
             0,
             "#8e0152"
            ],
            [
             0.1,
             "#c51b7d"
            ],
            [
             0.2,
             "#de77ae"
            ],
            [
             0.3,
             "#f1b6da"
            ],
            [
             0.4,
             "#fde0ef"
            ],
            [
             0.5,
             "#f7f7f7"
            ],
            [
             0.6,
             "#e6f5d0"
            ],
            [
             0.7,
             "#b8e186"
            ],
            [
             0.8,
             "#7fbc41"
            ],
            [
             0.9,
             "#4d9221"
            ],
            [
             1,
             "#276419"
            ]
           ],
           "sequential": [
            [
             0,
             "#0d0887"
            ],
            [
             0.1111111111111111,
             "#46039f"
            ],
            [
             0.2222222222222222,
             "#7201a8"
            ],
            [
             0.3333333333333333,
             "#9c179e"
            ],
            [
             0.4444444444444444,
             "#bd3786"
            ],
            [
             0.5555555555555556,
             "#d8576b"
            ],
            [
             0.6666666666666666,
             "#ed7953"
            ],
            [
             0.7777777777777778,
             "#fb9f3a"
            ],
            [
             0.8888888888888888,
             "#fdca26"
            ],
            [
             1,
             "#f0f921"
            ]
           ],
           "sequentialminus": [
            [
             0,
             "#0d0887"
            ],
            [
             0.1111111111111111,
             "#46039f"
            ],
            [
             0.2222222222222222,
             "#7201a8"
            ],
            [
             0.3333333333333333,
             "#9c179e"
            ],
            [
             0.4444444444444444,
             "#bd3786"
            ],
            [
             0.5555555555555556,
             "#d8576b"
            ],
            [
             0.6666666666666666,
             "#ed7953"
            ],
            [
             0.7777777777777778,
             "#fb9f3a"
            ],
            [
             0.8888888888888888,
             "#fdca26"
            ],
            [
             1,
             "#f0f921"
            ]
           ]
          },
          "colorway": [
           "#636efa",
           "#EF553B",
           "#00cc96",
           "#ab63fa",
           "#FFA15A",
           "#19d3f3",
           "#FF6692",
           "#B6E880",
           "#FF97FF",
           "#FECB52"
          ],
          "font": {
           "color": "#2a3f5f"
          },
          "geo": {
           "bgcolor": "white",
           "lakecolor": "white",
           "landcolor": "#E5ECF6",
           "showlakes": true,
           "showland": true,
           "subunitcolor": "white"
          },
          "hoverlabel": {
           "align": "left"
          },
          "hovermode": "closest",
          "mapbox": {
           "style": "light"
          },
          "paper_bgcolor": "white",
          "plot_bgcolor": "#E5ECF6",
          "polar": {
           "angularaxis": {
            "gridcolor": "white",
            "linecolor": "white",
            "ticks": ""
           },
           "bgcolor": "#E5ECF6",
           "radialaxis": {
            "gridcolor": "white",
            "linecolor": "white",
            "ticks": ""
           }
          },
          "scene": {
           "xaxis": {
            "backgroundcolor": "#E5ECF6",
            "gridcolor": "white",
            "gridwidth": 2,
            "linecolor": "white",
            "showbackground": true,
            "ticks": "",
            "zerolinecolor": "white"
           },
           "yaxis": {
            "backgroundcolor": "#E5ECF6",
            "gridcolor": "white",
            "gridwidth": 2,
            "linecolor": "white",
            "showbackground": true,
            "ticks": "",
            "zerolinecolor": "white"
           },
           "zaxis": {
            "backgroundcolor": "#E5ECF6",
            "gridcolor": "white",
            "gridwidth": 2,
            "linecolor": "white",
            "showbackground": true,
            "ticks": "",
            "zerolinecolor": "white"
           }
          },
          "shapedefaults": {
           "line": {
            "color": "#2a3f5f"
           }
          },
          "ternary": {
           "aaxis": {
            "gridcolor": "white",
            "linecolor": "white",
            "ticks": ""
           },
           "baxis": {
            "gridcolor": "white",
            "linecolor": "white",
            "ticks": ""
           },
           "bgcolor": "#E5ECF6",
           "caxis": {
            "gridcolor": "white",
            "linecolor": "white",
            "ticks": ""
           }
          },
          "title": {
           "x": 0.05
          },
          "xaxis": {
           "automargin": true,
           "gridcolor": "white",
           "linecolor": "white",
           "ticks": "",
           "title": {
            "standoff": 15
           },
           "zerolinecolor": "white",
           "zerolinewidth": 2
          },
          "yaxis": {
           "automargin": true,
           "gridcolor": "white",
           "linecolor": "white",
           "ticks": "",
           "title": {
            "standoff": 15
           },
           "zerolinecolor": "white",
           "zerolinewidth": 2
          }
         }
        },
        "title": {
         "font": {
          "size": 20
         }
        },
        "width": 1000,
        "xaxis": {
         "dtick": 1,
         "linecolor": "black",
         "linewidth": 2,
         "range": [
          -0.5,
          20.5
         ],
         "showline": true,
         "tickfont": {
          "size": 20
         },
         "title": {
          "font": {
           "size": 20
          },
          "text": "Workloads"
         }
        },
        "yaxis": {
         "dtick": 1,
         "gridcolor": "gainsboro",
         "gridwidth": 0.5,
         "linecolor": "black",
         "linewidth": 2,
         "range": [
          0,
          5.2
         ],
         "showgrid": true,
         "showline": true,
         "tickfont": {
          "size": 20
         },
         "title": {
          "font": {
           "size": 20
          },
          "text": "Throughput"
         }
        }
       }
      }
     },
     "metadata": {},
     "output_type": "display_data"
    },
    {
     "data": {
      "application/vnd.plotly.v1+json": {
       "config": {
        "plotlyServerURL": "https://plot.ly"
       },
       "data": [
        {
         "marker": {
          "size": 12,
          "symbol": [
           "x",
           "x",
           "x",
           "x",
           "x",
           "x",
           "x",
           "square",
           "square",
           "square",
           "square",
           "square",
           "square",
           "square"
          ]
         },
         "mode": "markers",
         "name": "TAP",
         "showlegend": false,
         "type": "scatter",
         "x": [
          [
           "PT2",
           "PT4",
           "IT2",
           "IT4",
           "SPL2",
           "SPL4",
           "GeoMean",
           "PT2",
           "PT4",
           "IT2",
           "IT4",
           "SPL2",
           "SPL4",
           "GeoMean"
          ],
          [
           "TAP",
           "TAP",
           "TAP",
           "TAP",
           "TAP",
           "TAP",
           "TAP",
           "TAP",
           "TAP",
           "TAP",
           "TAP",
           "TAP",
           "TAP",
           "TAP"
          ]
         ],
         "y": [
          1.307564808948948,
          1.2135110854604059,
          1.1232472665576625,
          1.1154889807339003,
          1.153750763975056,
          1.0823312101740363,
          1.163643554751417,
          2.2001260308659996,
          2.0351961427617526,
          2.287864181507572,
          2.2169877177717976,
          1.9529985807074495,
          2.0143815382125005,
          2.114374128425224
         ]
        },
        {
         "marker": {
          "size": 12,
          "symbol": [
           "x",
           "x",
           "x",
           "x",
           "x",
           "x",
           "x",
           "square",
           "square",
           "square",
           "square",
           "square",
           "square",
           "square"
          ]
         },
         "mode": "markers",
         "name": "Warp-Slicer",
         "showlegend": false,
         "type": "scatter",
         "x": [
          [
           "PT2",
           "PT4",
           "IT2",
           "IT4",
           "SPL2",
           "SPL4",
           "GeoMean",
           "PT2",
           "PT4",
           "IT2",
           "IT4",
           "SPL2",
           "SPL4",
           "GeoMean"
          ],
          [
           "Warp Slicer",
           "Warp Slicer",
           "Warp Slicer",
           "Warp Slicer",
           "Warp Slicer",
           "Warp Slicer",
           "Warp Slicer",
           "Warp Slicer",
           "Warp Slicer",
           "Warp Slicer",
           "Warp Slicer",
           "Warp Slicer",
           "Warp Slicer",
           "Warp Slicer"
          ]
         ],
         "y": [
          1.21331085327471,
          1.0977094041292796,
          1.1033987644890442,
          1.1930041347337277,
          1.0565824828666681,
          1.033126297018222,
          1.1142478086327758,
          3.1037622815055483,
          1.3823678193480504,
          3.645864106351551,
          3.873655502143392,
          1.9447400902450376,
          6.304751883959104,
          3.009496557418871
         ]
        },
        {
         "marker": {
          "color": "green",
          "size": 12,
          "symbol": [
           "x",
           "x",
           "x",
           "x",
           "x",
           "x",
           "x"
          ]
         },
         "mode": "markers+text",
         "name": "Render",
         "text": [
          "1.15",
          "1.11",
          "1.08",
          "1.07",
          "1.10",
          "1.04",
          "1.09",
          "1.67",
          "1.58",
          "2.19",
          "2.02",
          "1.78",
          "1.76",
          "1.82"
         ],
         "textfont": {
          "size": 20
         },
         "textposition": "bottom center",
         "type": "scatter",
         "x": [
          [
           "PT2",
           "PT4",
           "IT2",
           "IT4",
           "SPL2",
           "SPL4",
           "GeoMean",
           "PT2",
           "PT4",
           "IT2",
           "IT4",
           "SPL2",
           "SPL4",
           "GeoMean"
          ],
          [
           "Split Reality",
           "Split Reality",
           "Split Reality",
           "Split Reality",
           "Split Reality",
           "Split Reality",
           "Split Reality"
          ]
         ],
         "y": [
          1.1496174940623871,
          1.106067238725789,
          1.0843503605875355,
          1.0734579305149499,
          1.0983591598918323,
          1.0417652792837047,
          1.0917770666881774,
          1.6712263728258954,
          1.5758382064304648,
          2.1877881583017054,
          2.02112606844401,
          1.7762193341754662,
          1.7580041162374584,
          1.8201632561818815
         ]
        },
        {
         "marker": {
          "color": "green",
          "size": 12,
          "symbol": [
           "square",
           "square",
           "square",
           "square",
           "square",
           "square",
           "square"
          ]
         },
         "mode": "markers+text",
         "name": "VIO",
         "text": [
          "1.67",
          "1.58",
          "2.19",
          "2.02",
          "1.78",
          "1.76",
          "1.82"
         ],
         "textfont": {
          "size": 20
         },
         "textposition": "top center",
         "type": "scatter",
         "x": [
          [
           "PT2",
           "PT4",
           "IT2",
           "IT4",
           "SPL2",
           "SPL4",
           "GeoMean"
          ],
          [
           "Split Reality",
           "Split Reality",
           "Split Reality",
           "Split Reality",
           "Split Reality",
           "Split Reality",
           "Split Reality"
          ]
         ],
         "y": [
          1.6712263728258954,
          1.5758382064304648,
          2.1877881583017054,
          2.02112606844401,
          1.7762193341754662,
          1.7580041162374584,
          1.8201632561818815
         ]
        }
       ],
       "layout": {
        "autosize": false,
        "height": 500,
        "legend": {
         "font": {
          "size": 20
         },
         "orientation": "h",
         "x": 0.4,
         "xanchor": "left",
         "y": 1,
         "yanchor": "bottom"
        },
        "margin": {
         "b": 100,
         "l": 50,
         "r": 50,
         "t": 20
        },
        "plot_bgcolor": "rgba(0,0,0,0)",
        "shapes": [
         {
          "layer": "below",
          "line": {
           "color": "gainsboro",
           "width": 2
          },
          "type": "line",
          "x0": 2.5,
          "x1": 2.5,
          "y0": 0,
          "y1": 7.2
         },
         {
          "layer": "below",
          "line": {
           "color": "gainsboro",
           "width": 2
          },
          "type": "line",
          "x0": 5.5,
          "x1": 5.5,
          "y0": 0,
          "y1": 7.2
         },
         {
          "layer": "below",
          "line": {
           "color": "gainsboro",
           "width": 2
          },
          "type": "line",
          "x0": 8.5,
          "x1": 8.5,
          "y0": 0,
          "y1": 7.2
         },
         {
          "layer": "below",
          "line": {
           "color": "gainsboro",
           "width": 2
          },
          "type": "line",
          "x0": 11.5,
          "x1": 11.5,
          "y0": 0,
          "y1": 7.2
         },
         {
          "layer": "below",
          "line": {
           "color": "gainsboro",
           "width": 2
          },
          "type": "line",
          "x0": 14.5,
          "x1": 14.5,
          "y0": 0,
          "y1": 7.2
         },
         {
          "layer": "below",
          "line": {
           "color": "gainsboro",
           "width": 2
          },
          "type": "line",
          "x0": 17.5,
          "x1": 17.5,
          "y0": 0,
          "y1": 7.2
         },
         {
          "layer": "below",
          "line": {
           "color": "gainsboro",
           "width": 2
          },
          "type": "line",
          "x0": 20.5,
          "x1": 20.5,
          "y0": 0,
          "y1": 7.2
         }
        ],
        "template": {
         "data": {
          "bar": [
           {
            "error_x": {
             "color": "#2a3f5f"
            },
            "error_y": {
             "color": "#2a3f5f"
            },
            "marker": {
             "line": {
              "color": "#E5ECF6",
              "width": 0.5
             },
             "pattern": {
              "fillmode": "overlay",
              "size": 10,
              "solidity": 0.2
             }
            },
            "type": "bar"
           }
          ],
          "barpolar": [
           {
            "marker": {
             "line": {
              "color": "#E5ECF6",
              "width": 0.5
             },
             "pattern": {
              "fillmode": "overlay",
              "size": 10,
              "solidity": 0.2
             }
            },
            "type": "barpolar"
           }
          ],
          "carpet": [
           {
            "aaxis": {
             "endlinecolor": "#2a3f5f",
             "gridcolor": "white",
             "linecolor": "white",
             "minorgridcolor": "white",
             "startlinecolor": "#2a3f5f"
            },
            "baxis": {
             "endlinecolor": "#2a3f5f",
             "gridcolor": "white",
             "linecolor": "white",
             "minorgridcolor": "white",
             "startlinecolor": "#2a3f5f"
            },
            "type": "carpet"
           }
          ],
          "choropleth": [
           {
            "colorbar": {
             "outlinewidth": 0,
             "ticks": ""
            },
            "type": "choropleth"
           }
          ],
          "contour": [
           {
            "colorbar": {
             "outlinewidth": 0,
             "ticks": ""
            },
            "colorscale": [
             [
              0,
              "#0d0887"
             ],
             [
              0.1111111111111111,
              "#46039f"
             ],
             [
              0.2222222222222222,
              "#7201a8"
             ],
             [
              0.3333333333333333,
              "#9c179e"
             ],
             [
              0.4444444444444444,
              "#bd3786"
             ],
             [
              0.5555555555555556,
              "#d8576b"
             ],
             [
              0.6666666666666666,
              "#ed7953"
             ],
             [
              0.7777777777777778,
              "#fb9f3a"
             ],
             [
              0.8888888888888888,
              "#fdca26"
             ],
             [
              1,
              "#f0f921"
             ]
            ],
            "type": "contour"
           }
          ],
          "contourcarpet": [
           {
            "colorbar": {
             "outlinewidth": 0,
             "ticks": ""
            },
            "type": "contourcarpet"
           }
          ],
          "heatmap": [
           {
            "colorbar": {
             "outlinewidth": 0,
             "ticks": ""
            },
            "colorscale": [
             [
              0,
              "#0d0887"
             ],
             [
              0.1111111111111111,
              "#46039f"
             ],
             [
              0.2222222222222222,
              "#7201a8"
             ],
             [
              0.3333333333333333,
              "#9c179e"
             ],
             [
              0.4444444444444444,
              "#bd3786"
             ],
             [
              0.5555555555555556,
              "#d8576b"
             ],
             [
              0.6666666666666666,
              "#ed7953"
             ],
             [
              0.7777777777777778,
              "#fb9f3a"
             ],
             [
              0.8888888888888888,
              "#fdca26"
             ],
             [
              1,
              "#f0f921"
             ]
            ],
            "type": "heatmap"
           }
          ],
          "heatmapgl": [
           {
            "colorbar": {
             "outlinewidth": 0,
             "ticks": ""
            },
            "colorscale": [
             [
              0,
              "#0d0887"
             ],
             [
              0.1111111111111111,
              "#46039f"
             ],
             [
              0.2222222222222222,
              "#7201a8"
             ],
             [
              0.3333333333333333,
              "#9c179e"
             ],
             [
              0.4444444444444444,
              "#bd3786"
             ],
             [
              0.5555555555555556,
              "#d8576b"
             ],
             [
              0.6666666666666666,
              "#ed7953"
             ],
             [
              0.7777777777777778,
              "#fb9f3a"
             ],
             [
              0.8888888888888888,
              "#fdca26"
             ],
             [
              1,
              "#f0f921"
             ]
            ],
            "type": "heatmapgl"
           }
          ],
          "histogram": [
           {
            "marker": {
             "pattern": {
              "fillmode": "overlay",
              "size": 10,
              "solidity": 0.2
             }
            },
            "type": "histogram"
           }
          ],
          "histogram2d": [
           {
            "colorbar": {
             "outlinewidth": 0,
             "ticks": ""
            },
            "colorscale": [
             [
              0,
              "#0d0887"
             ],
             [
              0.1111111111111111,
              "#46039f"
             ],
             [
              0.2222222222222222,
              "#7201a8"
             ],
             [
              0.3333333333333333,
              "#9c179e"
             ],
             [
              0.4444444444444444,
              "#bd3786"
             ],
             [
              0.5555555555555556,
              "#d8576b"
             ],
             [
              0.6666666666666666,
              "#ed7953"
             ],
             [
              0.7777777777777778,
              "#fb9f3a"
             ],
             [
              0.8888888888888888,
              "#fdca26"
             ],
             [
              1,
              "#f0f921"
             ]
            ],
            "type": "histogram2d"
           }
          ],
          "histogram2dcontour": [
           {
            "colorbar": {
             "outlinewidth": 0,
             "ticks": ""
            },
            "colorscale": [
             [
              0,
              "#0d0887"
             ],
             [
              0.1111111111111111,
              "#46039f"
             ],
             [
              0.2222222222222222,
              "#7201a8"
             ],
             [
              0.3333333333333333,
              "#9c179e"
             ],
             [
              0.4444444444444444,
              "#bd3786"
             ],
             [
              0.5555555555555556,
              "#d8576b"
             ],
             [
              0.6666666666666666,
              "#ed7953"
             ],
             [
              0.7777777777777778,
              "#fb9f3a"
             ],
             [
              0.8888888888888888,
              "#fdca26"
             ],
             [
              1,
              "#f0f921"
             ]
            ],
            "type": "histogram2dcontour"
           }
          ],
          "mesh3d": [
           {
            "colorbar": {
             "outlinewidth": 0,
             "ticks": ""
            },
            "type": "mesh3d"
           }
          ],
          "parcoords": [
           {
            "line": {
             "colorbar": {
              "outlinewidth": 0,
              "ticks": ""
             }
            },
            "type": "parcoords"
           }
          ],
          "pie": [
           {
            "automargin": true,
            "type": "pie"
           }
          ],
          "scatter": [
           {
            "fillpattern": {
             "fillmode": "overlay",
             "size": 10,
             "solidity": 0.2
            },
            "type": "scatter"
           }
          ],
          "scatter3d": [
           {
            "line": {
             "colorbar": {
              "outlinewidth": 0,
              "ticks": ""
             }
            },
            "marker": {
             "colorbar": {
              "outlinewidth": 0,
              "ticks": ""
             }
            },
            "type": "scatter3d"
           }
          ],
          "scattercarpet": [
           {
            "marker": {
             "colorbar": {
              "outlinewidth": 0,
              "ticks": ""
             }
            },
            "type": "scattercarpet"
           }
          ],
          "scattergeo": [
           {
            "marker": {
             "colorbar": {
              "outlinewidth": 0,
              "ticks": ""
             }
            },
            "type": "scattergeo"
           }
          ],
          "scattergl": [
           {
            "marker": {
             "colorbar": {
              "outlinewidth": 0,
              "ticks": ""
             }
            },
            "type": "scattergl"
           }
          ],
          "scattermapbox": [
           {
            "marker": {
             "colorbar": {
              "outlinewidth": 0,
              "ticks": ""
             }
            },
            "type": "scattermapbox"
           }
          ],
          "scatterpolar": [
           {
            "marker": {
             "colorbar": {
              "outlinewidth": 0,
              "ticks": ""
             }
            },
            "type": "scatterpolar"
           }
          ],
          "scatterpolargl": [
           {
            "marker": {
             "colorbar": {
              "outlinewidth": 0,
              "ticks": ""
             }
            },
            "type": "scatterpolargl"
           }
          ],
          "scatterternary": [
           {
            "marker": {
             "colorbar": {
              "outlinewidth": 0,
              "ticks": ""
             }
            },
            "type": "scatterternary"
           }
          ],
          "surface": [
           {
            "colorbar": {
             "outlinewidth": 0,
             "ticks": ""
            },
            "colorscale": [
             [
              0,
              "#0d0887"
             ],
             [
              0.1111111111111111,
              "#46039f"
             ],
             [
              0.2222222222222222,
              "#7201a8"
             ],
             [
              0.3333333333333333,
              "#9c179e"
             ],
             [
              0.4444444444444444,
              "#bd3786"
             ],
             [
              0.5555555555555556,
              "#d8576b"
             ],
             [
              0.6666666666666666,
              "#ed7953"
             ],
             [
              0.7777777777777778,
              "#fb9f3a"
             ],
             [
              0.8888888888888888,
              "#fdca26"
             ],
             [
              1,
              "#f0f921"
             ]
            ],
            "type": "surface"
           }
          ],
          "table": [
           {
            "cells": {
             "fill": {
              "color": "#EBF0F8"
             },
             "line": {
              "color": "white"
             }
            },
            "header": {
             "fill": {
              "color": "#C8D4E3"
             },
             "line": {
              "color": "white"
             }
            },
            "type": "table"
           }
          ]
         },
         "layout": {
          "annotationdefaults": {
           "arrowcolor": "#2a3f5f",
           "arrowhead": 0,
           "arrowwidth": 1
          },
          "autotypenumbers": "strict",
          "coloraxis": {
           "colorbar": {
            "outlinewidth": 0,
            "ticks": ""
           }
          },
          "colorscale": {
           "diverging": [
            [
             0,
             "#8e0152"
            ],
            [
             0.1,
             "#c51b7d"
            ],
            [
             0.2,
             "#de77ae"
            ],
            [
             0.3,
             "#f1b6da"
            ],
            [
             0.4,
             "#fde0ef"
            ],
            [
             0.5,
             "#f7f7f7"
            ],
            [
             0.6,
             "#e6f5d0"
            ],
            [
             0.7,
             "#b8e186"
            ],
            [
             0.8,
             "#7fbc41"
            ],
            [
             0.9,
             "#4d9221"
            ],
            [
             1,
             "#276419"
            ]
           ],
           "sequential": [
            [
             0,
             "#0d0887"
            ],
            [
             0.1111111111111111,
             "#46039f"
            ],
            [
             0.2222222222222222,
             "#7201a8"
            ],
            [
             0.3333333333333333,
             "#9c179e"
            ],
            [
             0.4444444444444444,
             "#bd3786"
            ],
            [
             0.5555555555555556,
             "#d8576b"
            ],
            [
             0.6666666666666666,
             "#ed7953"
            ],
            [
             0.7777777777777778,
             "#fb9f3a"
            ],
            [
             0.8888888888888888,
             "#fdca26"
            ],
            [
             1,
             "#f0f921"
            ]
           ],
           "sequentialminus": [
            [
             0,
             "#0d0887"
            ],
            [
             0.1111111111111111,
             "#46039f"
            ],
            [
             0.2222222222222222,
             "#7201a8"
            ],
            [
             0.3333333333333333,
             "#9c179e"
            ],
            [
             0.4444444444444444,
             "#bd3786"
            ],
            [
             0.5555555555555556,
             "#d8576b"
            ],
            [
             0.6666666666666666,
             "#ed7953"
            ],
            [
             0.7777777777777778,
             "#fb9f3a"
            ],
            [
             0.8888888888888888,
             "#fdca26"
            ],
            [
             1,
             "#f0f921"
            ]
           ]
          },
          "colorway": [
           "#636efa",
           "#EF553B",
           "#00cc96",
           "#ab63fa",
           "#FFA15A",
           "#19d3f3",
           "#FF6692",
           "#B6E880",
           "#FF97FF",
           "#FECB52"
          ],
          "font": {
           "color": "#2a3f5f"
          },
          "geo": {
           "bgcolor": "white",
           "lakecolor": "white",
           "landcolor": "#E5ECF6",
           "showlakes": true,
           "showland": true,
           "subunitcolor": "white"
          },
          "hoverlabel": {
           "align": "left"
          },
          "hovermode": "closest",
          "mapbox": {
           "style": "light"
          },
          "paper_bgcolor": "white",
          "plot_bgcolor": "#E5ECF6",
          "polar": {
           "angularaxis": {
            "gridcolor": "white",
            "linecolor": "white",
            "ticks": ""
           },
           "bgcolor": "#E5ECF6",
           "radialaxis": {
            "gridcolor": "white",
            "linecolor": "white",
            "ticks": ""
           }
          },
          "scene": {
           "xaxis": {
            "backgroundcolor": "#E5ECF6",
            "gridcolor": "white",
            "gridwidth": 2,
            "linecolor": "white",
            "showbackground": true,
            "ticks": "",
            "zerolinecolor": "white"
           },
           "yaxis": {
            "backgroundcolor": "#E5ECF6",
            "gridcolor": "white",
            "gridwidth": 2,
            "linecolor": "white",
            "showbackground": true,
            "ticks": "",
            "zerolinecolor": "white"
           },
           "zaxis": {
            "backgroundcolor": "#E5ECF6",
            "gridcolor": "white",
            "gridwidth": 2,
            "linecolor": "white",
            "showbackground": true,
            "ticks": "",
            "zerolinecolor": "white"
           }
          },
          "shapedefaults": {
           "line": {
            "color": "#2a3f5f"
           }
          },
          "ternary": {
           "aaxis": {
            "gridcolor": "white",
            "linecolor": "white",
            "ticks": ""
           },
           "baxis": {
            "gridcolor": "white",
            "linecolor": "white",
            "ticks": ""
           },
           "bgcolor": "#E5ECF6",
           "caxis": {
            "gridcolor": "white",
            "linecolor": "white",
            "ticks": ""
           }
          },
          "title": {
           "x": 0.05
          },
          "xaxis": {
           "automargin": true,
           "gridcolor": "white",
           "linecolor": "white",
           "ticks": "",
           "title": {
            "standoff": 15
           },
           "zerolinecolor": "white",
           "zerolinewidth": 2
          },
          "yaxis": {
           "automargin": true,
           "gridcolor": "white",
           "linecolor": "white",
           "ticks": "",
           "title": {
            "standoff": 15
           },
           "zerolinecolor": "white",
           "zerolinewidth": 2
          }
         }
        },
        "title": {
         "font": {
          "size": 20
         }
        },
        "width": 1000,
        "xaxis": {
         "dtick": 1,
         "linecolor": "black",
         "linewidth": 2,
         "range": [
          -0.5,
          20.5
         ],
         "showline": true,
         "tickfont": {
          "size": 20
         },
         "title": {
          "font": {
           "size": 20
          },
          "text": "Workloads"
         }
        },
        "yaxis": {
         "dtick": 1,
         "gridcolor": "gainsboro",
         "gridwidth": 0.5,
         "linecolor": "black",
         "linewidth": 2,
         "range": [
          0,
          7.2
         ],
         "showgrid": true,
         "showline": true,
         "tickfont": {
          "size": 20
         },
         "title": {
          "font": {
           "size": 20
          },
          "text": "Latency"
         }
        }
       }
      }
     },
     "metadata": {},
     "output_type": "display_data"
    }
   ],
   "source": [
    "gr2_to_plot = []\n",
    "cp2_to_plot = []\n",
    "gr1_to_plot = []\n",
    "cp1_to_plot = []\n",
    "gr2_hotlab_to_plot = []\n",
    "cp2_hotlab_to_plot = []\n",
    "gr1_hotlab_to_plot = []\n",
    "cp1_hotlab_to_plot = []\n",
    "x_mesa_labels = []\n",
    "x_vio_labels = []\n",
    "x_holo_labels = []\n",
    "x_nn_labels = []\n",
    "x_slam_labels = []\n",
    "x_names = []\n",
    "x_sizes = []\n",
    "font_size = 20\n",
    "\n",
    "for wl in workloads:\n",
    "    if \"sponza\" in wl:\n",
    "        break\n",
    "    x_names.append(wl.split(\"_\")[0])\n",
    "    x_sizes.append(wl.split(\"_\")[-1])\n",
    "    x_mesa_labels.append(wl_to_name[wl])\n",
    "    x_vio_labels.append(\"VIO\")\n",
    "    x_holo_labels.append(\"HOLO\")\n",
    "    x_nn_labels.append(\"NN\")\n",
    "    x_slam_labels.append(\"SLAM\")\n",
    "\n",
    "x_mesa_labels.append(\"GeoMean\")\n",
    "x_vio_labels.append(\"VIO\")\n",
    "x_holo_labels.append(\"HOLO\")\n",
    "x_nn_labels.append(\"NN\")\n",
    "x_slam_labels.append(\"SLAM\")\n",
    "\n",
    "ones = [0 for i in range(len(x_mesa_labels))]\n",
    "fig0 = go.Figure()\n",
    "fig0.add_trace(\n",
    "    go.Scatter(\n",
    "        name=\"TAP\",\n",
    "        x=[\n",
    "            x_mesa_labels + x_mesa_labels,\n",
    "            [\"TAP\" for i in throughput_mesa_ucp] + [\"TAP\" for i in throughput_vio1_ucp],\n",
    "        ],\n",
    "        y=throughput_mesa_ucp + throughput_vio1_ucp,\n",
    "        mode=\"markers\",\n",
    "        marker_symbol=[\"x\" for i in throughput_mesa_ucp] + [\"square\" for i in throughput_vio1_ucp],\n",
    "        marker_size=12,\n",
    "        showlegend=False\n",
    "    )\n",
    ")\n",
    "fig0.add_trace(\n",
    "    go.Scatter(\n",
    "        name=\"Warp-Slicer\",\n",
    "        x=[\n",
    "            x_mesa_labels + x_mesa_labels,\n",
    "            [\"Warp Slicer\" for i in throughput_mesa_slicer] + [\"Warp Slicer\" for i in throughput_vio1_slicer],\n",
    "        ],\n",
    "        y=throughput_mesa_slicer + throughput_vio1_slicer,\n",
    "        mode=\"markers\",\n",
    "        marker_symbol=[\"x\" for i in throughput_mesa_slicer] + [\"square\" for i in throughput_vio1_slicer],\n",
    "        marker_size=12,\n",
    "        showlegend=False\n",
    "    )\n",
    ")\n",
    "fig0.add_trace(\n",
    "    go.Scatter(\n",
    "        name=\"Render\",\n",
    "        x=[\n",
    "            x_mesa_labels + x_mesa_labels,\n",
    "            [\"Split Reality\" for i in throughput_mesa_dynamic],\n",
    "        ],\n",
    "        y=throughput_mesa_dynamic + throughput_vio1_dynamic,\n",
    "        mode=\"markers+text\",\n",
    "        marker_symbol=[\"x\" for i in throughput_mesa_dynamic],\n",
    "        marker_size=12,\n",
    "        marker_color=\"green\",\n",
    "        # 2 digit\n",
    "        text = [f'{x:.2f}' for x in throughput_mesa_dynamic + throughput_vio1_dynamic],\n",
    "        textposition=\"bottom center\",\n",
    "        textfont=dict(size=font_size),\n",
    "    )\n",
    ")\n",
    "fig0.add_trace(\n",
    "    go.Scatter(\n",
    "        name=\"VIO\",\n",
    "        x=[\n",
    "            x_mesa_labels,\n",
    "            [\"Split Reality\" for i in throughput_vio1_dynamic],\n",
    "        ],\n",
    "        y=throughput_vio1_dynamic,\n",
    "        mode=\"markers+text\",\n",
    "        marker_symbol=[\"square\" for i in throughput_vio1_dynamic],\n",
    "        marker_size=12,\n",
    "        marker_color=\"green\",\n",
    "        text = [f'{x:.2f}' for x in throughput_vio1_dynamic],\n",
    "        textposition=\"top center\",\n",
    "        textfont=dict(size=font_size),\n",
    "    )\n",
    ")\n",
    "\n",
    "# change width and height of the figure\n",
    "fig0.update_layout(\n",
    "    autosize=False,\n",
    "    width=1000,\n",
    "    height=500,\n",
    "    # title=\"Normalized Latency\",\n",
    ")\n",
    "# add vertical line between groups\n",
    "for i in range(len(x_mesa_labels)):\n",
    "    fig0.add_shape(\n",
    "        type=\"line\",\n",
    "        x0=2.5 + i * 3,\n",
    "        y0=0,\n",
    "        x1=2.5 + i * 3,\n",
    "        y1=7.2,\n",
    "        line=dict(\n",
    "            color=\"gainsboro\",\n",
    "            width=2,\n",
    "        ),\n",
    "        layer=\"below\"\n",
    "    )\n",
    "# change x axis title\n",
    "fig0.update_layout(xaxis_title=\"Workloads\", yaxis_title=\"Throughput\")\n",
    "# change y axis range\n",
    "fig0.update_yaxes(range=[0, 5.2], dtick=1)\n",
    "fig0.update_xaxes(range=[-0.5,20.5], dtick=1)\n",
    "# fig0.update_xaxes(dtick=5)\n",
    "\n",
    "# remove background\n",
    "fig0.update_layout(plot_bgcolor='rgba(0,0,0,0)')\n",
    "# show y line\n",
    "fig0.update_layout(yaxis=dict(showline=True, linewidth=2, linecolor='black'))\n",
    "fig0.update_layout(xaxis=dict(showline=True, linewidth=2, linecolor='black'))\n",
    "# show grid\n",
    "fig0.update_layout(yaxis=dict(showgrid=True, gridwidth=0.5, gridcolor='gainsboro'))\n",
    "# change font size\n",
    "fig0.update_layout(yaxis=dict(tickfont=dict(size=font_size)))\n",
    "fig0.update_layout(xaxis=dict(tickfont=dict(size=font_size)))\n",
    "fig0.update_layout(title_font_size=font_size)\n",
    "fig0.update_layout(legend=dict(font=dict(size=font_size)))\n",
    "fig0.update_layout(xaxis_title_font_size=font_size)\n",
    "fig0.update_layout(yaxis_title_font_size=font_size)\n",
    "# change legend position to top\n",
    "fig0.update_layout(\n",
    "    legend=dict(\n",
    "        orientation=\"h\",\n",
    "        yanchor=\"bottom\",\n",
    "        y=1,\n",
    "        xanchor=\"left\",\n",
    "        x=0.4,\n",
    "        \n",
    "    )\n",
    ")\n",
    "# change margin\n",
    "fig0.update_layout(margin=dict(l=50, r=50, t=20, b=100))\n",
    "\n",
    "fig1 = go.Figure()\n",
    "fig1.add_trace(\n",
    "    go.Scatter(\n",
    "        name=\"TAP\",\n",
    "        x=[\n",
    "            x_mesa_labels + x_mesa_labels,\n",
    "            [\"TAP\" for i in latency_mesa_ucp] + [\"TAP\" for i in latency_vio1_ucp],\n",
    "        ],\n",
    "        y=latency_mesa_ucp + latency_vio1_ucp,\n",
    "        mode=\"markers\",\n",
    "        marker_symbol=[\"x\" for i in latency_mesa_ucp] + [\"square\" for i in latency_vio1_ucp],\n",
    "        marker_size=12,\n",
    "        showlegend=False\n",
    "    )\n",
    ")\n",
    "fig1.add_trace(\n",
    "    go.Scatter(\n",
    "        name=\"Warp-Slicer\",\n",
    "        x=[\n",
    "            x_mesa_labels + x_mesa_labels,\n",
    "            [\"Warp Slicer\" for i in latency_mesa_slicer] + [\"Warp Slicer\" for i in latency_vio1_slicer],\n",
    "        ],\n",
    "        y=latency_mesa_slicer + latency_vio1_slicer,\n",
    "        mode=\"markers\",\n",
    "        marker_symbol=[\"x\" for i in latency_mesa_slicer] + [\"square\" for i in latency_vio1_slicer],\n",
    "        marker_size=12,\n",
    "        showlegend=False\n",
    "    )\n",
    ")\n",
    "fig1.add_trace(\n",
    "    go.Scatter(\n",
    "        name=\"Render\",\n",
    "        x=[\n",
    "            x_mesa_labels + x_mesa_labels,\n",
    "            [\"Split Reality\" for i in latency_mesa_dynamic],\n",
    "        ],\n",
    "        y=latency_mesa_dynamic + latency_vio1_dynamic,\n",
    "        mode=\"markers+text\",\n",
    "        marker_symbol=[\"x\" for i in latency_mesa_dynamic],\n",
    "        marker_size=12,\n",
    "        marker_color=\"green\",\n",
    "        # 2 digit\n",
    "        text = [f'{x:.2f}' for x in latency_mesa_dynamic + latency_vio1_dynamic],\n",
    "        textposition=\"bottom center\",\n",
    "        textfont=dict(size=font_size),\n",
    "    )\n",
    ")\n",
    "fig1.add_trace(\n",
    "    go.Scatter(\n",
    "        name=\"VIO\",\n",
    "        x=[\n",
    "            x_mesa_labels,\n",
    "            [\"Split Reality\" for i in latency_vio1_dynamic],\n",
    "        ],\n",
    "        y=latency_vio1_dynamic,\n",
    "        mode=\"markers+text\",\n",
    "        marker_symbol=[\"square\" for i in latency_vio1_dynamic],\n",
    "        marker_size=12,\n",
    "        marker_color=\"green\",\n",
    "        text = [f'{x:.2f}' for x in latency_vio1_dynamic],\n",
    "        textposition=\"top center\",\n",
    "        textfont=dict(size=font_size),\n",
    "    )\n",
    ")\n",
    "\n",
    "# change width and height of the figure\n",
    "fig1.update_layout(\n",
    "    autosize=False,\n",
    "    width=1000,\n",
    "    height=500,\n",
    "    # title=\"Normalized Latency\",\n",
    ")\n",
    "# add vertical line between groups\n",
    "for i in range(len(x_mesa_labels)):\n",
    "    fig1.add_shape(\n",
    "        type=\"line\",\n",
    "        x0=2.5 + i * 3,\n",
    "        y0=0,\n",
    "        x1=2.5 + i * 3,\n",
    "        y1=7.2,\n",
    "        line=dict(\n",
    "            color=\"gainsboro\",\n",
    "            width=2,\n",
    "        ),\n",
    "        layer=\"below\"\n",
    "    )\n",
    "# change x axis title\n",
    "fig1.update_layout(xaxis_title=\"Workloads\", yaxis_title=\"Latency\")\n",
    "# change y axis range\n",
    "fig1.update_yaxes(range=[0, 7.2], dtick=1)\n",
    "fig1.update_xaxes(range=[-0.5,20.5], dtick=1)\n",
    "# fig1.update_xaxes(dtick=5)\n",
    "\n",
    "# remove background\n",
    "fig1.update_layout(plot_bgcolor='rgba(0,0,0,0)')\n",
    "# show y line\n",
    "fig1.update_layout(yaxis=dict(showline=True, linewidth=2, linecolor='black'))\n",
    "fig1.update_layout(xaxis=dict(showline=True, linewidth=2, linecolor='black'))\n",
    "# show grid\n",
    "fig1.update_layout(yaxis=dict(showgrid=True, gridwidth=0.5, gridcolor='gainsboro'))\n",
    "# change font size\n",
    "fig1.update_layout(yaxis=dict(tickfont=dict(size=font_size)))\n",
    "fig1.update_layout(xaxis=dict(tickfont=dict(size=font_size)))\n",
    "fig1.update_layout(title_font_size=font_size)\n",
    "fig1.update_layout(legend=dict(font=dict(size=font_size)))\n",
    "fig1.update_layout(xaxis_title_font_size=font_size)\n",
    "fig1.update_layout(yaxis_title_font_size=font_size)\n",
    "# change legend position to top\n",
    "fig1.update_layout(\n",
    "    legend=dict(\n",
    "        orientation=\"h\",\n",
    "        yanchor=\"bottom\",\n",
    "        y=1,\n",
    "        xanchor=\"left\",\n",
    "        x=0.4,\n",
    "        \n",
    "    )\n",
    ")\n",
    "# change margin\n",
    "fig1.update_layout(margin=dict(l=50, r=50, t=20, b=100))\n",
    "# hide legend\n",
    "# fig1.update_layout(showlegend=False)\n",
    "# add custom legend\n",
    "fig0.show()\n",
    "fig1.show()\n",
    "\n",
    "plotly.io.write_image(fig0, \"/Users/pan/Documents/GitHub/ar_vr_gpu_overleaf/Figures/overall_throughput.pdf\", format=\"pdf\")\n",
    "plotly.io.write_image(fig1, \"/Users/pan/Documents/GitHub/ar_vr_gpu_overleaf/Figures/overall_latency.pdf\", format=\"pdf\")"
   ]
  },
  {
   "cell_type": "code",
   "execution_count": 24,
   "metadata": {},
   "outputs": [
    {
     "name": "stdout",
     "output_type": "stream",
     "text": [
      "1.0873113697674646\n",
      "1.0693366302881888\n",
      "1.0973571203587227\n",
      "1.11064199035398\n",
      "1.148347056008407\n",
      "1.0923441957014721\n",
      "1.1728478041017063\n",
      "1.2636578925504733\n",
      "1.2153135963642163\n",
      "2.0423312462715186\n",
      "1.6963949922642474\n"
     ]
    },
    {
     "data": {
      "application/vnd.plotly.v1+json": {
       "config": {
        "plotlyServerURL": "https://plot.ly"
       },
       "data": [
        {
         "marker": {
          "pattern": {
           "shape": "x"
          }
         },
         "name": "Warp Slicer",
         "type": "bar",
         "x": [
          [
           "PT2",
           "PT4",
           "IT2",
           "IT4",
           "SPL2",
           "SPL4",
           "SPH2",
           "MT2",
           "MT4",
           "PL2",
           "PL4",
           "PT2",
           "PT4",
           "IT2",
           "IT4",
           "SPL2",
           "SPL4",
           "SPH2",
           "MT2",
           "MT4",
           "PL2",
           "PL4",
           "PT2",
           "PT4",
           "IT2",
           "IT4",
           "SPL2",
           "SPL4",
           "SPH2",
           "MT2",
           "MT4",
           "PL2",
           "PL4",
           "PT2",
           "PT4",
           "IT2",
           "IT4",
           "SPL2",
           "SPL4",
           "SPH2",
           "MT2",
           "MT4",
           "PL2",
           "PL4"
          ],
          [
           "VIO",
           "VIO",
           "VIO",
           "VIO",
           "VIO",
           "VIO",
           "VIO",
           "VIO",
           "VIO",
           "VIO",
           "VIO",
           "HOLO",
           "HOLO",
           "HOLO",
           "HOLO",
           "HOLO",
           "HOLO",
           "HOLO",
           "HOLO",
           "HOLO",
           "HOLO",
           "HOLO",
           "NN",
           "NN",
           "NN",
           "NN",
           "NN",
           "NN",
           "NN",
           "NN",
           "NN",
           "NN",
           "NN",
           "SLAM",
           "SLAM",
           "SLAM",
           "SLAM",
           "SLAM",
           "SLAM",
           "SLAM",
           "SLAM",
           "SLAM",
           "SLAM",
           "SLAM"
          ]
         ],
         "y": [
          1.0580746988947058,
          1.1252937592739278,
          1.0589036030730885,
          1.0212418359567639,
          1.1095578245285505,
          1.0843358241122267,
          1.0741276008263725,
          1.3806229411168283,
          1.2387783588563175,
          1.9946955694988922,
          1.5848492385960957,
          1.03792217049288,
          1.018655483774521,
          1.0994291952218718,
          1.147875311094062,
          1.1204385193990158,
          1.1797124627418636,
          1.094710912850299,
          1.1882240048200714,
          1.2290998690515151,
          1.596414096826971,
          1.4932776958031728,
          0,
          0,
          0,
          0,
          0,
          0,
          0,
          0,
          0,
          0,
          0,
          0,
          0,
          0,
          0,
          0,
          0,
          0,
          0,
          0,
          0,
          0
         ]
        },
        {
         "marker": {
          "pattern": {
           "shape": "."
          }
         },
         "name": "Our Design",
         "type": "bar",
         "x": [
          [
           "PT2",
           "PT4",
           "IT2",
           "IT4",
           "SPL2",
           "SPL4",
           "SPH2",
           "MT2",
           "MT4",
           "PL2",
           "PL4",
           "PT2",
           "PT4",
           "IT2",
           "IT4",
           "SPL2",
           "SPL4",
           "SPH2",
           "MT2",
           "MT4",
           "PL2",
           "PL4",
           "PT2",
           "PT4",
           "IT2",
           "IT4",
           "SPL2",
           "SPL4",
           "SPH2",
           "MT2",
           "MT4",
           "PL2",
           "PL4",
           "PT2",
           "PT4",
           "IT2",
           "IT4",
           "SPL2",
           "SPL4",
           "SPH2",
           "MT2",
           "MT4",
           "PL2",
           "PL4"
          ],
          [
           "VIO",
           "VIO",
           "VIO",
           "VIO",
           "VIO",
           "VIO",
           "VIO",
           "VIO",
           "VIO",
           "VIO",
           "VIO",
           "HOLO",
           "HOLO",
           "HOLO",
           "HOLO",
           "HOLO",
           "HOLO",
           "HOLO",
           "HOLO",
           "HOLO",
           "HOLO",
           "HOLO",
           "NN",
           "NN",
           "NN",
           "NN",
           "NN",
           "NN",
           "NN",
           "NN",
           "NN",
           "NN",
           "NN",
           "SLAM",
           "SLAM",
           "SLAM",
           "SLAM",
           "SLAM",
           "SLAM",
           "SLAM",
           "SLAM",
           "SLAM",
           "SLAM",
           "SLAM"
          ]
         ],
         "y": [
          1.0873113697674646,
          1.0693366302881888,
          1.0973571203587227,
          1.11064199035398,
          1.148347056008407,
          1.0923441957014721,
          1.1728478041017063,
          1.2636578925504733,
          1.2153135963642163,
          2.0423312462715186,
          1.6963949922642474,
          1.0334735151462477,
          1.0521020883692374,
          1.0331011947841242,
          1.0467185089939934,
          1.0649788657206822,
          1.1025595891617477,
          1.12660749592632,
          1.1848704948104705,
          1.1819886055093365,
          1.5610700156225024,
          1.499772936364575,
          0,
          0,
          0,
          0,
          0,
          0,
          0,
          0,
          0,
          0,
          0,
          0,
          0,
          0,
          0,
          0,
          0,
          0,
          0,
          0,
          0,
          0
         ]
        }
       ],
       "layout": {
        "autosize": false,
        "bargap": 0.4,
        "bargroupgap": 0,
        "barmode": "group",
        "height": 400,
        "legend": {
         "font": {
          "size": 15
         },
         "orientation": "h",
         "x": 0.1,
         "xanchor": "left",
         "y": 1,
         "yanchor": "bottom"
        },
        "margin": {
         "b": 100,
         "l": 0,
         "r": 10,
         "t": 100
        },
        "template": {
         "data": {
          "bar": [
           {
            "error_x": {
             "color": "#2a3f5f"
            },
            "error_y": {
             "color": "#2a3f5f"
            },
            "marker": {
             "line": {
              "color": "#E5ECF6",
              "width": 0.5
             },
             "pattern": {
              "fillmode": "overlay",
              "size": 10,
              "solidity": 0.2
             }
            },
            "type": "bar"
           }
          ],
          "barpolar": [
           {
            "marker": {
             "line": {
              "color": "#E5ECF6",
              "width": 0.5
             },
             "pattern": {
              "fillmode": "overlay",
              "size": 10,
              "solidity": 0.2
             }
            },
            "type": "barpolar"
           }
          ],
          "carpet": [
           {
            "aaxis": {
             "endlinecolor": "#2a3f5f",
             "gridcolor": "white",
             "linecolor": "white",
             "minorgridcolor": "white",
             "startlinecolor": "#2a3f5f"
            },
            "baxis": {
             "endlinecolor": "#2a3f5f",
             "gridcolor": "white",
             "linecolor": "white",
             "minorgridcolor": "white",
             "startlinecolor": "#2a3f5f"
            },
            "type": "carpet"
           }
          ],
          "choropleth": [
           {
            "colorbar": {
             "outlinewidth": 0,
             "ticks": ""
            },
            "type": "choropleth"
           }
          ],
          "contour": [
           {
            "colorbar": {
             "outlinewidth": 0,
             "ticks": ""
            },
            "colorscale": [
             [
              0,
              "#0d0887"
             ],
             [
              0.1111111111111111,
              "#46039f"
             ],
             [
              0.2222222222222222,
              "#7201a8"
             ],
             [
              0.3333333333333333,
              "#9c179e"
             ],
             [
              0.4444444444444444,
              "#bd3786"
             ],
             [
              0.5555555555555556,
              "#d8576b"
             ],
             [
              0.6666666666666666,
              "#ed7953"
             ],
             [
              0.7777777777777778,
              "#fb9f3a"
             ],
             [
              0.8888888888888888,
              "#fdca26"
             ],
             [
              1,
              "#f0f921"
             ]
            ],
            "type": "contour"
           }
          ],
          "contourcarpet": [
           {
            "colorbar": {
             "outlinewidth": 0,
             "ticks": ""
            },
            "type": "contourcarpet"
           }
          ],
          "heatmap": [
           {
            "colorbar": {
             "outlinewidth": 0,
             "ticks": ""
            },
            "colorscale": [
             [
              0,
              "#0d0887"
             ],
             [
              0.1111111111111111,
              "#46039f"
             ],
             [
              0.2222222222222222,
              "#7201a8"
             ],
             [
              0.3333333333333333,
              "#9c179e"
             ],
             [
              0.4444444444444444,
              "#bd3786"
             ],
             [
              0.5555555555555556,
              "#d8576b"
             ],
             [
              0.6666666666666666,
              "#ed7953"
             ],
             [
              0.7777777777777778,
              "#fb9f3a"
             ],
             [
              0.8888888888888888,
              "#fdca26"
             ],
             [
              1,
              "#f0f921"
             ]
            ],
            "type": "heatmap"
           }
          ],
          "heatmapgl": [
           {
            "colorbar": {
             "outlinewidth": 0,
             "ticks": ""
            },
            "colorscale": [
             [
              0,
              "#0d0887"
             ],
             [
              0.1111111111111111,
              "#46039f"
             ],
             [
              0.2222222222222222,
              "#7201a8"
             ],
             [
              0.3333333333333333,
              "#9c179e"
             ],
             [
              0.4444444444444444,
              "#bd3786"
             ],
             [
              0.5555555555555556,
              "#d8576b"
             ],
             [
              0.6666666666666666,
              "#ed7953"
             ],
             [
              0.7777777777777778,
              "#fb9f3a"
             ],
             [
              0.8888888888888888,
              "#fdca26"
             ],
             [
              1,
              "#f0f921"
             ]
            ],
            "type": "heatmapgl"
           }
          ],
          "histogram": [
           {
            "marker": {
             "pattern": {
              "fillmode": "overlay",
              "size": 10,
              "solidity": 0.2
             }
            },
            "type": "histogram"
           }
          ],
          "histogram2d": [
           {
            "colorbar": {
             "outlinewidth": 0,
             "ticks": ""
            },
            "colorscale": [
             [
              0,
              "#0d0887"
             ],
             [
              0.1111111111111111,
              "#46039f"
             ],
             [
              0.2222222222222222,
              "#7201a8"
             ],
             [
              0.3333333333333333,
              "#9c179e"
             ],
             [
              0.4444444444444444,
              "#bd3786"
             ],
             [
              0.5555555555555556,
              "#d8576b"
             ],
             [
              0.6666666666666666,
              "#ed7953"
             ],
             [
              0.7777777777777778,
              "#fb9f3a"
             ],
             [
              0.8888888888888888,
              "#fdca26"
             ],
             [
              1,
              "#f0f921"
             ]
            ],
            "type": "histogram2d"
           }
          ],
          "histogram2dcontour": [
           {
            "colorbar": {
             "outlinewidth": 0,
             "ticks": ""
            },
            "colorscale": [
             [
              0,
              "#0d0887"
             ],
             [
              0.1111111111111111,
              "#46039f"
             ],
             [
              0.2222222222222222,
              "#7201a8"
             ],
             [
              0.3333333333333333,
              "#9c179e"
             ],
             [
              0.4444444444444444,
              "#bd3786"
             ],
             [
              0.5555555555555556,
              "#d8576b"
             ],
             [
              0.6666666666666666,
              "#ed7953"
             ],
             [
              0.7777777777777778,
              "#fb9f3a"
             ],
             [
              0.8888888888888888,
              "#fdca26"
             ],
             [
              1,
              "#f0f921"
             ]
            ],
            "type": "histogram2dcontour"
           }
          ],
          "mesh3d": [
           {
            "colorbar": {
             "outlinewidth": 0,
             "ticks": ""
            },
            "type": "mesh3d"
           }
          ],
          "parcoords": [
           {
            "line": {
             "colorbar": {
              "outlinewidth": 0,
              "ticks": ""
             }
            },
            "type": "parcoords"
           }
          ],
          "pie": [
           {
            "automargin": true,
            "type": "pie"
           }
          ],
          "scatter": [
           {
            "fillpattern": {
             "fillmode": "overlay",
             "size": 10,
             "solidity": 0.2
            },
            "type": "scatter"
           }
          ],
          "scatter3d": [
           {
            "line": {
             "colorbar": {
              "outlinewidth": 0,
              "ticks": ""
             }
            },
            "marker": {
             "colorbar": {
              "outlinewidth": 0,
              "ticks": ""
             }
            },
            "type": "scatter3d"
           }
          ],
          "scattercarpet": [
           {
            "marker": {
             "colorbar": {
              "outlinewidth": 0,
              "ticks": ""
             }
            },
            "type": "scattercarpet"
           }
          ],
          "scattergeo": [
           {
            "marker": {
             "colorbar": {
              "outlinewidth": 0,
              "ticks": ""
             }
            },
            "type": "scattergeo"
           }
          ],
          "scattergl": [
           {
            "marker": {
             "colorbar": {
              "outlinewidth": 0,
              "ticks": ""
             }
            },
            "type": "scattergl"
           }
          ],
          "scattermapbox": [
           {
            "marker": {
             "colorbar": {
              "outlinewidth": 0,
              "ticks": ""
             }
            },
            "type": "scattermapbox"
           }
          ],
          "scatterpolar": [
           {
            "marker": {
             "colorbar": {
              "outlinewidth": 0,
              "ticks": ""
             }
            },
            "type": "scatterpolar"
           }
          ],
          "scatterpolargl": [
           {
            "marker": {
             "colorbar": {
              "outlinewidth": 0,
              "ticks": ""
             }
            },
            "type": "scatterpolargl"
           }
          ],
          "scatterternary": [
           {
            "marker": {
             "colorbar": {
              "outlinewidth": 0,
              "ticks": ""
             }
            },
            "type": "scatterternary"
           }
          ],
          "surface": [
           {
            "colorbar": {
             "outlinewidth": 0,
             "ticks": ""
            },
            "colorscale": [
             [
              0,
              "#0d0887"
             ],
             [
              0.1111111111111111,
              "#46039f"
             ],
             [
              0.2222222222222222,
              "#7201a8"
             ],
             [
              0.3333333333333333,
              "#9c179e"
             ],
             [
              0.4444444444444444,
              "#bd3786"
             ],
             [
              0.5555555555555556,
              "#d8576b"
             ],
             [
              0.6666666666666666,
              "#ed7953"
             ],
             [
              0.7777777777777778,
              "#fb9f3a"
             ],
             [
              0.8888888888888888,
              "#fdca26"
             ],
             [
              1,
              "#f0f921"
             ]
            ],
            "type": "surface"
           }
          ],
          "table": [
           {
            "cells": {
             "fill": {
              "color": "#EBF0F8"
             },
             "line": {
              "color": "white"
             }
            },
            "header": {
             "fill": {
              "color": "#C8D4E3"
             },
             "line": {
              "color": "white"
             }
            },
            "type": "table"
           }
          ]
         },
         "layout": {
          "annotationdefaults": {
           "arrowcolor": "#2a3f5f",
           "arrowhead": 0,
           "arrowwidth": 1
          },
          "autotypenumbers": "strict",
          "coloraxis": {
           "colorbar": {
            "outlinewidth": 0,
            "ticks": ""
           }
          },
          "colorscale": {
           "diverging": [
            [
             0,
             "#8e0152"
            ],
            [
             0.1,
             "#c51b7d"
            ],
            [
             0.2,
             "#de77ae"
            ],
            [
             0.3,
             "#f1b6da"
            ],
            [
             0.4,
             "#fde0ef"
            ],
            [
             0.5,
             "#f7f7f7"
            ],
            [
             0.6,
             "#e6f5d0"
            ],
            [
             0.7,
             "#b8e186"
            ],
            [
             0.8,
             "#7fbc41"
            ],
            [
             0.9,
             "#4d9221"
            ],
            [
             1,
             "#276419"
            ]
           ],
           "sequential": [
            [
             0,
             "#0d0887"
            ],
            [
             0.1111111111111111,
             "#46039f"
            ],
            [
             0.2222222222222222,
             "#7201a8"
            ],
            [
             0.3333333333333333,
             "#9c179e"
            ],
            [
             0.4444444444444444,
             "#bd3786"
            ],
            [
             0.5555555555555556,
             "#d8576b"
            ],
            [
             0.6666666666666666,
             "#ed7953"
            ],
            [
             0.7777777777777778,
             "#fb9f3a"
            ],
            [
             0.8888888888888888,
             "#fdca26"
            ],
            [
             1,
             "#f0f921"
            ]
           ],
           "sequentialminus": [
            [
             0,
             "#0d0887"
            ],
            [
             0.1111111111111111,
             "#46039f"
            ],
            [
             0.2222222222222222,
             "#7201a8"
            ],
            [
             0.3333333333333333,
             "#9c179e"
            ],
            [
             0.4444444444444444,
             "#bd3786"
            ],
            [
             0.5555555555555556,
             "#d8576b"
            ],
            [
             0.6666666666666666,
             "#ed7953"
            ],
            [
             0.7777777777777778,
             "#fb9f3a"
            ],
            [
             0.8888888888888888,
             "#fdca26"
            ],
            [
             1,
             "#f0f921"
            ]
           ]
          },
          "colorway": [
           "#636efa",
           "#EF553B",
           "#00cc96",
           "#ab63fa",
           "#FFA15A",
           "#19d3f3",
           "#FF6692",
           "#B6E880",
           "#FF97FF",
           "#FECB52"
          ],
          "font": {
           "color": "#2a3f5f"
          },
          "geo": {
           "bgcolor": "white",
           "lakecolor": "white",
           "landcolor": "#E5ECF6",
           "showlakes": true,
           "showland": true,
           "subunitcolor": "white"
          },
          "hoverlabel": {
           "align": "left"
          },
          "hovermode": "closest",
          "mapbox": {
           "style": "light"
          },
          "paper_bgcolor": "white",
          "plot_bgcolor": "#E5ECF6",
          "polar": {
           "angularaxis": {
            "gridcolor": "white",
            "linecolor": "white",
            "ticks": ""
           },
           "bgcolor": "#E5ECF6",
           "radialaxis": {
            "gridcolor": "white",
            "linecolor": "white",
            "ticks": ""
           }
          },
          "scene": {
           "xaxis": {
            "backgroundcolor": "#E5ECF6",
            "gridcolor": "white",
            "gridwidth": 2,
            "linecolor": "white",
            "showbackground": true,
            "ticks": "",
            "zerolinecolor": "white"
           },
           "yaxis": {
            "backgroundcolor": "#E5ECF6",
            "gridcolor": "white",
            "gridwidth": 2,
            "linecolor": "white",
            "showbackground": true,
            "ticks": "",
            "zerolinecolor": "white"
           },
           "zaxis": {
            "backgroundcolor": "#E5ECF6",
            "gridcolor": "white",
            "gridwidth": 2,
            "linecolor": "white",
            "showbackground": true,
            "ticks": "",
            "zerolinecolor": "white"
           }
          },
          "shapedefaults": {
           "line": {
            "color": "#2a3f5f"
           }
          },
          "ternary": {
           "aaxis": {
            "gridcolor": "white",
            "linecolor": "white",
            "ticks": ""
           },
           "baxis": {
            "gridcolor": "white",
            "linecolor": "white",
            "ticks": ""
           },
           "bgcolor": "#E5ECF6",
           "caxis": {
            "gridcolor": "white",
            "linecolor": "white",
            "ticks": ""
           }
          },
          "title": {
           "x": 0.05
          },
          "xaxis": {
           "automargin": true,
           "gridcolor": "white",
           "linecolor": "white",
           "ticks": "",
           "title": {
            "standoff": 15
           },
           "zerolinecolor": "white",
           "zerolinewidth": 2
          },
          "yaxis": {
           "automargin": true,
           "gridcolor": "white",
           "linecolor": "white",
           "ticks": "",
           "title": {
            "standoff": 15
           },
           "zerolinecolor": "white",
           "zerolinewidth": 2
          }
         }
        },
        "title": {
         "font": {
          "size": 20
         },
         "text": "Normalized IPCs",
         "x": 0.5,
         "xanchor": "center",
         "y": 0.97,
         "yanchor": "top"
        },
        "width": 1200,
        "xaxis": {
         "tickfont": {
          "size": 10
         },
         "title": {
          "font": {
           "size": 20
          },
          "text": "Workloads"
         }
        },
        "yaxis": {
         "tickfont": {
          "size": 20
         },
         "title": {
          "font": {
           "size": 20
          },
          "text": "IPC"
         }
        }
       }
      }
     },
     "metadata": {},
     "output_type": "display_data"
    }
   ],
   "source": [
    "stats = {}\n",
    "appconfigs = []\n",
    "\n",
    "ipc1_to_plot = []\n",
    "ipc2_to_plot = []\n",
    "ipc1_holo_to_plot = []\n",
    "ipc2_holo_to_plot = []\n",
    "for wl in workloads:\n",
    "    x_names.append(wl.split(\"_\")[0])\n",
    "    x_sizes.append(wl.split(\"_\")[-1])\n",
    "    app = wl + \"/all4\"\n",
    "    config = app + \"ORIN-SASS-concurrent-fg-invalidate_l2-best-VISUAL\"\n",
    "    baseline = app + \"ORIN-SASS-VISUAL\"\n",
    "    ipc1_to_plot.append(tot_ipcs[config] / (tot_ipcs[baseline]))\n",
    "    print(tot_ipcs[config] / (tot_ipcs[baseline]))\n",
    "\n",
    "    config =app+\"ORIN-SASS-concurrent-fg-slicer-VISUAL\"\n",
    "    ipc2_to_plot.append(tot_ipcs[config] / (tot_ipcs[baseline]))\n",
    "\n",
    "    app = wl + \"/hotlab\"\n",
    "    config = app + \"ORIN-SASS-concurrent-fg-invalidate_l2-best-VISUAL\"\n",
    "    baseline = app + \"ORIN-SASS-VISUAL\"\n",
    "    ipc1_holo_to_plot.append(tot_ipcs[config] / (tot_ipcs[baseline]))\n",
    "\n",
    "    config = app+\"ORIN-SASS-concurrent-fg-slicer-VISUAL\"\n",
    "    ipc2_holo_to_plot.append(tot_ipcs[config] / (tot_ipcs[baseline]))\n",
    "\n",
    "\n",
    "\n",
    "\n",
    "fig = go.Figure()\n",
    "fig.add_trace(\n",
    "    go.Bar(\n",
    "        name=\"Warp Slicer\",\n",
    "        x=[\n",
    "            x_mesa_labels + x_mesa_labels + x_mesa_labels + x_mesa_labels,\n",
    "            x_vio_labels\n",
    "            + x_holo_labels + x_nn_labels + x_slam_labels,\n",
    "        ],\n",
    "        y=ipc2_to_plot + ipc2_holo_to_plot + ones + ones,\n",
    "        # marker=dict(color=colors['Frame - cache']),\n",
    "        marker_pattern_shape=patterns[\"Frame - cache\"],\n",
    "    )\n",
    ")\n",
    "fig.add_trace(\n",
    "    go.Bar(\n",
    "        name=\"Our Design\",\n",
    "        x=[\n",
    "            x_mesa_labels + x_mesa_labels + x_mesa_labels + x_mesa_labels,\n",
    "            x_vio_labels\n",
    "            + x_holo_labels + x_nn_labels + x_slam_labels,\n",
    "        ],\n",
    "        y=ipc1_to_plot + ipc1_holo_to_plot + ones + ones,\n",
    "        # marker=dict(color=colors['Frame - cache + scheduler']),\n",
    "        marker_pattern_shape=patterns[\"Frame - cache + scheduler\"],\n",
    "    )\n",
    ")\n",
    "\n",
    "# change width and height of the figure\n",
    "fig.update_layout(\n",
    "    autosize=False,\n",
    "    width=1200,\n",
    "    height=400,\n",
    "    # title=\"Normalized Latency\",\n",
    ")\n",
    "# Change the bar mode\n",
    "fig.update_layout(barmode=\"group\")\n",
    "# add title in middle\n",
    "fig.update_layout(\n",
    "    title={\n",
    "        \"text\": \"Normalized IPCs\",\n",
    "        \"y\": 0.97,\n",
    "        \"x\": 0.5,\n",
    "        \"xanchor\": \"center\",\n",
    "        \"yanchor\": \"top\",\n",
    "    }\n",
    ")\n",
    "# change bar gap\n",
    "fig.update_layout(bargap=0.4, bargroupgap=0)\n",
    "# change x axis title\n",
    "fig.update_layout(xaxis_title=\"Workloads\", yaxis_title=\"IPC\")\n",
    "# change y axis range\n",
    "# fig.update_yaxes(range=[0, 1.5], dtick=1)\n",
    "# change y tick step\n",
    "# change font size\n",
    "fig.update_layout(xaxis=dict(tickfont=dict(size=10)))\n",
    "fig.update_layout(yaxis=dict(tickfont=dict(size=20)))\n",
    "fig.update_layout(title_font_size=20)\n",
    "fig.update_layout(legend=dict(font=dict(size=15)))\n",
    "fig.update_layout(xaxis_title_font_size=20)\n",
    "fig.update_layout(yaxis_title_font_size=20)\n",
    "# change legend position to top\n",
    "fig.update_layout(\n",
    "    legend=dict(\n",
    "        orientation=\"h\",\n",
    "        yanchor=\"bottom\",\n",
    "        y=1,\n",
    "        xanchor=\"left\",\n",
    "        x=0.1,\n",
    "    )\n",
    ")\n",
    "# change margin\n",
    "fig.update_layout(margin=dict(l=0, r=10, t=100, b=100))\n",
    "\n",
    "fig.show()\n",
    "\n",
    "plotly.io.write_image(fig, \"output_file.pdf\", format=\"pdf\")\n",
    "plotly.io.write_image(fig, \"tmp.png\", format=\"png\") "
   ]
  },
  {
   "cell_type": "code",
   "execution_count": 65,
   "metadata": {},
   "outputs": [
    {
     "name": "stdout",
     "output_type": "stream",
     "text": [
      "pbrtexture_2k/hotlab 692493.0 692493.0\n",
      "pbrtexture_4k/hotlab 692493.0 692494.0\n",
      "instancing_2k/hotlab 692493.0 692493.0\n",
      "instancing_4k/hotlab 692493.0 692493.0\n",
      "render_passes_2k/hotlab 692493.0 692493.0\n",
      "render_passes_4k/hotlab 692494.0 692493.0\n",
      "sponza_2k/hotlab 692555.0 692493.0\n",
      "materials_2k/hotlab 692493.0 692493.0\n",
      "materials_4k/hotlab 692553.0 692493.0\n",
      "platformer_2k/hotlab 692494.0 692493.0\n",
      "platformer_4k/hotlab 692555.0 692494.0\n"
     ]
    },
    {
     "data": {
      "application/vnd.plotly.v1+json": {
       "config": {
        "plotlyServerURL": "https://plot.ly"
       },
       "data": [
        {
         "marker": {
          "pattern": {
           "shape": "x"
          }
         },
         "name": "Fine-grained Concurrent",
         "type": "bar",
         "x": [
          [
           "PT2",
           "PT4",
           "IT2",
           "IT4",
           "SPL2",
           "SPL4",
           "SPH2",
           "MT2",
           "MT4",
           "PL2",
           "PL4",
           "PT2",
           "PT4",
           "IT2",
           "IT4",
           "SPL2",
           "SPL4",
           "SPH2",
           "MT2",
           "MT4",
           "PL2",
           "PL4",
           "PT2",
           "PT4",
           "IT2",
           "IT4",
           "SPL2",
           "SPL4",
           "SPH2",
           "MT2",
           "MT4",
           "PL2",
           "PL4",
           "PT2",
           "PT4",
           "IT2",
           "IT4",
           "SPL2",
           "SPL4",
           "SPH2",
           "MT2",
           "MT4",
           "PL2",
           "PL4"
          ],
          [
           "VIO",
           "VIO",
           "VIO",
           "VIO",
           "VIO",
           "VIO",
           "VIO",
           "VIO",
           "VIO",
           "VIO",
           "VIO",
           "HOLO",
           "HOLO",
           "HOLO",
           "HOLO",
           "HOLO",
           "HOLO",
           "HOLO",
           "HOLO",
           "HOLO",
           "HOLO",
           "HOLO",
           "NN",
           "NN",
           "NN",
           "NN",
           "NN",
           "NN",
           "NN",
           "NN",
           "NN",
           "NN",
           "NN",
           "SLAM",
           "SLAM",
           "SLAM",
           "SLAM",
           "SLAM",
           "SLAM",
           "SLAM",
           "SLAM",
           "SLAM",
           "SLAM",
           "SLAM"
          ]
         ],
         "y": [
          1.1913926569635551,
          1.1916701173783253,
          1.19103862930372,
          1.1918995645596477,
          1.1929519304664076,
          1.1922016499319519,
          1.1859456912612105,
          1.1847693936513868,
          1.1859781014391566,
          1.1903847402246122,
          1.1909062108218906,
          1,
          0.999998555944167,
          1,
          1,
          1,
          1.0000014440579184,
          1.000089531590933,
          1,
          1.0000866434750966,
          1.0000014440579184,
          1.0000880874058116,
          0,
          0,
          1.0000057219792358,
          1.0000061859330645,
          1.0000085056566483,
          0,
          1.0000024743713125,
          0,
          0,
          1.0000081963435647,
          0,
          0,
          0,
          0,
          0,
          0,
          0,
          0,
          0,
          0,
          0,
          0
         ]
        }
       ],
       "layout": {
        "bargap": 0.4,
        "bargroupgap": 0,
        "barmode": "group",
        "legend": {
         "font": {
          "size": 15
         },
         "orientation": "h",
         "x": 0.1,
         "xanchor": "left",
         "y": 1,
         "yanchor": "bottom"
        },
        "margin": {
         "b": 100,
         "l": 0,
         "r": 10,
         "t": 100
        },
        "template": {
         "data": {
          "bar": [
           {
            "error_x": {
             "color": "#2a3f5f"
            },
            "error_y": {
             "color": "#2a3f5f"
            },
            "marker": {
             "line": {
              "color": "#E5ECF6",
              "width": 0.5
             },
             "pattern": {
              "fillmode": "overlay",
              "size": 10,
              "solidity": 0.2
             }
            },
            "type": "bar"
           }
          ],
          "barpolar": [
           {
            "marker": {
             "line": {
              "color": "#E5ECF6",
              "width": 0.5
             },
             "pattern": {
              "fillmode": "overlay",
              "size": 10,
              "solidity": 0.2
             }
            },
            "type": "barpolar"
           }
          ],
          "carpet": [
           {
            "aaxis": {
             "endlinecolor": "#2a3f5f",
             "gridcolor": "white",
             "linecolor": "white",
             "minorgridcolor": "white",
             "startlinecolor": "#2a3f5f"
            },
            "baxis": {
             "endlinecolor": "#2a3f5f",
             "gridcolor": "white",
             "linecolor": "white",
             "minorgridcolor": "white",
             "startlinecolor": "#2a3f5f"
            },
            "type": "carpet"
           }
          ],
          "choropleth": [
           {
            "colorbar": {
             "outlinewidth": 0,
             "ticks": ""
            },
            "type": "choropleth"
           }
          ],
          "contour": [
           {
            "colorbar": {
             "outlinewidth": 0,
             "ticks": ""
            },
            "colorscale": [
             [
              0,
              "#0d0887"
             ],
             [
              0.1111111111111111,
              "#46039f"
             ],
             [
              0.2222222222222222,
              "#7201a8"
             ],
             [
              0.3333333333333333,
              "#9c179e"
             ],
             [
              0.4444444444444444,
              "#bd3786"
             ],
             [
              0.5555555555555556,
              "#d8576b"
             ],
             [
              0.6666666666666666,
              "#ed7953"
             ],
             [
              0.7777777777777778,
              "#fb9f3a"
             ],
             [
              0.8888888888888888,
              "#fdca26"
             ],
             [
              1,
              "#f0f921"
             ]
            ],
            "type": "contour"
           }
          ],
          "contourcarpet": [
           {
            "colorbar": {
             "outlinewidth": 0,
             "ticks": ""
            },
            "type": "contourcarpet"
           }
          ],
          "heatmap": [
           {
            "colorbar": {
             "outlinewidth": 0,
             "ticks": ""
            },
            "colorscale": [
             [
              0,
              "#0d0887"
             ],
             [
              0.1111111111111111,
              "#46039f"
             ],
             [
              0.2222222222222222,
              "#7201a8"
             ],
             [
              0.3333333333333333,
              "#9c179e"
             ],
             [
              0.4444444444444444,
              "#bd3786"
             ],
             [
              0.5555555555555556,
              "#d8576b"
             ],
             [
              0.6666666666666666,
              "#ed7953"
             ],
             [
              0.7777777777777778,
              "#fb9f3a"
             ],
             [
              0.8888888888888888,
              "#fdca26"
             ],
             [
              1,
              "#f0f921"
             ]
            ],
            "type": "heatmap"
           }
          ],
          "heatmapgl": [
           {
            "colorbar": {
             "outlinewidth": 0,
             "ticks": ""
            },
            "colorscale": [
             [
              0,
              "#0d0887"
             ],
             [
              0.1111111111111111,
              "#46039f"
             ],
             [
              0.2222222222222222,
              "#7201a8"
             ],
             [
              0.3333333333333333,
              "#9c179e"
             ],
             [
              0.4444444444444444,
              "#bd3786"
             ],
             [
              0.5555555555555556,
              "#d8576b"
             ],
             [
              0.6666666666666666,
              "#ed7953"
             ],
             [
              0.7777777777777778,
              "#fb9f3a"
             ],
             [
              0.8888888888888888,
              "#fdca26"
             ],
             [
              1,
              "#f0f921"
             ]
            ],
            "type": "heatmapgl"
           }
          ],
          "histogram": [
           {
            "marker": {
             "pattern": {
              "fillmode": "overlay",
              "size": 10,
              "solidity": 0.2
             }
            },
            "type": "histogram"
           }
          ],
          "histogram2d": [
           {
            "colorbar": {
             "outlinewidth": 0,
             "ticks": ""
            },
            "colorscale": [
             [
              0,
              "#0d0887"
             ],
             [
              0.1111111111111111,
              "#46039f"
             ],
             [
              0.2222222222222222,
              "#7201a8"
             ],
             [
              0.3333333333333333,
              "#9c179e"
             ],
             [
              0.4444444444444444,
              "#bd3786"
             ],
             [
              0.5555555555555556,
              "#d8576b"
             ],
             [
              0.6666666666666666,
              "#ed7953"
             ],
             [
              0.7777777777777778,
              "#fb9f3a"
             ],
             [
              0.8888888888888888,
              "#fdca26"
             ],
             [
              1,
              "#f0f921"
             ]
            ],
            "type": "histogram2d"
           }
          ],
          "histogram2dcontour": [
           {
            "colorbar": {
             "outlinewidth": 0,
             "ticks": ""
            },
            "colorscale": [
             [
              0,
              "#0d0887"
             ],
             [
              0.1111111111111111,
              "#46039f"
             ],
             [
              0.2222222222222222,
              "#7201a8"
             ],
             [
              0.3333333333333333,
              "#9c179e"
             ],
             [
              0.4444444444444444,
              "#bd3786"
             ],
             [
              0.5555555555555556,
              "#d8576b"
             ],
             [
              0.6666666666666666,
              "#ed7953"
             ],
             [
              0.7777777777777778,
              "#fb9f3a"
             ],
             [
              0.8888888888888888,
              "#fdca26"
             ],
             [
              1,
              "#f0f921"
             ]
            ],
            "type": "histogram2dcontour"
           }
          ],
          "mesh3d": [
           {
            "colorbar": {
             "outlinewidth": 0,
             "ticks": ""
            },
            "type": "mesh3d"
           }
          ],
          "parcoords": [
           {
            "line": {
             "colorbar": {
              "outlinewidth": 0,
              "ticks": ""
             }
            },
            "type": "parcoords"
           }
          ],
          "pie": [
           {
            "automargin": true,
            "type": "pie"
           }
          ],
          "scatter": [
           {
            "fillpattern": {
             "fillmode": "overlay",
             "size": 10,
             "solidity": 0.2
            },
            "type": "scatter"
           }
          ],
          "scatter3d": [
           {
            "line": {
             "colorbar": {
              "outlinewidth": 0,
              "ticks": ""
             }
            },
            "marker": {
             "colorbar": {
              "outlinewidth": 0,
              "ticks": ""
             }
            },
            "type": "scatter3d"
           }
          ],
          "scattercarpet": [
           {
            "marker": {
             "colorbar": {
              "outlinewidth": 0,
              "ticks": ""
             }
            },
            "type": "scattercarpet"
           }
          ],
          "scattergeo": [
           {
            "marker": {
             "colorbar": {
              "outlinewidth": 0,
              "ticks": ""
             }
            },
            "type": "scattergeo"
           }
          ],
          "scattergl": [
           {
            "marker": {
             "colorbar": {
              "outlinewidth": 0,
              "ticks": ""
             }
            },
            "type": "scattergl"
           }
          ],
          "scattermapbox": [
           {
            "marker": {
             "colorbar": {
              "outlinewidth": 0,
              "ticks": ""
             }
            },
            "type": "scattermapbox"
           }
          ],
          "scatterpolar": [
           {
            "marker": {
             "colorbar": {
              "outlinewidth": 0,
              "ticks": ""
             }
            },
            "type": "scatterpolar"
           }
          ],
          "scatterpolargl": [
           {
            "marker": {
             "colorbar": {
              "outlinewidth": 0,
              "ticks": ""
             }
            },
            "type": "scatterpolargl"
           }
          ],
          "scatterternary": [
           {
            "marker": {
             "colorbar": {
              "outlinewidth": 0,
              "ticks": ""
             }
            },
            "type": "scatterternary"
           }
          ],
          "surface": [
           {
            "colorbar": {
             "outlinewidth": 0,
             "ticks": ""
            },
            "colorscale": [
             [
              0,
              "#0d0887"
             ],
             [
              0.1111111111111111,
              "#46039f"
             ],
             [
              0.2222222222222222,
              "#7201a8"
             ],
             [
              0.3333333333333333,
              "#9c179e"
             ],
             [
              0.4444444444444444,
              "#bd3786"
             ],
             [
              0.5555555555555556,
              "#d8576b"
             ],
             [
              0.6666666666666666,
              "#ed7953"
             ],
             [
              0.7777777777777778,
              "#fb9f3a"
             ],
             [
              0.8888888888888888,
              "#fdca26"
             ],
             [
              1,
              "#f0f921"
             ]
            ],
            "type": "surface"
           }
          ],
          "table": [
           {
            "cells": {
             "fill": {
              "color": "#EBF0F8"
             },
             "line": {
              "color": "white"
             }
            },
            "header": {
             "fill": {
              "color": "#C8D4E3"
             },
             "line": {
              "color": "white"
             }
            },
            "type": "table"
           }
          ]
         },
         "layout": {
          "annotationdefaults": {
           "arrowcolor": "#2a3f5f",
           "arrowhead": 0,
           "arrowwidth": 1
          },
          "autotypenumbers": "strict",
          "coloraxis": {
           "colorbar": {
            "outlinewidth": 0,
            "ticks": ""
           }
          },
          "colorscale": {
           "diverging": [
            [
             0,
             "#8e0152"
            ],
            [
             0.1,
             "#c51b7d"
            ],
            [
             0.2,
             "#de77ae"
            ],
            [
             0.3,
             "#f1b6da"
            ],
            [
             0.4,
             "#fde0ef"
            ],
            [
             0.5,
             "#f7f7f7"
            ],
            [
             0.6,
             "#e6f5d0"
            ],
            [
             0.7,
             "#b8e186"
            ],
            [
             0.8,
             "#7fbc41"
            ],
            [
             0.9,
             "#4d9221"
            ],
            [
             1,
             "#276419"
            ]
           ],
           "sequential": [
            [
             0,
             "#0d0887"
            ],
            [
             0.1111111111111111,
             "#46039f"
            ],
            [
             0.2222222222222222,
             "#7201a8"
            ],
            [
             0.3333333333333333,
             "#9c179e"
            ],
            [
             0.4444444444444444,
             "#bd3786"
            ],
            [
             0.5555555555555556,
             "#d8576b"
            ],
            [
             0.6666666666666666,
             "#ed7953"
            ],
            [
             0.7777777777777778,
             "#fb9f3a"
            ],
            [
             0.8888888888888888,
             "#fdca26"
            ],
            [
             1,
             "#f0f921"
            ]
           ],
           "sequentialminus": [
            [
             0,
             "#0d0887"
            ],
            [
             0.1111111111111111,
             "#46039f"
            ],
            [
             0.2222222222222222,
             "#7201a8"
            ],
            [
             0.3333333333333333,
             "#9c179e"
            ],
            [
             0.4444444444444444,
             "#bd3786"
            ],
            [
             0.5555555555555556,
             "#d8576b"
            ],
            [
             0.6666666666666666,
             "#ed7953"
            ],
            [
             0.7777777777777778,
             "#fb9f3a"
            ],
            [
             0.8888888888888888,
             "#fdca26"
            ],
            [
             1,
             "#f0f921"
            ]
           ]
          },
          "colorway": [
           "#636efa",
           "#EF553B",
           "#00cc96",
           "#ab63fa",
           "#FFA15A",
           "#19d3f3",
           "#FF6692",
           "#B6E880",
           "#FF97FF",
           "#FECB52"
          ],
          "font": {
           "color": "#2a3f5f"
          },
          "geo": {
           "bgcolor": "white",
           "lakecolor": "white",
           "landcolor": "#E5ECF6",
           "showlakes": true,
           "showland": true,
           "subunitcolor": "white"
          },
          "hoverlabel": {
           "align": "left"
          },
          "hovermode": "closest",
          "mapbox": {
           "style": "light"
          },
          "paper_bgcolor": "white",
          "plot_bgcolor": "#E5ECF6",
          "polar": {
           "angularaxis": {
            "gridcolor": "white",
            "linecolor": "white",
            "ticks": ""
           },
           "bgcolor": "#E5ECF6",
           "radialaxis": {
            "gridcolor": "white",
            "linecolor": "white",
            "ticks": ""
           }
          },
          "scene": {
           "xaxis": {
            "backgroundcolor": "#E5ECF6",
            "gridcolor": "white",
            "gridwidth": 2,
            "linecolor": "white",
            "showbackground": true,
            "ticks": "",
            "zerolinecolor": "white"
           },
           "yaxis": {
            "backgroundcolor": "#E5ECF6",
            "gridcolor": "white",
            "gridwidth": 2,
            "linecolor": "white",
            "showbackground": true,
            "ticks": "",
            "zerolinecolor": "white"
           },
           "zaxis": {
            "backgroundcolor": "#E5ECF6",
            "gridcolor": "white",
            "gridwidth": 2,
            "linecolor": "white",
            "showbackground": true,
            "ticks": "",
            "zerolinecolor": "white"
           }
          },
          "shapedefaults": {
           "line": {
            "color": "#2a3f5f"
           }
          },
          "ternary": {
           "aaxis": {
            "gridcolor": "white",
            "linecolor": "white",
            "ticks": ""
           },
           "baxis": {
            "gridcolor": "white",
            "linecolor": "white",
            "ticks": ""
           },
           "bgcolor": "#E5ECF6",
           "caxis": {
            "gridcolor": "white",
            "linecolor": "white",
            "ticks": ""
           }
          },
          "title": {
           "x": 0.05
          },
          "xaxis": {
           "automargin": true,
           "gridcolor": "white",
           "linecolor": "white",
           "ticks": "",
           "title": {
            "standoff": 15
           },
           "zerolinecolor": "white",
           "zerolinewidth": 2
          },
          "yaxis": {
           "automargin": true,
           "gridcolor": "white",
           "linecolor": "white",
           "ticks": "",
           "title": {
            "standoff": 15
           },
           "zerolinecolor": "white",
           "zerolinewidth": 2
          }
         }
        },
        "title": {
         "font": {
          "size": 20
         },
         "text": "Normalized L2 Misses",
         "x": 0.5,
         "xanchor": "center",
         "y": 0.97,
         "yanchor": "top"
        },
        "xaxis": {
         "tickfont": {
          "size": 10
         },
         "title": {
          "font": {
           "size": 20
          },
          "text": "Workloads"
         }
        },
        "yaxis": {
         "dtick": 1,
         "range": [
          0,
          4
         ],
         "tickfont": {
          "size": 20
         },
         "title": {
          "font": {
           "size": 20
          },
          "text": "Normalized L2 Misses"
         }
        }
       }
      }
     },
     "metadata": {},
     "output_type": "display_data"
    }
   ],
   "source": [
    "# MPKI\n",
    "\n",
    "stats = {}\n",
    "appconfigs = []\n",
    "\n",
    "l2_miss_to_plot = []\n",
    "l2_miss_holo_to_plot = []\n",
    "l2_miss_ritnet_to_plot = []\n",
    "\n",
    "\n",
    "for wl in workloads:\n",
    "    x_names.append(wl.split(\"_\")[0])\n",
    "    x_sizes.append(wl.split(\"_\")[-1])\n",
    "    app = wl + \"/all4\"\n",
    "    config = app + \"ORIN-SASS-concurrent-fg-VISUAL\"\n",
    "    baseline = app + \"ORIN-SASS-VISUAL\"\n",
    "    l2_miss_to_plot.append(l2_misses[config] / (l2_misses[baseline]))\n",
    "    print(app, l2_misses[config], l2_misses[baseline])\n",
    "\n",
    "    # config =app+\"ORIN-SASS-concurrent-fg-slicer-VISUAL\"\n",
    "    # ipc2_to_plot.append(l2_misses[config] / (l2_misses[baseline]))\n",
    "\n",
    "    app = wl + \"/hotlab\"\n",
    "    config = app + \"ORIN-SASS-concurrent-fg-VISUAL\"\n",
    "    baseline = app + \"ORIN-SASS-VISUAL\"\n",
    "    l2_miss_holo_to_plot.append(l2_misses[config] / (l2_misses[baseline]))\n",
    "\n",
    "    app = wl + \"/ritnet\"\n",
    "    config = app + \"ORIN-SASS-concurrent-fg-VISUAL\"\n",
    "    baseline = app + \"ORIN-SASS-VISUAL\"\n",
    "    l2_miss_ritnet_to_plot.append(l2_misses[config] / (l2_misses[baseline]))\n",
    "\n",
    "\n",
    "fig = go.Figure()\n",
    "fig.add_trace(\n",
    "    go.Bar(\n",
    "        name=\"Fine-grained Concurrent\",\n",
    "        x=[\n",
    "            x_mesa_labels + x_mesa_labels + x_mesa_labels + x_mesa_labels,\n",
    "            x_vio_labels\n",
    "            + x_holo_labels + x_nn_labels + x_slam_labels,\n",
    "        ],\n",
    "        y=l2_miss_to_plot + l2_miss_holo_to_plot + l2_miss_ritnet_to_plot + ones,\n",
    "        # marker=dict(color=colors['Frame - cache']),\n",
    "        marker_pattern_shape=patterns[\"Frame - cache\"],\n",
    "    )\n",
    ")\n",
    "\n",
    "# change width and height of the figure\n",
    "# fig.update_layout(\n",
    "#     autosize=False,\n",
    "#     width=400,\n",
    "#     height=300,\n",
    "#     # title=\"Normalized Latency\",\n",
    "# )\n",
    "# Change the bar mode\n",
    "fig.update_layout(barmode=\"group\")\n",
    "# add title in middle\n",
    "fig.update_layout(\n",
    "    title={\n",
    "        \"text\": \"Normalized L2 Misses\",\n",
    "        \"y\": 0.97,\n",
    "        \"x\": 0.5,\n",
    "        \"xanchor\": \"center\",\n",
    "        \"yanchor\": \"top\",\n",
    "    }\n",
    ")\n",
    "# change bar gap\n",
    "fig.update_layout(bargap=0.4, bargroupgap=0)\n",
    "# change x axis title\n",
    "fig.update_layout(xaxis_title=\"Workloads\", yaxis_title=\"Normalized L2 Misses\")\n",
    "# change y axis range\n",
    "fig.update_yaxes(range=[0, 4], dtick=1)\n",
    "# change y tick step\n",
    "# change font size\n",
    "fig.update_layout(xaxis=dict(tickfont=dict(size=10)))\n",
    "fig.update_layout(yaxis=dict(tickfont=dict(size=20)))\n",
    "fig.update_layout(title_font_size=20)\n",
    "fig.update_layout(legend=dict(font=dict(size=15)))\n",
    "fig.update_layout(xaxis_title_font_size=20)\n",
    "fig.update_layout(yaxis_title_font_size=20)\n",
    "# change legend position to top\n",
    "fig.update_layout(\n",
    "    legend=dict(\n",
    "        orientation=\"h\",\n",
    "        yanchor=\"bottom\",\n",
    "        y=1,\n",
    "        xanchor=\"left\",\n",
    "        x=0.1,\n",
    "    )\n",
    ")\n",
    "# change margin\n",
    "fig.update_layout(margin=dict(l=0, r=10, t=100, b=100))\n",
    "\n",
    "fig.show()\n",
    "\n",
    "plotly.io.write_image(fig, \"output_file.pdf\", format=\"pdf\")\n",
    "plotly.io.write_image(fig, \"tmp.png\", format=\"png\") \n",
    "\n"
   ]
  },
  {
   "cell_type": "code",
   "execution_count": 415,
   "metadata": {},
   "outputs": [
    {
     "name": "stdout",
     "output_type": "stream",
     "text": [
      "8.6009001 9.7563198\n",
      "5.081805359999999 9.96717414\n",
      "5.985949080000001 6.0355908000000005\n",
      "1.5599304 9.0058872\n",
      "27.72296274 74.7835246\n",
      "0.8815721784765604 0.5098541761807724 0.9917751680581129 0.17321229606340174 0.37070949635342537\n"
     ]
    },
    {
     "data": {
      "application/vnd.plotly.v1+json": {
       "config": {
        "plotlyServerURL": "https://plot.ly"
       },
       "data": [
        {
         "marker": {
          "pattern": {
           "shape": ""
          }
         },
         "name": "CPU",
         "type": "bar",
         "x": [
          "KLT Tracker",
          "Harris</br></br>Corner",
          "Optical</br></br>Flow",
          "Distortion",
          "Template</br></br>Matching",
          "Geomean"
         ],
         "y": [
          1,
          1,
          1,
          1,
          1,
          1
         ]
        },
        {
         "marker": {
          "pattern": {
           "shape": "/"
          }
         },
         "name": "GPU",
         "text": [
          "3.27",
          "6.30",
          "2.99",
          "2.90",
          "5.45",
          "3.96"
         ],
         "textfont": {
          "size": 20
         },
         "textposition": "outside",
         "type": "bar",
         "x": [
          "KLT Tracker",
          "Harris</br></br>Corner",
          "Optical</br></br>Flow",
          "Distortion",
          "Template</br></br>Matching",
          "Geomean"
         ],
         "y": [
          3.265173432255073,
          6.299492698398036,
          2.987318537297013,
          2.8975240433803973,
          5.452570858954306,
          3.9575311897926486
         ]
        }
       ],
       "layout": {
        "autosize": false,
        "bargap": 0.2,
        "bargroupgap": 0,
        "barmode": "group",
        "height": 250,
        "legend": {
         "font": {
          "size": 20
         },
         "orientation": "h",
         "x": 0.4,
         "xanchor": "left",
         "y": 1,
         "yanchor": "bottom"
        },
        "margin": {
         "b": 60,
         "l": 0,
         "r": 10,
         "t": 0
        },
        "plot_bgcolor": "rgba(0,0,0,0)",
        "template": {
         "data": {
          "bar": [
           {
            "error_x": {
             "color": "#2a3f5f"
            },
            "error_y": {
             "color": "#2a3f5f"
            },
            "marker": {
             "line": {
              "color": "#E5ECF6",
              "width": 0.5
             },
             "pattern": {
              "fillmode": "overlay",
              "size": 10,
              "solidity": 0.2
             }
            },
            "type": "bar"
           }
          ],
          "barpolar": [
           {
            "marker": {
             "line": {
              "color": "#E5ECF6",
              "width": 0.5
             },
             "pattern": {
              "fillmode": "overlay",
              "size": 10,
              "solidity": 0.2
             }
            },
            "type": "barpolar"
           }
          ],
          "carpet": [
           {
            "aaxis": {
             "endlinecolor": "#2a3f5f",
             "gridcolor": "white",
             "linecolor": "white",
             "minorgridcolor": "white",
             "startlinecolor": "#2a3f5f"
            },
            "baxis": {
             "endlinecolor": "#2a3f5f",
             "gridcolor": "white",
             "linecolor": "white",
             "minorgridcolor": "white",
             "startlinecolor": "#2a3f5f"
            },
            "type": "carpet"
           }
          ],
          "choropleth": [
           {
            "colorbar": {
             "outlinewidth": 0,
             "ticks": ""
            },
            "type": "choropleth"
           }
          ],
          "contour": [
           {
            "colorbar": {
             "outlinewidth": 0,
             "ticks": ""
            },
            "colorscale": [
             [
              0,
              "#0d0887"
             ],
             [
              0.1111111111111111,
              "#46039f"
             ],
             [
              0.2222222222222222,
              "#7201a8"
             ],
             [
              0.3333333333333333,
              "#9c179e"
             ],
             [
              0.4444444444444444,
              "#bd3786"
             ],
             [
              0.5555555555555556,
              "#d8576b"
             ],
             [
              0.6666666666666666,
              "#ed7953"
             ],
             [
              0.7777777777777778,
              "#fb9f3a"
             ],
             [
              0.8888888888888888,
              "#fdca26"
             ],
             [
              1,
              "#f0f921"
             ]
            ],
            "type": "contour"
           }
          ],
          "contourcarpet": [
           {
            "colorbar": {
             "outlinewidth": 0,
             "ticks": ""
            },
            "type": "contourcarpet"
           }
          ],
          "heatmap": [
           {
            "colorbar": {
             "outlinewidth": 0,
             "ticks": ""
            },
            "colorscale": [
             [
              0,
              "#0d0887"
             ],
             [
              0.1111111111111111,
              "#46039f"
             ],
             [
              0.2222222222222222,
              "#7201a8"
             ],
             [
              0.3333333333333333,
              "#9c179e"
             ],
             [
              0.4444444444444444,
              "#bd3786"
             ],
             [
              0.5555555555555556,
              "#d8576b"
             ],
             [
              0.6666666666666666,
              "#ed7953"
             ],
             [
              0.7777777777777778,
              "#fb9f3a"
             ],
             [
              0.8888888888888888,
              "#fdca26"
             ],
             [
              1,
              "#f0f921"
             ]
            ],
            "type": "heatmap"
           }
          ],
          "heatmapgl": [
           {
            "colorbar": {
             "outlinewidth": 0,
             "ticks": ""
            },
            "colorscale": [
             [
              0,
              "#0d0887"
             ],
             [
              0.1111111111111111,
              "#46039f"
             ],
             [
              0.2222222222222222,
              "#7201a8"
             ],
             [
              0.3333333333333333,
              "#9c179e"
             ],
             [
              0.4444444444444444,
              "#bd3786"
             ],
             [
              0.5555555555555556,
              "#d8576b"
             ],
             [
              0.6666666666666666,
              "#ed7953"
             ],
             [
              0.7777777777777778,
              "#fb9f3a"
             ],
             [
              0.8888888888888888,
              "#fdca26"
             ],
             [
              1,
              "#f0f921"
             ]
            ],
            "type": "heatmapgl"
           }
          ],
          "histogram": [
           {
            "marker": {
             "pattern": {
              "fillmode": "overlay",
              "size": 10,
              "solidity": 0.2
             }
            },
            "type": "histogram"
           }
          ],
          "histogram2d": [
           {
            "colorbar": {
             "outlinewidth": 0,
             "ticks": ""
            },
            "colorscale": [
             [
              0,
              "#0d0887"
             ],
             [
              0.1111111111111111,
              "#46039f"
             ],
             [
              0.2222222222222222,
              "#7201a8"
             ],
             [
              0.3333333333333333,
              "#9c179e"
             ],
             [
              0.4444444444444444,
              "#bd3786"
             ],
             [
              0.5555555555555556,
              "#d8576b"
             ],
             [
              0.6666666666666666,
              "#ed7953"
             ],
             [
              0.7777777777777778,
              "#fb9f3a"
             ],
             [
              0.8888888888888888,
              "#fdca26"
             ],
             [
              1,
              "#f0f921"
             ]
            ],
            "type": "histogram2d"
           }
          ],
          "histogram2dcontour": [
           {
            "colorbar": {
             "outlinewidth": 0,
             "ticks": ""
            },
            "colorscale": [
             [
              0,
              "#0d0887"
             ],
             [
              0.1111111111111111,
              "#46039f"
             ],
             [
              0.2222222222222222,
              "#7201a8"
             ],
             [
              0.3333333333333333,
              "#9c179e"
             ],
             [
              0.4444444444444444,
              "#bd3786"
             ],
             [
              0.5555555555555556,
              "#d8576b"
             ],
             [
              0.6666666666666666,
              "#ed7953"
             ],
             [
              0.7777777777777778,
              "#fb9f3a"
             ],
             [
              0.8888888888888888,
              "#fdca26"
             ],
             [
              1,
              "#f0f921"
             ]
            ],
            "type": "histogram2dcontour"
           }
          ],
          "mesh3d": [
           {
            "colorbar": {
             "outlinewidth": 0,
             "ticks": ""
            },
            "type": "mesh3d"
           }
          ],
          "parcoords": [
           {
            "line": {
             "colorbar": {
              "outlinewidth": 0,
              "ticks": ""
             }
            },
            "type": "parcoords"
           }
          ],
          "pie": [
           {
            "automargin": true,
            "type": "pie"
           }
          ],
          "scatter": [
           {
            "fillpattern": {
             "fillmode": "overlay",
             "size": 10,
             "solidity": 0.2
            },
            "type": "scatter"
           }
          ],
          "scatter3d": [
           {
            "line": {
             "colorbar": {
              "outlinewidth": 0,
              "ticks": ""
             }
            },
            "marker": {
             "colorbar": {
              "outlinewidth": 0,
              "ticks": ""
             }
            },
            "type": "scatter3d"
           }
          ],
          "scattercarpet": [
           {
            "marker": {
             "colorbar": {
              "outlinewidth": 0,
              "ticks": ""
             }
            },
            "type": "scattercarpet"
           }
          ],
          "scattergeo": [
           {
            "marker": {
             "colorbar": {
              "outlinewidth": 0,
              "ticks": ""
             }
            },
            "type": "scattergeo"
           }
          ],
          "scattergl": [
           {
            "marker": {
             "colorbar": {
              "outlinewidth": 0,
              "ticks": ""
             }
            },
            "type": "scattergl"
           }
          ],
          "scattermapbox": [
           {
            "marker": {
             "colorbar": {
              "outlinewidth": 0,
              "ticks": ""
             }
            },
            "type": "scattermapbox"
           }
          ],
          "scatterpolar": [
           {
            "marker": {
             "colorbar": {
              "outlinewidth": 0,
              "ticks": ""
             }
            },
            "type": "scatterpolar"
           }
          ],
          "scatterpolargl": [
           {
            "marker": {
             "colorbar": {
              "outlinewidth": 0,
              "ticks": ""
             }
            },
            "type": "scatterpolargl"
           }
          ],
          "scatterternary": [
           {
            "marker": {
             "colorbar": {
              "outlinewidth": 0,
              "ticks": ""
             }
            },
            "type": "scatterternary"
           }
          ],
          "surface": [
           {
            "colorbar": {
             "outlinewidth": 0,
             "ticks": ""
            },
            "colorscale": [
             [
              0,
              "#0d0887"
             ],
             [
              0.1111111111111111,
              "#46039f"
             ],
             [
              0.2222222222222222,
              "#7201a8"
             ],
             [
              0.3333333333333333,
              "#9c179e"
             ],
             [
              0.4444444444444444,
              "#bd3786"
             ],
             [
              0.5555555555555556,
              "#d8576b"
             ],
             [
              0.6666666666666666,
              "#ed7953"
             ],
             [
              0.7777777777777778,
              "#fb9f3a"
             ],
             [
              0.8888888888888888,
              "#fdca26"
             ],
             [
              1,
              "#f0f921"
             ]
            ],
            "type": "surface"
           }
          ],
          "table": [
           {
            "cells": {
             "fill": {
              "color": "#EBF0F8"
             },
             "line": {
              "color": "white"
             }
            },
            "header": {
             "fill": {
              "color": "#C8D4E3"
             },
             "line": {
              "color": "white"
             }
            },
            "type": "table"
           }
          ]
         },
         "layout": {
          "annotationdefaults": {
           "arrowcolor": "#2a3f5f",
           "arrowhead": 0,
           "arrowwidth": 1
          },
          "autotypenumbers": "strict",
          "coloraxis": {
           "colorbar": {
            "outlinewidth": 0,
            "ticks": ""
           }
          },
          "colorscale": {
           "diverging": [
            [
             0,
             "#8e0152"
            ],
            [
             0.1,
             "#c51b7d"
            ],
            [
             0.2,
             "#de77ae"
            ],
            [
             0.3,
             "#f1b6da"
            ],
            [
             0.4,
             "#fde0ef"
            ],
            [
             0.5,
             "#f7f7f7"
            ],
            [
             0.6,
             "#e6f5d0"
            ],
            [
             0.7,
             "#b8e186"
            ],
            [
             0.8,
             "#7fbc41"
            ],
            [
             0.9,
             "#4d9221"
            ],
            [
             1,
             "#276419"
            ]
           ],
           "sequential": [
            [
             0,
             "#0d0887"
            ],
            [
             0.1111111111111111,
             "#46039f"
            ],
            [
             0.2222222222222222,
             "#7201a8"
            ],
            [
             0.3333333333333333,
             "#9c179e"
            ],
            [
             0.4444444444444444,
             "#bd3786"
            ],
            [
             0.5555555555555556,
             "#d8576b"
            ],
            [
             0.6666666666666666,
             "#ed7953"
            ],
            [
             0.7777777777777778,
             "#fb9f3a"
            ],
            [
             0.8888888888888888,
             "#fdca26"
            ],
            [
             1,
             "#f0f921"
            ]
           ],
           "sequentialminus": [
            [
             0,
             "#0d0887"
            ],
            [
             0.1111111111111111,
             "#46039f"
            ],
            [
             0.2222222222222222,
             "#7201a8"
            ],
            [
             0.3333333333333333,
             "#9c179e"
            ],
            [
             0.4444444444444444,
             "#bd3786"
            ],
            [
             0.5555555555555556,
             "#d8576b"
            ],
            [
             0.6666666666666666,
             "#ed7953"
            ],
            [
             0.7777777777777778,
             "#fb9f3a"
            ],
            [
             0.8888888888888888,
             "#fdca26"
            ],
            [
             1,
             "#f0f921"
            ]
           ]
          },
          "colorway": [
           "#636efa",
           "#EF553B",
           "#00cc96",
           "#ab63fa",
           "#FFA15A",
           "#19d3f3",
           "#FF6692",
           "#B6E880",
           "#FF97FF",
           "#FECB52"
          ],
          "font": {
           "color": "#2a3f5f"
          },
          "geo": {
           "bgcolor": "white",
           "lakecolor": "white",
           "landcolor": "#E5ECF6",
           "showlakes": true,
           "showland": true,
           "subunitcolor": "white"
          },
          "hoverlabel": {
           "align": "left"
          },
          "hovermode": "closest",
          "mapbox": {
           "style": "light"
          },
          "paper_bgcolor": "white",
          "plot_bgcolor": "#E5ECF6",
          "polar": {
           "angularaxis": {
            "gridcolor": "white",
            "linecolor": "white",
            "ticks": ""
           },
           "bgcolor": "#E5ECF6",
           "radialaxis": {
            "gridcolor": "white",
            "linecolor": "white",
            "ticks": ""
           }
          },
          "scene": {
           "xaxis": {
            "backgroundcolor": "#E5ECF6",
            "gridcolor": "white",
            "gridwidth": 2,
            "linecolor": "white",
            "showbackground": true,
            "ticks": "",
            "zerolinecolor": "white"
           },
           "yaxis": {
            "backgroundcolor": "#E5ECF6",
            "gridcolor": "white",
            "gridwidth": 2,
            "linecolor": "white",
            "showbackground": true,
            "ticks": "",
            "zerolinecolor": "white"
           },
           "zaxis": {
            "backgroundcolor": "#E5ECF6",
            "gridcolor": "white",
            "gridwidth": 2,
            "linecolor": "white",
            "showbackground": true,
            "ticks": "",
            "zerolinecolor": "white"
           }
          },
          "shapedefaults": {
           "line": {
            "color": "#2a3f5f"
           }
          },
          "ternary": {
           "aaxis": {
            "gridcolor": "white",
            "linecolor": "white",
            "ticks": ""
           },
           "baxis": {
            "gridcolor": "white",
            "linecolor": "white",
            "ticks": ""
           },
           "bgcolor": "#E5ECF6",
           "caxis": {
            "gridcolor": "white",
            "linecolor": "white",
            "ticks": ""
           }
          },
          "title": {
           "x": 0.05
          },
          "xaxis": {
           "automargin": true,
           "gridcolor": "white",
           "linecolor": "white",
           "ticks": "",
           "title": {
            "standoff": 15
           },
           "zerolinecolor": "white",
           "zerolinewidth": 2
          },
          "yaxis": {
           "automargin": true,
           "gridcolor": "white",
           "linecolor": "white",
           "ticks": "",
           "title": {
            "standoff": 15
           },
           "zerolinecolor": "white",
           "zerolinewidth": 2
          }
         }
        },
        "title": {
         "font": {
          "size": 20
         }
        },
        "width": 800,
        "xaxis": {
         "linecolor": "black",
         "linewidth": 2,
         "showline": true,
         "tickfont": {
          "size": 20
         },
         "title": {
          "font": {
           "size": 20
          }
         }
        },
        "yaxis": {
         "dtick": 2,
         "gridcolor": "gainsboro",
         "gridwidth": 0.5,
         "linecolor": "black",
         "linewidth": 2,
         "range": [
          0,
          9
         ],
         "showgrid": true,
         "showline": true,
         "tickfont": {
          "size": 20
         },
         "title": {
          "font": {
           "size": 20
          },
          "text": "Speedup"
         }
        }
       }
      }
     },
     "metadata": {},
     "output_type": "display_data"
    },
    {
     "data": {
      "application/vnd.plotly.v1+json": {
       "config": {
        "plotlyServerURL": "https://plot.ly"
       },
       "data": [
        {
         "marker": {
          "pattern": {
           "shape": ""
          }
         },
         "name": "CPU",
         "type": "bar",
         "x": [
          "KLT Tracker",
          "Harris</br></br>Corner",
          "Optical</br></br>Flow",
          "Distortion",
          "Template</br></br>Matching",
          "Geomean"
         ],
         "y": [
          1,
          1,
          1,
          1,
          1,
          1
         ]
        },
        {
         "marker": {
          "pattern": {
           "shape": "/"
          }
         },
         "name": "GPU",
         "text": [
          "0.88",
          "0.51",
          "0.99",
          "0.17",
          "0.37",
          "0.49"
         ],
         "textfont": {
          "size": 20
         },
         "textposition": "outside",
         "type": "bar",
         "x": [
          "KLT Tracker",
          "Harris</br></br>Corner",
          "Optical</br></br>Flow",
          "Distortion",
          "Template</br></br>Matching",
          "Geomean"
         ],
         "y": [
          0.8815721784765604,
          0.5098541761807724,
          0.9917751680581129,
          0.17321229606340174,
          0.37070949635342537,
          0.4912990262971868
         ]
        }
       ],
       "layout": {
        "autosize": false,
        "bargap": 0.2,
        "bargroupgap": 0,
        "barmode": "group",
        "height": 250,
        "legend": {
         "font": {
          "size": 20
         },
         "orientation": "h",
         "x": 0.4,
         "xanchor": "left",
         "y": 1,
         "yanchor": "bottom"
        },
        "margin": {
         "b": 60,
         "l": 0,
         "r": 10,
         "t": 0
        },
        "plot_bgcolor": "rgba(0,0,0,0)",
        "template": {
         "data": {
          "bar": [
           {
            "error_x": {
             "color": "#2a3f5f"
            },
            "error_y": {
             "color": "#2a3f5f"
            },
            "marker": {
             "line": {
              "color": "#E5ECF6",
              "width": 0.5
             },
             "pattern": {
              "fillmode": "overlay",
              "size": 10,
              "solidity": 0.2
             }
            },
            "type": "bar"
           }
          ],
          "barpolar": [
           {
            "marker": {
             "line": {
              "color": "#E5ECF6",
              "width": 0.5
             },
             "pattern": {
              "fillmode": "overlay",
              "size": 10,
              "solidity": 0.2
             }
            },
            "type": "barpolar"
           }
          ],
          "carpet": [
           {
            "aaxis": {
             "endlinecolor": "#2a3f5f",
             "gridcolor": "white",
             "linecolor": "white",
             "minorgridcolor": "white",
             "startlinecolor": "#2a3f5f"
            },
            "baxis": {
             "endlinecolor": "#2a3f5f",
             "gridcolor": "white",
             "linecolor": "white",
             "minorgridcolor": "white",
             "startlinecolor": "#2a3f5f"
            },
            "type": "carpet"
           }
          ],
          "choropleth": [
           {
            "colorbar": {
             "outlinewidth": 0,
             "ticks": ""
            },
            "type": "choropleth"
           }
          ],
          "contour": [
           {
            "colorbar": {
             "outlinewidth": 0,
             "ticks": ""
            },
            "colorscale": [
             [
              0,
              "#0d0887"
             ],
             [
              0.1111111111111111,
              "#46039f"
             ],
             [
              0.2222222222222222,
              "#7201a8"
             ],
             [
              0.3333333333333333,
              "#9c179e"
             ],
             [
              0.4444444444444444,
              "#bd3786"
             ],
             [
              0.5555555555555556,
              "#d8576b"
             ],
             [
              0.6666666666666666,
              "#ed7953"
             ],
             [
              0.7777777777777778,
              "#fb9f3a"
             ],
             [
              0.8888888888888888,
              "#fdca26"
             ],
             [
              1,
              "#f0f921"
             ]
            ],
            "type": "contour"
           }
          ],
          "contourcarpet": [
           {
            "colorbar": {
             "outlinewidth": 0,
             "ticks": ""
            },
            "type": "contourcarpet"
           }
          ],
          "heatmap": [
           {
            "colorbar": {
             "outlinewidth": 0,
             "ticks": ""
            },
            "colorscale": [
             [
              0,
              "#0d0887"
             ],
             [
              0.1111111111111111,
              "#46039f"
             ],
             [
              0.2222222222222222,
              "#7201a8"
             ],
             [
              0.3333333333333333,
              "#9c179e"
             ],
             [
              0.4444444444444444,
              "#bd3786"
             ],
             [
              0.5555555555555556,
              "#d8576b"
             ],
             [
              0.6666666666666666,
              "#ed7953"
             ],
             [
              0.7777777777777778,
              "#fb9f3a"
             ],
             [
              0.8888888888888888,
              "#fdca26"
             ],
             [
              1,
              "#f0f921"
             ]
            ],
            "type": "heatmap"
           }
          ],
          "heatmapgl": [
           {
            "colorbar": {
             "outlinewidth": 0,
             "ticks": ""
            },
            "colorscale": [
             [
              0,
              "#0d0887"
             ],
             [
              0.1111111111111111,
              "#46039f"
             ],
             [
              0.2222222222222222,
              "#7201a8"
             ],
             [
              0.3333333333333333,
              "#9c179e"
             ],
             [
              0.4444444444444444,
              "#bd3786"
             ],
             [
              0.5555555555555556,
              "#d8576b"
             ],
             [
              0.6666666666666666,
              "#ed7953"
             ],
             [
              0.7777777777777778,
              "#fb9f3a"
             ],
             [
              0.8888888888888888,
              "#fdca26"
             ],
             [
              1,
              "#f0f921"
             ]
            ],
            "type": "heatmapgl"
           }
          ],
          "histogram": [
           {
            "marker": {
             "pattern": {
              "fillmode": "overlay",
              "size": 10,
              "solidity": 0.2
             }
            },
            "type": "histogram"
           }
          ],
          "histogram2d": [
           {
            "colorbar": {
             "outlinewidth": 0,
             "ticks": ""
            },
            "colorscale": [
             [
              0,
              "#0d0887"
             ],
             [
              0.1111111111111111,
              "#46039f"
             ],
             [
              0.2222222222222222,
              "#7201a8"
             ],
             [
              0.3333333333333333,
              "#9c179e"
             ],
             [
              0.4444444444444444,
              "#bd3786"
             ],
             [
              0.5555555555555556,
              "#d8576b"
             ],
             [
              0.6666666666666666,
              "#ed7953"
             ],
             [
              0.7777777777777778,
              "#fb9f3a"
             ],
             [
              0.8888888888888888,
              "#fdca26"
             ],
             [
              1,
              "#f0f921"
             ]
            ],
            "type": "histogram2d"
           }
          ],
          "histogram2dcontour": [
           {
            "colorbar": {
             "outlinewidth": 0,
             "ticks": ""
            },
            "colorscale": [
             [
              0,
              "#0d0887"
             ],
             [
              0.1111111111111111,
              "#46039f"
             ],
             [
              0.2222222222222222,
              "#7201a8"
             ],
             [
              0.3333333333333333,
              "#9c179e"
             ],
             [
              0.4444444444444444,
              "#bd3786"
             ],
             [
              0.5555555555555556,
              "#d8576b"
             ],
             [
              0.6666666666666666,
              "#ed7953"
             ],
             [
              0.7777777777777778,
              "#fb9f3a"
             ],
             [
              0.8888888888888888,
              "#fdca26"
             ],
             [
              1,
              "#f0f921"
             ]
            ],
            "type": "histogram2dcontour"
           }
          ],
          "mesh3d": [
           {
            "colorbar": {
             "outlinewidth": 0,
             "ticks": ""
            },
            "type": "mesh3d"
           }
          ],
          "parcoords": [
           {
            "line": {
             "colorbar": {
              "outlinewidth": 0,
              "ticks": ""
             }
            },
            "type": "parcoords"
           }
          ],
          "pie": [
           {
            "automargin": true,
            "type": "pie"
           }
          ],
          "scatter": [
           {
            "fillpattern": {
             "fillmode": "overlay",
             "size": 10,
             "solidity": 0.2
            },
            "type": "scatter"
           }
          ],
          "scatter3d": [
           {
            "line": {
             "colorbar": {
              "outlinewidth": 0,
              "ticks": ""
             }
            },
            "marker": {
             "colorbar": {
              "outlinewidth": 0,
              "ticks": ""
             }
            },
            "type": "scatter3d"
           }
          ],
          "scattercarpet": [
           {
            "marker": {
             "colorbar": {
              "outlinewidth": 0,
              "ticks": ""
             }
            },
            "type": "scattercarpet"
           }
          ],
          "scattergeo": [
           {
            "marker": {
             "colorbar": {
              "outlinewidth": 0,
              "ticks": ""
             }
            },
            "type": "scattergeo"
           }
          ],
          "scattergl": [
           {
            "marker": {
             "colorbar": {
              "outlinewidth": 0,
              "ticks": ""
             }
            },
            "type": "scattergl"
           }
          ],
          "scattermapbox": [
           {
            "marker": {
             "colorbar": {
              "outlinewidth": 0,
              "ticks": ""
             }
            },
            "type": "scattermapbox"
           }
          ],
          "scatterpolar": [
           {
            "marker": {
             "colorbar": {
              "outlinewidth": 0,
              "ticks": ""
             }
            },
            "type": "scatterpolar"
           }
          ],
          "scatterpolargl": [
           {
            "marker": {
             "colorbar": {
              "outlinewidth": 0,
              "ticks": ""
             }
            },
            "type": "scatterpolargl"
           }
          ],
          "scatterternary": [
           {
            "marker": {
             "colorbar": {
              "outlinewidth": 0,
              "ticks": ""
             }
            },
            "type": "scatterternary"
           }
          ],
          "surface": [
           {
            "colorbar": {
             "outlinewidth": 0,
             "ticks": ""
            },
            "colorscale": [
             [
              0,
              "#0d0887"
             ],
             [
              0.1111111111111111,
              "#46039f"
             ],
             [
              0.2222222222222222,
              "#7201a8"
             ],
             [
              0.3333333333333333,
              "#9c179e"
             ],
             [
              0.4444444444444444,
              "#bd3786"
             ],
             [
              0.5555555555555556,
              "#d8576b"
             ],
             [
              0.6666666666666666,
              "#ed7953"
             ],
             [
              0.7777777777777778,
              "#fb9f3a"
             ],
             [
              0.8888888888888888,
              "#fdca26"
             ],
             [
              1,
              "#f0f921"
             ]
            ],
            "type": "surface"
           }
          ],
          "table": [
           {
            "cells": {
             "fill": {
              "color": "#EBF0F8"
             },
             "line": {
              "color": "white"
             }
            },
            "header": {
             "fill": {
              "color": "#C8D4E3"
             },
             "line": {
              "color": "white"
             }
            },
            "type": "table"
           }
          ]
         },
         "layout": {
          "annotationdefaults": {
           "arrowcolor": "#2a3f5f",
           "arrowhead": 0,
           "arrowwidth": 1
          },
          "autotypenumbers": "strict",
          "coloraxis": {
           "colorbar": {
            "outlinewidth": 0,
            "ticks": ""
           }
          },
          "colorscale": {
           "diverging": [
            [
             0,
             "#8e0152"
            ],
            [
             0.1,
             "#c51b7d"
            ],
            [
             0.2,
             "#de77ae"
            ],
            [
             0.3,
             "#f1b6da"
            ],
            [
             0.4,
             "#fde0ef"
            ],
            [
             0.5,
             "#f7f7f7"
            ],
            [
             0.6,
             "#e6f5d0"
            ],
            [
             0.7,
             "#b8e186"
            ],
            [
             0.8,
             "#7fbc41"
            ],
            [
             0.9,
             "#4d9221"
            ],
            [
             1,
             "#276419"
            ]
           ],
           "sequential": [
            [
             0,
             "#0d0887"
            ],
            [
             0.1111111111111111,
             "#46039f"
            ],
            [
             0.2222222222222222,
             "#7201a8"
            ],
            [
             0.3333333333333333,
             "#9c179e"
            ],
            [
             0.4444444444444444,
             "#bd3786"
            ],
            [
             0.5555555555555556,
             "#d8576b"
            ],
            [
             0.6666666666666666,
             "#ed7953"
            ],
            [
             0.7777777777777778,
             "#fb9f3a"
            ],
            [
             0.8888888888888888,
             "#fdca26"
            ],
            [
             1,
             "#f0f921"
            ]
           ],
           "sequentialminus": [
            [
             0,
             "#0d0887"
            ],
            [
             0.1111111111111111,
             "#46039f"
            ],
            [
             0.2222222222222222,
             "#7201a8"
            ],
            [
             0.3333333333333333,
             "#9c179e"
            ],
            [
             0.4444444444444444,
             "#bd3786"
            ],
            [
             0.5555555555555556,
             "#d8576b"
            ],
            [
             0.6666666666666666,
             "#ed7953"
            ],
            [
             0.7777777777777778,
             "#fb9f3a"
            ],
            [
             0.8888888888888888,
             "#fdca26"
            ],
            [
             1,
             "#f0f921"
            ]
           ]
          },
          "colorway": [
           "#636efa",
           "#EF553B",
           "#00cc96",
           "#ab63fa",
           "#FFA15A",
           "#19d3f3",
           "#FF6692",
           "#B6E880",
           "#FF97FF",
           "#FECB52"
          ],
          "font": {
           "color": "#2a3f5f"
          },
          "geo": {
           "bgcolor": "white",
           "lakecolor": "white",
           "landcolor": "#E5ECF6",
           "showlakes": true,
           "showland": true,
           "subunitcolor": "white"
          },
          "hoverlabel": {
           "align": "left"
          },
          "hovermode": "closest",
          "mapbox": {
           "style": "light"
          },
          "paper_bgcolor": "white",
          "plot_bgcolor": "#E5ECF6",
          "polar": {
           "angularaxis": {
            "gridcolor": "white",
            "linecolor": "white",
            "ticks": ""
           },
           "bgcolor": "#E5ECF6",
           "radialaxis": {
            "gridcolor": "white",
            "linecolor": "white",
            "ticks": ""
           }
          },
          "scene": {
           "xaxis": {
            "backgroundcolor": "#E5ECF6",
            "gridcolor": "white",
            "gridwidth": 2,
            "linecolor": "white",
            "showbackground": true,
            "ticks": "",
            "zerolinecolor": "white"
           },
           "yaxis": {
            "backgroundcolor": "#E5ECF6",
            "gridcolor": "white",
            "gridwidth": 2,
            "linecolor": "white",
            "showbackground": true,
            "ticks": "",
            "zerolinecolor": "white"
           },
           "zaxis": {
            "backgroundcolor": "#E5ECF6",
            "gridcolor": "white",
            "gridwidth": 2,
            "linecolor": "white",
            "showbackground": true,
            "ticks": "",
            "zerolinecolor": "white"
           }
          },
          "shapedefaults": {
           "line": {
            "color": "#2a3f5f"
           }
          },
          "ternary": {
           "aaxis": {
            "gridcolor": "white",
            "linecolor": "white",
            "ticks": ""
           },
           "baxis": {
            "gridcolor": "white",
            "linecolor": "white",
            "ticks": ""
           },
           "bgcolor": "#E5ECF6",
           "caxis": {
            "gridcolor": "white",
            "linecolor": "white",
            "ticks": ""
           }
          },
          "title": {
           "x": 0.05
          },
          "xaxis": {
           "automargin": true,
           "gridcolor": "white",
           "linecolor": "white",
           "ticks": "",
           "title": {
            "standoff": 15
           },
           "zerolinecolor": "white",
           "zerolinewidth": 2
          },
          "yaxis": {
           "automargin": true,
           "gridcolor": "white",
           "linecolor": "white",
           "ticks": "",
           "title": {
            "standoff": 15
           },
           "zerolinecolor": "white",
           "zerolinewidth": 2
          }
         }
        },
        "title": {
         "font": {
          "size": 20
         }
        },
        "width": 800,
        "xaxis": {
         "linecolor": "black",
         "linewidth": 2,
         "showline": true,
         "tickfont": {
          "size": 20
         },
         "title": {
          "font": {
           "size": 20
          }
         }
        },
        "yaxis": {
         "dtick": 0.5,
         "gridcolor": "gainsboro",
         "gridwidth": 0.5,
         "linecolor": "black",
         "linewidth": 2,
         "range": [
          0,
          1.52
         ],
         "showgrid": true,
         "showline": true,
         "tickfont": {
          "size": 20
         },
         "title": {
          "font": {
           "size": 20
          },
          "text": "Energy"
         }
        }
       }
      }
     },
     "metadata": {},
     "output_type": "display_data"
    }
   ],
   "source": [
    "# GPU vs CPU speedup and energy\n",
    "\n",
    "klt_gpu_ms = 19840.6\n",
    "klt_gpu_mw = 4335\n",
    "klt_cpu_ms = 64783\n",
    "klt_cpu_mw = 1506\n",
    "\n",
    "harris_gpu_ms = 12990.3\n",
    "harris_gpu_mw = 3912\n",
    "harris_cpu_ms = 81832.3\n",
    "harris_cpu_mw = 1218\n",
    "\n",
    "optflow_gpu_ms = 16725.2\n",
    "optflow_gpu_mw = 3579\n",
    "optflow_cpu_ms = 49963.5\n",
    "optflow_cpu_mw = 1208\n",
    "\n",
    "distort_gpu_ms = 19548\n",
    "distort_gpu_mw = 798\n",
    "distort_cpu_ms = 56640.8\n",
    "distort_cpu_mw = 1590\n",
    "\n",
    "template_gpu_ms = 69620.7\n",
    "template_gpu_mw = 3982\n",
    "template_cpu_ms = 379611.8\n",
    "template_cpu_mw = 1970\n",
    "\n",
    "klt_gpu_mj = klt_gpu_ms * klt_gpu_mw / 1000 / 10000\n",
    "klt_cpu_mj = klt_cpu_ms * klt_cpu_mw / 1000 / 10000\n",
    "harris_gpu_mj = harris_gpu_ms * harris_gpu_mw / 1000 / 10000\n",
    "harris_cpu_mj = harris_cpu_ms * harris_cpu_mw / 1000 / 10000\n",
    "optflow_gpu_mj = optflow_gpu_ms * optflow_gpu_mw / 1000 / 10000\n",
    "optflow_cpu_mj = optflow_cpu_ms * optflow_cpu_mw / 1000 / 10000\n",
    "distort_gpu_mj = distort_gpu_ms * distort_gpu_mw / 1000 / 10000\n",
    "distort_cpu_mj = distort_cpu_ms * distort_cpu_mw / 1000 / 10000\n",
    "template_gpu_mj = template_gpu_ms * template_gpu_mw / 1000 / 10000\n",
    "template_cpu_mj = template_cpu_ms * template_cpu_mw / 1000 / 10000\n",
    "\n",
    "print(klt_gpu_mj, klt_cpu_mj)\n",
    "print(harris_gpu_mj, harris_cpu_mj)\n",
    "print(optflow_gpu_mj, optflow_cpu_mj)\n",
    "print(distort_gpu_mj, distort_cpu_mj)\n",
    "print(template_gpu_mj, template_cpu_mj)\n",
    "\n",
    "klt_speedup = klt_cpu_ms / klt_gpu_ms\n",
    "harris_speedup = harris_cpu_ms / harris_gpu_ms\n",
    "optflow_speedup = optflow_cpu_ms / optflow_gpu_ms\n",
    "distort_speedup = distort_cpu_ms / distort_gpu_ms\n",
    "template_speedup = template_cpu_ms / template_gpu_ms\n",
    "\n",
    "klt_energy = klt_gpu_mj / klt_cpu_mj\n",
    "harris_energy = harris_gpu_mj / harris_cpu_mj\n",
    "optflow_energy = optflow_gpu_mj / optflow_cpu_mj\n",
    "distort_energy = distort_gpu_mj / distort_cpu_mj\n",
    "template_energy = template_gpu_mj / template_cpu_mj\n",
    "print(klt_energy, harris_energy, optflow_energy, distort_energy, template_energy)\n",
    "\n",
    "geomean_speedup = (klt_speedup * harris_speedup * optflow_speedup * distort_speedup * template_speedup) ** (1/5)\n",
    "geomean_energy = (klt_energy * harris_energy * optflow_energy * distort_energy * template_energy) ** (1/5)\n",
    "\n",
    "x_labels = [\"KLT Tracker\", \"Harris</br></br>Corner\", \"Optical</br></br>Flow\", \"Distortion\", \n",
    "            \"Template</br></br>Matching\", \"Geomean\"]\n",
    "speedups_to_plot = [klt_speedup, harris_speedup, optflow_speedup, distort_speedup, template_speedup, geomean_speedup]\n",
    "energys_to_plot = [klt_energy, harris_energy, optflow_energy, distort_energy, template_energy, geomean_energy]\n",
    "\n",
    "fig0 = go.Figure()\n",
    "fig0.add_trace(\n",
    "    go.Bar(\n",
    "        name=\"CPU\",\n",
    "        x=x_labels,\n",
    "        y=[1, 1, 1, 1, 1, 1],\n",
    "        marker_pattern_shape=patterns[0],\n",
    "    )\n",
    ")\n",
    "fig0.add_trace(\n",
    "    go.Bar(\n",
    "        name=\"GPU\",\n",
    "        x=x_labels,\n",
    "        y=speedups_to_plot,\n",
    "        marker_pattern_shape=patterns[1],\n",
    "        text = [f'{speedup:.2f}' for speedup in speedups_to_plot],\n",
    "        textposition='outside',\n",
    "        textfont=dict(size=20),\n",
    "    )\n",
    ")\n",
    "\n",
    "# change width and height of the figure\n",
    "fig0.update_layout(\n",
    "    autosize=False,\n",
    "    width=800,\n",
    "    height=250,\n",
    "    # title=\"Normalized Latency\",\n",
    ")\n",
    "# Change the bar mode\n",
    "fig0.update_layout(barmode=\"group\")\n",
    "# add title in middle\n",
    "# fig.update_layout(\n",
    "#     title={\n",
    "#         \"text\": \"Normalized L2 Misses\",\n",
    "#         \"y\": 0.97,\n",
    "#         \"x\": 0.5,\n",
    "#         \"xanchor\": \"center\",\n",
    "#         \"yanchor\": \"top\",\n",
    "#     }\n",
    "# )\n",
    "# change bar gap\n",
    "fig0.update_layout(bargap=0.2, bargroupgap=0)\n",
    "# change x axis title\n",
    "fig0.update_layout(\n",
    "    # xaxis_title=\"Workloads\", \n",
    "    yaxis_title=\"Speedup\")\n",
    "# change y axis range\n",
    "fig0.update_yaxes(range=[0, 9], dtick=2)\n",
    "# change y tick step\n",
    "# change font size\n",
    "fig0.update_layout(xaxis=dict(tickfont=dict(size=20)))\n",
    "fig0.update_layout(yaxis=dict(tickfont=dict(size=20)))\n",
    "fig0.update_layout(title_font_size=20)\n",
    "fig0.update_layout(legend=dict(font=dict(size=20)))\n",
    "fig0.update_layout(xaxis_title_font_size=20)\n",
    "fig0.update_layout(yaxis_title_font_size=20)\n",
    "# remove background\n",
    "fig0.update_layout(plot_bgcolor='rgba(0,0,0,0)')\n",
    "# show y line\n",
    "fig0.update_layout(yaxis=dict(showline=True, linewidth=2, linecolor='black'))\n",
    "fig0.update_layout(xaxis=dict(showline=True, linewidth=2, linecolor='black'))\n",
    "# show grid\n",
    "fig0.update_layout(yaxis=dict(showgrid=True, gridwidth=0.5, gridcolor='gainsboro'))\n",
    "# change legend position to top\n",
    "fig0.update_layout(\n",
    "    legend=dict(\n",
    "        orientation=\"h\",\n",
    "        yanchor=\"bottom\",\n",
    "        y=1,\n",
    "        xanchor=\"left\",\n",
    "        x=0.4,\n",
    "    )\n",
    ")\n",
    "# change margin\n",
    "fig0.update_layout(margin=dict(l=0, r=10, t=0, b=60))\n",
    "\n",
    "fig1 = go.Figure()\n",
    "fig1.add_trace(\n",
    "    go.Bar(\n",
    "        name=\"CPU\",\n",
    "        x=x_labels,\n",
    "        y=[1, 1, 1, 1, 1, 1],\n",
    "        marker_pattern_shape=patterns[0],\n",
    "    )\n",
    ")\n",
    "fig1.add_trace(\n",
    "    go.Bar(\n",
    "        name=\"GPU\",\n",
    "        x=x_labels,\n",
    "        y=energys_to_plot,\n",
    "        marker_pattern_shape=patterns[1],\n",
    "        text = [f'{energy:.2f}' for energy in energys_to_plot],\n",
    "        textposition='outside',\n",
    "        textfont=dict(size=20),\n",
    "    )\n",
    ")\n",
    "\n",
    "# for energy in energys_to_plot:\n",
    "#     fig1.add_annotation(\n",
    "#         x=energys_to_plot.index(energy) + 0.2,\n",
    "#         y=energy + 0.25,\n",
    "#         text=f'{energy:.2f}',\n",
    "#         showarrow=False,\n",
    "#         font=dict(size=20),\n",
    "#     )\n",
    "\n",
    "# change width and height of the figure\n",
    "fig1.update_layout(\n",
    "    autosize=False,\n",
    "    width=800,\n",
    "    height=250,\n",
    "    # title=\"Normalized Latency\",\n",
    ")\n",
    "# Change the bar mode\n",
    "fig1.update_layout(barmode=\"group\")\n",
    "# add title in middle\n",
    "# fig.update_layout(\n",
    "#     title={\n",
    "#         \"text\": \"Normalized L2 Misses\",\n",
    "#         \"y\": 0.97,\n",
    "#         \"x\": 0.5,\n",
    "#         \"xanchor\": \"center\",\n",
    "#         \"yanchor\": \"top\",\n",
    "#     }\n",
    "# )\n",
    "# change bar gap\n",
    "fig1.update_layout(bargap=0.2, bargroupgap=0)\n",
    "# change x axis title\n",
    "fig1.update_layout(\n",
    "    # xaxis_title=\"Workloads\", \n",
    "    yaxis_title=\"Energy\")\n",
    "# change y axis range\n",
    "fig1.update_yaxes(range=[0, 1.52], dtick=0.5)\n",
    "# change y tick step\n",
    "# change font size\n",
    "fig1.update_layout(xaxis=dict(tickfont=dict(size=20)))\n",
    "fig1.update_layout(yaxis=dict(tickfont=dict(size=20)))\n",
    "fig1.update_layout(title_font_size=20)\n",
    "fig1.update_layout(legend=dict(font=dict(size=20)))\n",
    "fig1.update_layout(xaxis_title_font_size=20)\n",
    "fig1.update_layout(yaxis_title_font_size=20)\n",
    "# remove background\n",
    "fig1.update_layout(plot_bgcolor='rgba(0,0,0,0)')\n",
    "# change legend position to top\n",
    "fig1.update_layout(\n",
    "    legend=dict(\n",
    "        orientation=\"h\",\n",
    "        yanchor=\"bottom\",\n",
    "        y=1,\n",
    "        xanchor=\"left\",\n",
    "        x=0.4,\n",
    "    )\n",
    ")\n",
    "# change margin\n",
    "fig1.update_layout(margin=dict(l=0, r=10, t=0, b=60))\n",
    "# show y line\n",
    "fig1.update_layout(yaxis=dict(showline=True, linewidth=2, linecolor='black'))\n",
    "fig1.update_layout(xaxis=dict(showline=True, linewidth=2, linecolor='black'))\n",
    "# show grid\n",
    "fig1.update_layout(yaxis=dict(showgrid=True, gridwidth=0.5, gridcolor='gainsboro'))\n",
    "# display x label in multiple lines\n",
    "\n",
    "fig0.show()\n",
    "fig1.show()\n",
    "\n",
    "plotly.io.write_image(fig0, \"/Users/pan/Documents/GitHub/ar_vr_gpu_overleaf/Figures/Power15WSpeedup.pdf\", format=\"pdf\")\n",
    "plotly.io.write_image(fig1, \"/Users/pan/Documents/GitHub/ar_vr_gpu_overleaf/Figures/Power15WEnergy.pdf\", format=\"pdf\")"
   ]
  },
  {
   "cell_type": "code",
   "execution_count": 437,
   "metadata": {},
   "outputs": [
    {
     "data": {
      "application/vnd.plotly.v1+json": {
       "config": {
        "plotlyServerURL": "https://plot.ly"
       },
       "data": [
        {
         "marker": {
          "pattern": {
           "shape": ""
          }
         },
         "name": "Rendering<br>Only",
         "type": "bar",
         "x": [
          "PT2",
          "PT4",
          "IT2",
          "IT4",
          "SPL2",
          "SPL4",
          "GeoMean"
         ],
         "y": [
          1,
          1,
          1,
          1,
          1,
          1
         ]
        },
        {
         "marker": {
          "pattern": {
           "shape": "/"
          }
         },
         "name": "SM<br>Only",
         "type": "bar",
         "x": [
          "PT2",
          "PT4",
          "IT2",
          "IT4",
          "SPL2",
          "SPL4",
          "GeoMean"
         ],
         "y": [
          2.0457396418313136,
          1.957907316280657,
          1.8437161107573883,
          1.7826895843523287,
          1.7208881505395843,
          1.9611427291786783
         ]
        },
        {
         "marker": {
          "pattern": {
           "shape": "\\"
          }
         },
         "name": "Full<br>Chip",
         "type": "bar",
         "x": [
          "PT2",
          "PT4",
          "IT2",
          "IT4",
          "SPL2",
          "SPL4",
          "GeoMean"
         ],
         "y": [
          1.9499821900885947,
          1.97325319833086,
          1.625249877343766,
          1.678027344500242,
          1.7954355155953095,
          1.8834252602508952
         ]
        },
        {
         "marker": {
          "pattern": {
           "shape": "x"
          }
         },
         "name": "Fine<br>Grained",
         "type": "bar",
         "x": [
          "PT2",
          "PT4",
          "IT2",
          "IT4",
          "SPL2",
          "SPL4",
          "GeoMean"
         ],
         "y": [
          1.553613138409537,
          1.5477010071757318,
          1.1591418985756,
          1.2628687909572112,
          1.2378532054739422,
          1.2588327474900665
         ]
        }
       ],
       "layout": {
        "autosize": false,
        "bargap": 0.2,
        "bargroupgap": 0,
        "barmode": "group",
        "height": 250,
        "legend": {
         "font": {
          "size": 25
         },
         "orientation": "h",
         "x": 0.05,
         "xanchor": "left",
         "y": 1,
         "yanchor": "bottom"
        },
        "margin": {
         "b": 60,
         "l": 0,
         "r": 10,
         "t": 0
        },
        "plot_bgcolor": "rgba(0,0,0,0)",
        "template": {
         "data": {
          "bar": [
           {
            "error_x": {
             "color": "#2a3f5f"
            },
            "error_y": {
             "color": "#2a3f5f"
            },
            "marker": {
             "line": {
              "color": "#E5ECF6",
              "width": 0.5
             },
             "pattern": {
              "fillmode": "overlay",
              "size": 10,
              "solidity": 0.2
             }
            },
            "type": "bar"
           }
          ],
          "barpolar": [
           {
            "marker": {
             "line": {
              "color": "#E5ECF6",
              "width": 0.5
             },
             "pattern": {
              "fillmode": "overlay",
              "size": 10,
              "solidity": 0.2
             }
            },
            "type": "barpolar"
           }
          ],
          "carpet": [
           {
            "aaxis": {
             "endlinecolor": "#2a3f5f",
             "gridcolor": "white",
             "linecolor": "white",
             "minorgridcolor": "white",
             "startlinecolor": "#2a3f5f"
            },
            "baxis": {
             "endlinecolor": "#2a3f5f",
             "gridcolor": "white",
             "linecolor": "white",
             "minorgridcolor": "white",
             "startlinecolor": "#2a3f5f"
            },
            "type": "carpet"
           }
          ],
          "choropleth": [
           {
            "colorbar": {
             "outlinewidth": 0,
             "ticks": ""
            },
            "type": "choropleth"
           }
          ],
          "contour": [
           {
            "colorbar": {
             "outlinewidth": 0,
             "ticks": ""
            },
            "colorscale": [
             [
              0,
              "#0d0887"
             ],
             [
              0.1111111111111111,
              "#46039f"
             ],
             [
              0.2222222222222222,
              "#7201a8"
             ],
             [
              0.3333333333333333,
              "#9c179e"
             ],
             [
              0.4444444444444444,
              "#bd3786"
             ],
             [
              0.5555555555555556,
              "#d8576b"
             ],
             [
              0.6666666666666666,
              "#ed7953"
             ],
             [
              0.7777777777777778,
              "#fb9f3a"
             ],
             [
              0.8888888888888888,
              "#fdca26"
             ],
             [
              1,
              "#f0f921"
             ]
            ],
            "type": "contour"
           }
          ],
          "contourcarpet": [
           {
            "colorbar": {
             "outlinewidth": 0,
             "ticks": ""
            },
            "type": "contourcarpet"
           }
          ],
          "heatmap": [
           {
            "colorbar": {
             "outlinewidth": 0,
             "ticks": ""
            },
            "colorscale": [
             [
              0,
              "#0d0887"
             ],
             [
              0.1111111111111111,
              "#46039f"
             ],
             [
              0.2222222222222222,
              "#7201a8"
             ],
             [
              0.3333333333333333,
              "#9c179e"
             ],
             [
              0.4444444444444444,
              "#bd3786"
             ],
             [
              0.5555555555555556,
              "#d8576b"
             ],
             [
              0.6666666666666666,
              "#ed7953"
             ],
             [
              0.7777777777777778,
              "#fb9f3a"
             ],
             [
              0.8888888888888888,
              "#fdca26"
             ],
             [
              1,
              "#f0f921"
             ]
            ],
            "type": "heatmap"
           }
          ],
          "heatmapgl": [
           {
            "colorbar": {
             "outlinewidth": 0,
             "ticks": ""
            },
            "colorscale": [
             [
              0,
              "#0d0887"
             ],
             [
              0.1111111111111111,
              "#46039f"
             ],
             [
              0.2222222222222222,
              "#7201a8"
             ],
             [
              0.3333333333333333,
              "#9c179e"
             ],
             [
              0.4444444444444444,
              "#bd3786"
             ],
             [
              0.5555555555555556,
              "#d8576b"
             ],
             [
              0.6666666666666666,
              "#ed7953"
             ],
             [
              0.7777777777777778,
              "#fb9f3a"
             ],
             [
              0.8888888888888888,
              "#fdca26"
             ],
             [
              1,
              "#f0f921"
             ]
            ],
            "type": "heatmapgl"
           }
          ],
          "histogram": [
           {
            "marker": {
             "pattern": {
              "fillmode": "overlay",
              "size": 10,
              "solidity": 0.2
             }
            },
            "type": "histogram"
           }
          ],
          "histogram2d": [
           {
            "colorbar": {
             "outlinewidth": 0,
             "ticks": ""
            },
            "colorscale": [
             [
              0,
              "#0d0887"
             ],
             [
              0.1111111111111111,
              "#46039f"
             ],
             [
              0.2222222222222222,
              "#7201a8"
             ],
             [
              0.3333333333333333,
              "#9c179e"
             ],
             [
              0.4444444444444444,
              "#bd3786"
             ],
             [
              0.5555555555555556,
              "#d8576b"
             ],
             [
              0.6666666666666666,
              "#ed7953"
             ],
             [
              0.7777777777777778,
              "#fb9f3a"
             ],
             [
              0.8888888888888888,
              "#fdca26"
             ],
             [
              1,
              "#f0f921"
             ]
            ],
            "type": "histogram2d"
           }
          ],
          "histogram2dcontour": [
           {
            "colorbar": {
             "outlinewidth": 0,
             "ticks": ""
            },
            "colorscale": [
             [
              0,
              "#0d0887"
             ],
             [
              0.1111111111111111,
              "#46039f"
             ],
             [
              0.2222222222222222,
              "#7201a8"
             ],
             [
              0.3333333333333333,
              "#9c179e"
             ],
             [
              0.4444444444444444,
              "#bd3786"
             ],
             [
              0.5555555555555556,
              "#d8576b"
             ],
             [
              0.6666666666666666,
              "#ed7953"
             ],
             [
              0.7777777777777778,
              "#fb9f3a"
             ],
             [
              0.8888888888888888,
              "#fdca26"
             ],
             [
              1,
              "#f0f921"
             ]
            ],
            "type": "histogram2dcontour"
           }
          ],
          "mesh3d": [
           {
            "colorbar": {
             "outlinewidth": 0,
             "ticks": ""
            },
            "type": "mesh3d"
           }
          ],
          "parcoords": [
           {
            "line": {
             "colorbar": {
              "outlinewidth": 0,
              "ticks": ""
             }
            },
            "type": "parcoords"
           }
          ],
          "pie": [
           {
            "automargin": true,
            "type": "pie"
           }
          ],
          "scatter": [
           {
            "fillpattern": {
             "fillmode": "overlay",
             "size": 10,
             "solidity": 0.2
            },
            "type": "scatter"
           }
          ],
          "scatter3d": [
           {
            "line": {
             "colorbar": {
              "outlinewidth": 0,
              "ticks": ""
             }
            },
            "marker": {
             "colorbar": {
              "outlinewidth": 0,
              "ticks": ""
             }
            },
            "type": "scatter3d"
           }
          ],
          "scattercarpet": [
           {
            "marker": {
             "colorbar": {
              "outlinewidth": 0,
              "ticks": ""
             }
            },
            "type": "scattercarpet"
           }
          ],
          "scattergeo": [
           {
            "marker": {
             "colorbar": {
              "outlinewidth": 0,
              "ticks": ""
             }
            },
            "type": "scattergeo"
           }
          ],
          "scattergl": [
           {
            "marker": {
             "colorbar": {
              "outlinewidth": 0,
              "ticks": ""
             }
            },
            "type": "scattergl"
           }
          ],
          "scattermapbox": [
           {
            "marker": {
             "colorbar": {
              "outlinewidth": 0,
              "ticks": ""
             }
            },
            "type": "scattermapbox"
           }
          ],
          "scatterpolar": [
           {
            "marker": {
             "colorbar": {
              "outlinewidth": 0,
              "ticks": ""
             }
            },
            "type": "scatterpolar"
           }
          ],
          "scatterpolargl": [
           {
            "marker": {
             "colorbar": {
              "outlinewidth": 0,
              "ticks": ""
             }
            },
            "type": "scatterpolargl"
           }
          ],
          "scatterternary": [
           {
            "marker": {
             "colorbar": {
              "outlinewidth": 0,
              "ticks": ""
             }
            },
            "type": "scatterternary"
           }
          ],
          "surface": [
           {
            "colorbar": {
             "outlinewidth": 0,
             "ticks": ""
            },
            "colorscale": [
             [
              0,
              "#0d0887"
             ],
             [
              0.1111111111111111,
              "#46039f"
             ],
             [
              0.2222222222222222,
              "#7201a8"
             ],
             [
              0.3333333333333333,
              "#9c179e"
             ],
             [
              0.4444444444444444,
              "#bd3786"
             ],
             [
              0.5555555555555556,
              "#d8576b"
             ],
             [
              0.6666666666666666,
              "#ed7953"
             ],
             [
              0.7777777777777778,
              "#fb9f3a"
             ],
             [
              0.8888888888888888,
              "#fdca26"
             ],
             [
              1,
              "#f0f921"
             ]
            ],
            "type": "surface"
           }
          ],
          "table": [
           {
            "cells": {
             "fill": {
              "color": "#EBF0F8"
             },
             "line": {
              "color": "white"
             }
            },
            "header": {
             "fill": {
              "color": "#C8D4E3"
             },
             "line": {
              "color": "white"
             }
            },
            "type": "table"
           }
          ]
         },
         "layout": {
          "annotationdefaults": {
           "arrowcolor": "#2a3f5f",
           "arrowhead": 0,
           "arrowwidth": 1
          },
          "autotypenumbers": "strict",
          "coloraxis": {
           "colorbar": {
            "outlinewidth": 0,
            "ticks": ""
           }
          },
          "colorscale": {
           "diverging": [
            [
             0,
             "#8e0152"
            ],
            [
             0.1,
             "#c51b7d"
            ],
            [
             0.2,
             "#de77ae"
            ],
            [
             0.3,
             "#f1b6da"
            ],
            [
             0.4,
             "#fde0ef"
            ],
            [
             0.5,
             "#f7f7f7"
            ],
            [
             0.6,
             "#e6f5d0"
            ],
            [
             0.7,
             "#b8e186"
            ],
            [
             0.8,
             "#7fbc41"
            ],
            [
             0.9,
             "#4d9221"
            ],
            [
             1,
             "#276419"
            ]
           ],
           "sequential": [
            [
             0,
             "#0d0887"
            ],
            [
             0.1111111111111111,
             "#46039f"
            ],
            [
             0.2222222222222222,
             "#7201a8"
            ],
            [
             0.3333333333333333,
             "#9c179e"
            ],
            [
             0.4444444444444444,
             "#bd3786"
            ],
            [
             0.5555555555555556,
             "#d8576b"
            ],
            [
             0.6666666666666666,
             "#ed7953"
            ],
            [
             0.7777777777777778,
             "#fb9f3a"
            ],
            [
             0.8888888888888888,
             "#fdca26"
            ],
            [
             1,
             "#f0f921"
            ]
           ],
           "sequentialminus": [
            [
             0,
             "#0d0887"
            ],
            [
             0.1111111111111111,
             "#46039f"
            ],
            [
             0.2222222222222222,
             "#7201a8"
            ],
            [
             0.3333333333333333,
             "#9c179e"
            ],
            [
             0.4444444444444444,
             "#bd3786"
            ],
            [
             0.5555555555555556,
             "#d8576b"
            ],
            [
             0.6666666666666666,
             "#ed7953"
            ],
            [
             0.7777777777777778,
             "#fb9f3a"
            ],
            [
             0.8888888888888888,
             "#fdca26"
            ],
            [
             1,
             "#f0f921"
            ]
           ]
          },
          "colorway": [
           "#636efa",
           "#EF553B",
           "#00cc96",
           "#ab63fa",
           "#FFA15A",
           "#19d3f3",
           "#FF6692",
           "#B6E880",
           "#FF97FF",
           "#FECB52"
          ],
          "font": {
           "color": "#2a3f5f"
          },
          "geo": {
           "bgcolor": "white",
           "lakecolor": "white",
           "landcolor": "#E5ECF6",
           "showlakes": true,
           "showland": true,
           "subunitcolor": "white"
          },
          "hoverlabel": {
           "align": "left"
          },
          "hovermode": "closest",
          "mapbox": {
           "style": "light"
          },
          "paper_bgcolor": "white",
          "plot_bgcolor": "#E5ECF6",
          "polar": {
           "angularaxis": {
            "gridcolor": "white",
            "linecolor": "white",
            "ticks": ""
           },
           "bgcolor": "#E5ECF6",
           "radialaxis": {
            "gridcolor": "white",
            "linecolor": "white",
            "ticks": ""
           }
          },
          "scene": {
           "xaxis": {
            "backgroundcolor": "#E5ECF6",
            "gridcolor": "white",
            "gridwidth": 2,
            "linecolor": "white",
            "showbackground": true,
            "ticks": "",
            "zerolinecolor": "white"
           },
           "yaxis": {
            "backgroundcolor": "#E5ECF6",
            "gridcolor": "white",
            "gridwidth": 2,
            "linecolor": "white",
            "showbackground": true,
            "ticks": "",
            "zerolinecolor": "white"
           },
           "zaxis": {
            "backgroundcolor": "#E5ECF6",
            "gridcolor": "white",
            "gridwidth": 2,
            "linecolor": "white",
            "showbackground": true,
            "ticks": "",
            "zerolinecolor": "white"
           }
          },
          "shapedefaults": {
           "line": {
            "color": "#2a3f5f"
           }
          },
          "ternary": {
           "aaxis": {
            "gridcolor": "white",
            "linecolor": "white",
            "ticks": ""
           },
           "baxis": {
            "gridcolor": "white",
            "linecolor": "white",
            "ticks": ""
           },
           "bgcolor": "#E5ECF6",
           "caxis": {
            "gridcolor": "white",
            "linecolor": "white",
            "ticks": ""
           }
          },
          "title": {
           "x": 0.05
          },
          "xaxis": {
           "automargin": true,
           "gridcolor": "white",
           "linecolor": "white",
           "ticks": "",
           "title": {
            "standoff": 15
           },
           "zerolinecolor": "white",
           "zerolinewidth": 2
          },
          "yaxis": {
           "automargin": true,
           "gridcolor": "white",
           "linecolor": "white",
           "ticks": "",
           "title": {
            "standoff": 15
           },
           "zerolinecolor": "white",
           "zerolinewidth": 2
          }
         }
        },
        "title": {
         "font": {
          "size": 25
         }
        },
        "width": 700,
        "xaxis": {
         "linecolor": "black",
         "linewidth": 2,
         "showline": true,
         "tickfont": {
          "size": 25
         },
         "title": {
          "font": {
           "size": 25
          },
          "text": "Workloads"
         }
        },
        "yaxis": {
         "dtick": 1,
         "gridcolor": "gainsboro",
         "gridwidth": 0.5,
         "linecolor": "black",
         "linewidth": 2,
         "range": [
          0,
          2.6
         ],
         "showgrid": true,
         "showline": true,
         "tickfont": {
          "size": 25
         },
         "title": {
          "font": {
           "size": 25
          },
          "text": "Latency"
         }
        }
       }
      }
     },
     "metadata": {},
     "output_type": "display_data"
    }
   ],
   "source": [
    "mesa8_baseline = [1319490, 2751357, 629809, 780998, 4047467, 8198723]\n",
    "mesa8_mps = [2699333, 5386902, 1161189, 1392277, 6965238, 16078866]\n",
    "mesa8_mig = [2572982,5429124,1023597,1310536,7266966,15441682]\n",
    "mesa8_fg = [2049977,4258278,730038,986298,5010170,10320821]\n",
    "\n",
    "mesa8_baseline_speedup = [x/y for x,y in zip(mesa8_baseline, mesa8_baseline)]\n",
    "mesa8_mps_speedup = [x/y for x,y in zip(mesa8_mps, mesa8_baseline)]\n",
    "mesa8_mig_speedup = [x/y for x,y in zip(mesa8_mig, mesa8_baseline)]\n",
    "mesa8_fg_speedup = [x/y for x,y in zip(mesa8_fg, mesa8_baseline)]\n",
    "\n",
    "x_mesa_labels = []\n",
    "x_vio_labels = []\n",
    "x_holo_labels = []\n",
    "x_nn_labels = []\n",
    "x_slam_labels = []\n",
    "x_names = []\n",
    "x_sizes = []\n",
    "font_size = 25\n",
    "\n",
    "for wl in workloads:\n",
    "    if \"sponza\" in wl:\n",
    "        break\n",
    "    x_names.append(wl.split(\"_\")[0])\n",
    "    x_sizes.append(wl.split(\"_\")[-1])\n",
    "    x_mesa_labels.append(wl_to_name[wl])\n",
    "    x_vio_labels.append(\"VIO\")\n",
    "    x_holo_labels.append(\"HOLO\")\n",
    "    x_nn_labels.append(\"NN\")\n",
    "    x_slam_labels.append(\"SLAM\")\n",
    "\n",
    "x_mesa_labels.append(\"GeoMean\")\n",
    "x_vio_labels.append(\"VIO\")\n",
    "x_holo_labels.append(\"HOLO\")\n",
    "x_nn_labels.append(\"NN\")\n",
    "x_slam_labels.append(\"SLAM\")\n",
    "\n",
    "fig0 = go.Figure()\n",
    "fig0.add_trace(\n",
    "    go.Bar(\n",
    "        name=\"Rendering<br>Only\",\n",
    "        x=x_mesa_labels,\n",
    "        y=mesa8_baseline_speedup,\n",
    "        marker_pattern_shape=patterns[0],\n",
    "    )\n",
    ")\n",
    "fig0.add_trace(\n",
    "    go.Bar(\n",
    "        name=\"SM<br>Only\",\n",
    "        x=x_mesa_labels,\n",
    "        y=mesa8_mps_speedup,\n",
    "        marker_pattern_shape=patterns[1],\n",
    "    )\n",
    ")\n",
    "fig0.add_trace(\n",
    "    go.Bar(\n",
    "        name=\"Full<br>Chip\",\n",
    "        x=x_mesa_labels,\n",
    "        y=mesa8_mig_speedup,\n",
    "        marker_pattern_shape=patterns[2],\n",
    "    )\n",
    ")\n",
    "fig0.add_trace(\n",
    "    go.Bar(\n",
    "        name=\"Fine<br>Grained\",\n",
    "        x=x_mesa_labels,\n",
    "        y=mesa8_fg_speedup,\n",
    "        marker_pattern_shape=patterns[3],\n",
    "    )\n",
    ")\n",
    "\n",
    "# change width and height of the figure\n",
    "fig0.update_layout(\n",
    "    autosize=False,\n",
    "    width=700,\n",
    "    height=250,\n",
    "    # title=\"Normalized Latency\",\n",
    ")\n",
    "# Change the bar mode\n",
    "fig0.update_layout(barmode=\"group\")\n",
    "# add title in middle\n",
    "# fig.update_layout(\n",
    "#     title={\n",
    "#         \"text\": \"Normalized L2 Misses\",\n",
    "#         \"y\": 0.97,\n",
    "#         \"x\": 0.5,\n",
    "#         \"xanchor\": \"center\",\n",
    "#         \"yanchor\": \"top\",\n",
    "#     }\n",
    "# )\n",
    "# change bar gap\n",
    "fig0.update_layout(bargap=0.2, bargroupgap=0)\n",
    "# change x axis title\n",
    "fig0.update_layout(\n",
    "    xaxis_title=\"Workloads\", \n",
    "    yaxis_title=\"Latency\")\n",
    "# change y axis range\n",
    "fig0.update_yaxes(range=[0, 2.6], dtick=1)\n",
    "# change y tick step\n",
    "# change font size\n",
    "fig0.update_layout(xaxis=dict(tickfont=dict(size=font_size)))\n",
    "fig0.update_layout(yaxis=dict(tickfont=dict(size=font_size)))\n",
    "fig0.update_layout(title_font_size=font_size)\n",
    "fig0.update_layout(legend=dict(font=dict(size=font_size)))\n",
    "fig0.update_layout(xaxis_title_font_size=font_size)\n",
    "fig0.update_layout(yaxis_title_font_size=font_size)\n",
    "# remove background\n",
    "fig0.update_layout(plot_bgcolor='rgba(0,0,0,0)')\n",
    "# show y line\n",
    "fig0.update_layout(yaxis=dict(showline=True, linewidth=2, linecolor='black'))\n",
    "fig0.update_layout(xaxis=dict(showline=True, linewidth=2, linecolor='black'))\n",
    "# show grid\n",
    "fig0.update_layout(yaxis=dict(showgrid=True, gridwidth=0.5, gridcolor='gainsboro'))\n",
    "# change legend position to top\n",
    "fig0.update_layout(\n",
    "    legend=dict(\n",
    "        orientation=\"h\",\n",
    "        yanchor=\"bottom\",\n",
    "        y=1,\n",
    "        xanchor=\"left\",\n",
    "        x=0.05,\n",
    "    )\n",
    ")\n",
    "# change margin\n",
    "fig0.update_layout(margin=dict(l=0, r=10, t=0, b=60))\n",
    "\n",
    "fig0.show()\n",
    "plotly.io.write_image(fig0, \"/Users/pan/Documents/GitHub/ar_vr_gpu_overleaf/Figures/baseline_partition.pdf\", format=\"pdf\")\n"
   ]
  },
  {
   "cell_type": "code",
   "execution_count": null,
   "metadata": {},
   "outputs": [],
   "source": []
  }
 ],
 "metadata": {
  "kernelspec": {
   "display_name": "Python 3",
   "language": "python",
   "name": "python3"
  },
  "language_info": {
   "codemirror_mode": {
    "name": "ipython",
    "version": 3
   },
   "file_extension": ".py",
   "mimetype": "text/x-python",
   "name": "python",
   "nbconvert_exporter": "python",
   "pygments_lexer": "ipython3",
   "version": "3.9.6"
  },
  "orig_nbformat": 4
 },
 "nbformat": 4,
 "nbformat_minor": 2
}
